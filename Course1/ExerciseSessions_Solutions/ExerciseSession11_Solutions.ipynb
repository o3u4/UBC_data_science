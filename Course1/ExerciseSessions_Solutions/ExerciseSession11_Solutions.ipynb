{
 "cells": [
  {
   "cell_type": "markdown",
   "id": "2de1e972-ad9a-47b4-9943-efaed3a5e7dd",
   "metadata": {},
   "source": [
    "# **Exercise Session 11 - Solutions**\n",
    "# Developed by Biljana Jonoska Stojkova, PhD\n",
    "# Revised by Johnson Chen\n",
    "\n"
   ]
  },
  {
   "cell_type": "markdown",
   "id": "2c9501a1-f710-413b-bab8-deb0d2f12d63",
   "metadata": {},
   "source": [
    "## **Lecture 11 - Correlated Data Structures and Linear Mixed Effects Models**\n",
    "\n",
    "Today's lecture gave you insights into how to properly answer the research questions identified in our Copper study, while considering the complex data structures. Today's exercise will focus on answering a predefined research question, and we will practice determining which of the statistical concepts discussed in today's lecture are applicable to our Copper study dataset and research questions.\n",
    "\n",
    "On Day 5, we presented a data-driven story, and various teams explored different aspects of the data. Some teams made plots to answer the primary and secondary research questions, while other teams made plots to explore the bivariate relationships of the structural variables in the dataset. So far, we have seen the exploratory plots about the primary and secondary research questions, and we have the exploratory analysis story.\n",
    "\n",
    "Now, it is time to enrich our data-driven story from the graphs by inserting numbers into the story. We need to identify which statistical methods would be appropriate to enrich our data-driven story with numerical insights.\n",
    "\n",
    "We will keep the same teams as those on the previous days. Each team will continue working on the research question and variables assigned to you on Day 2, so please open the Exercise Session2.ipynb to refresh your memory on the primary and secondary statistical hypotheses for the Copper study. Each team member will have to answer the questions and upload their Jupyter Notebook on Canvas."
   ]
  },
  {
   "cell_type": "markdown",
   "id": "9a95669c-483b-430f-b956-aa52fce65917",
   "metadata": {},
   "source": [
    "### **Today's Learning Goal:**\n",
    "\n",
    "- Identify which statistical concepts discussed today can be useful in adding scientific rigor towards answering the primary and secondary statistical hypotheses of the Copper study.\n",
    "\n",
    "- Determine if repeated measures ANOVA or linear mixed effects model is appropriate to handle the complexities in the Copper dataset and the primary and secondary statistical hypotheses. Will it enrich our story from Day 5?\n",
    "\n",
    "- If repeated measures ANOVA or linear mixed effects model is appropriate for our dataset, justify whether the dataset violates the assumptions of these tests.\n",
    "\n",
    "- Consider whether data transformation would be appropriate to apply the repeated measures ANOVA or linear mixed effects model. For example, should the data be aggregated? If so, at which level (e.g., at stanchion, at vehicle, or at city level)?\n",
    "\n",
    "- Ensure you upload your Jupyter Notebook at the end of the day."
   ]
  },
  {
   "cell_type": "markdown",
   "id": "d4d5c87b-c573-4fac-a84c-ef69320e10ef",
   "metadata": {},
   "source": [
    "### **Tasks for All Teams**\n",
    "\n",
    "You will continue working within your team.\n",
    "\n",
    "- Recall the primary research question from Days 2 and 3: The mean `log 10 CFU` for Copper products is lower by 1 (on the log 10 scale) than the mean `log 10 CFU` for Controls, across all public transit vehicles and across two Canadian Cities (Vancouver and Toronto).\n",
    "\n",
    "- Determine whether repeated measures ANOVA or a linear mixed effects model is appropriate to answer your research question.\n",
    "\n",
    "- Justify your decision based on the research question of interest and data structures.\n",
    "\n",
    "- Discuss which assumptions may be violated and how useful and trustworthy the results would be."
   ]
  },
  {
   "cell_type": "markdown",
   "id": "5936b67d-618b-47ef-a117-d488e732bea3",
   "metadata": {},
   "source": [
    "#### **Assumptions of Repeated Measures ANOVA:**\n",
    "\n",
    "ARMA1. Comparison groups are two or more samples (can be correlated for repeated measures ANOVA).\n",
    "\n",
    "ARMA2. Sphericity Assumption: The difference in the outcome variable of interest between any two pairs of groups has equal variance. If the sphericity assumption is violated, then the p-values obtained from the repeated measures ANOVA are likely to be biased.\n",
    "\n",
    "ARMA3. The outcome variable of interest is normally distributed within each comparison group.\n",
    "\n",
    "ALMM4. The covariance structure of random effects relies on the strong assumption that the within-subject covariance structure is compound symmetric, also known as exchangeable. With compound symmetry, the variances at each repeated measure within a subject are expected to be equal, and all of the covariances are expected to be equal to one another. If the within-subject covariance structure is not compound symmetric, then the p-values obtained from the repeated measures ANOVA are likely to be biased.\n",
    "\n",
    "ALMM5. The random effects (e.g., subject-specific intercepts) should be normally distributed with a mean of zero."
   ]
  },
  {
   "cell_type": "markdown",
   "id": "c67ba768-b76d-490a-af46-ac17c8398876",
   "metadata": {},
   "source": [
    "**Assumptions of Linear Mixed Effects Model:**\n",
    "\n",
    "ALMM1. **Linear Relationship:** There exists a linear relationship between the variables x and y.\n",
    "  \n",
    "ALMM2. **Homoscedasticity:** The residuals have constant variance at every level of the variable x.\n",
    "\n",
    "ALMM3. **Normality of the Residuals:** Residuals should be approximately normally distributed.\n",
    "\n",
    "ALMM4. **Covariance Structure of Random Effects:** The covariance structure of random effects should be specified correctly. Mixed effects models can be very flexible and estimate the full covariance structure from the data. However, this flexibility comes at the expense of possible misspecification errors in the model specification due to the complexity of the mixed effects models.\n",
    "\n",
    "ALMM5. **Distribution of Random Effects:** The random effects (e.g., subject-specific intercepts) should be normally distributed with a mean of zero.\n",
    "\n",
    "Let's load the dataset again and have a look:"
   ]
  },
  {
   "cell_type": "markdown",
   "id": "0e5be1e1-15ba-4d44-a2cb-f64f5bf211bb",
   "metadata": {},
   "source": [
    "<img src=\"../images/CopperStudyStructure.drawio.png\">"
   ]
  },
  {
   "cell_type": "code",
   "execution_count": null,
   "id": "634c163f-ebee-498c-af05-f6fb8a97659f",
   "metadata": {},
   "outputs": [],
   "source": [
    "#Run this code\n",
    "library(tidyverse)\n",
    "ds=read_csv(\"../data/CopperData.csv\")\n",
    "head(ds)"
   ]
  },
  {
   "cell_type": "markdown",
   "id": "95861174-9394-4659-b1d3-f91f108b998f",
   "metadata": {},
   "source": [
    "#### **Teams 1 - 18:**\n",
    "\n",
    "On Day 3, you presented the primary research question and statistical hypothesis for the Copper Study. Today you will assess whether repeated measures ANOVA or linear mixed effects models are appropriate to answer the primary statistical hypothesis for the Copper Study. Start by assessing Assumption 1 (ARMA1 and ALMM1) of each method (repeated measures ANOVA or linear mixed effects model).\n",
    "\n",
    "**Q1.** How many comparison groups are there in the Copper Study? What are the main fixed effects and what are the random effects? Specify the model using plain English: \n",
    "  - i). response variable\n",
    "  - ii). main fixed effect variable\n",
    "  - iii). random effects variables \n",
    "  - iv). identify if there is any nesting in the random effect variables (i.e., is Stanchion nested within Vehicle, is Vehicle nested within City?).\n",
    "\n",
    "**Note:** This question can be answered based on the primary research question and study design. Recall the primary research question: The mean `log 10 CFU` for Copper products is lower by 1 (on the log 10 scale) than the mean `log 10 CFU` for Controls, across all public transit vehicles and across two Canadian Cities (Vancouver and Toronto). \n",
    "\n",
    "We have two correlated comparison groups (Controls and Copper). Repeated measures ANOVA (as well as ANOVA) requires categorical comparison groups, while linear mixed effects models can work with both categorical or continuous explanatory variables, and the linearity assumption only applies to the case when the explanatory variable is continuous. Based on this understanding of our research question, data structures, and assumptions of the repeated measures ANOVA and linear mixed effects models, are any or both of these methods applicable? If so, how would you specify the model?\n"
   ]
  },
  {
   "cell_type": "code",
   "execution_count": null,
   "id": "9a8ee58a-165f-42a8-8fcc-cb7226369a4d",
   "metadata": {},
   "outputs": [],
   "source": [
    "#Run this code to Answer Q1\n",
    "# first run the repeated measures ANOVA. \n",
    "m1 <- aov(logCFU~Group+Error(Pairing),data=ds)\n",
    "print(summary(m1),signif.stars=FALSE)\n",
    "\n",
    "# Extract fixed effects estimates\n",
    "model_tables <- model.tables(m1, \"means\")\n",
    "\n",
    "cat(\"###########################################\\n\")\n",
    "cat(\"Look at the estimated means for each group\\n\")\n",
    "cat(\"###########################################\\n\")\n",
    "print(model_tables, digits = 4)\n",
    "\n"
   ]
  },
  {
   "cell_type": "code",
   "execution_count": null,
   "id": "dbfbabda-1af6-4b40-b8c2-fd0713a0cbe0",
   "metadata": {},
   "outputs": [],
   "source": [
    "g1 = ds %>% ggplot(aes(sample=logCFU)) + stat_qq()  + stat_qq_line(col = \"red\")+\n",
    "     labs(title=\"QQnorm plots of logCFU for each group\",x=\"Theoretical distribution\",y=\"logCFU\") + \n",
    "     facet_wrap(~Group,scale=\"free\")\n",
    "g1"
   ]
  },
  {
   "cell_type": "code",
   "execution_count": null,
   "id": "7ae2ac96-c377-4120-abaf-6c2691e91436",
   "metadata": {},
   "outputs": [],
   "source": [
    "#Run this code to Answer Q1\n",
    "# first run the linear mixed effects model. \n",
    "library(lme4)\n",
    "m2 <- lmer(logCFU ~ Group + (1 | City/VehicleNumber/Pairing/StanchionID),data=ds)\n",
    "print(summary(m2),signif.stars=FALSE)\n",
    "confint_wald <- confint(m2, method = \"Wald\")[6:7,]\n",
    "print(confint_wald)"
   ]
  },
  {
   "cell_type": "markdown",
   "id": "5c154a21-9d96-4dc7-83f2-92cacc9ededf",
   "metadata": {},
   "source": [
    "**Answer Q1.** \n",
    "\n",
    "i). response variable is `log10CFU`\n",
    "ii). main fixed effect variable is Group\r\n",
    "iii). random effects variable are City, VehicleNumber, Pairing and StanchionIDs\r\n",
    "iv). identify if there is any nesting in the random effect variables (i.e., is Stanchion nested within Vehicle, is Vehicle nested within City?\n",
    "StanchionID is nested within Pairing, Pairing is nested within VehicleNumber, VehicleNumber is nested within City (in R, lme4 package this is the syntax for nested random effect specification (1 | City/VehicleNumber/Pairing/StanchionID)))."
   ]
  },
  {
   "cell_type": "markdown",
   "id": "3ecb425f-6481-4fdc-a579-25e72a20a40e",
   "metadata": {},
   "source": [
    "**Q2.** Are the comparison groups uncorrelated, paired, or correlated? If there are any correlation structures between the groups, are these features of the data violating Assumption 1 of either method, repeated measures ANOVA or linear mixed effects model? Which terms of the specified models (fixed or random effects) are accounting for the correlation between the comparison groups within stanchions?\n",
    "\n"
   ]
  },
  {
   "cell_type": "markdown",
   "id": "382e979e-490b-4894-9e46-819281b037ca",
   "metadata": {},
   "source": [
    "**Answer Q2.**\n",
    "\n",
    "Comparison groups are Paired, so there is a correlation between pairs of StanchionID (Control + Copper pair) between STanchions within a Pair. This correlation need to be properly specified so that the model can see this level of `pairing`. Repeated measures ANOVA allows for specification of only one random effect, and this is the most important level of correlated data, so we specified Pairing as random effect in repeated measures ANOVA, however, the drawback of the repeated measures ANOVA prevents from specifying the other levels of nesting (Pair within Vehicle and Vehicle within City, and also the repeated measures of samples within stanchions). This renders the repeated measures ANOVA un-suitable to answer the primary and secondary research questions of this study, given the data structures complexities."
   ]
  },
  {
   "cell_type": "markdown",
   "id": "27d619a0-a84b-4be6-a56f-1d32709e9c8d",
   "metadata": {},
   "source": [
    "**Assumptions 2: Equal variances in the differences in the outcome between the groups for repeated measures ANOVA, homoscedasticity for linear mixed effect model residuals:**\n",
    "\n",
    "**Q1.** Is there variance in the differences in the response variable between the comparison groups? For repeated measures ANOVA, this assumption can be assessed with Mauchly's test. Note that the sphericity assumption is always satisfied when a repeated measures treatment variable has only two levels (we only have two levels in the comparison Group: Control and Copper). With only two levels, there is only one set of difference scores for logCFU between Controls and Copper, and a scenario with unequal variances cannot occur.\n",
    "\n",
    "**Q2.** Are the residuals of the linear model homoscedastic? \n",
    "\n",
    "**Hint:** Look for the DHARMa plots output, the right-hand plot.\n"
   ]
  },
  {
   "cell_type": "code",
   "execution_count": null,
   "id": "8e91ecc3-a1a0-4620-852b-91efe4d60d7e",
   "metadata": {
    "scrolled": true,
    "tags": []
   },
   "outputs": [],
   "source": [
    "g2 = ds %>% ggplot(aes(y=logCFU, x=Group)) + geom_boxplot()+\n",
    "     labs(title=\"Side-by-side boxplots of logCFU for each group\",x=\"Group\") \n",
    "g2"
   ]
  },
  {
   "cell_type": "code",
   "execution_count": null,
   "id": "46929789-94c2-45a8-8a59-0675bf4f2ee4",
   "metadata": {},
   "outputs": [],
   "source": [
    "# Diagnostics for lmer, source https://cran.r-project.org/web//packages/DHARMa/vignettes/DHARMa.html\n",
    "# Uncomment and run the following cells\n",
    "# install.packages(\"DHARMa\")\n",
    "# library(DHARMa)\n",
    "# simulationOutput <- simulateResiduals(fittedModel = m2, plot = F); \n",
    "# plot(simulationOutput)"
   ]
  },
  {
   "cell_type": "markdown",
   "id": "292ef27b-c978-47df-a2b2-892319703788",
   "metadata": {},
   "source": [
    "**Answer Q1.**   Sphericity assumption of repeated measures ANOVA is satisfied. "
   ]
  },
  {
   "cell_type": "markdown",
   "id": "eba7ee7c-722c-43d2-9a0e-d4f264730734",
   "metadata": {},
   "source": [
    "**Answer Q2.** Yes, the DHARMa plot on the right indicates homogeneity of the residual variance between the comparison groups (the two boxplots show the distribution of the lmer model residuals for each of the comparison groups). So we do not expect heteroscedasticity issues in the lmer.\n",
    "\n",
    "Note: The lmer model has a very complex error structure. The nested random effects (specified by (1 | City/VehicleNumber/Pairing/StanchionID), indicate that the variance in the residuals could be due to any of these levels specified in the random effects (City/VehicleNumber/Pairing/StanchionID). The left-over variability then is captured by the residuals. Since the lmer model relies on heavy assumptions about the distributions of the variables in the lmer, the DHARMa package uses a simulation approach to simulate the residuals. The plots indicate that after accounting for the variability (correlation in the observations within various levels City, VehicleNumber, Pairing, StanchionID, the residuals are complying to the assumptions of the lmer. In addition, DHARMa runs tests for the assumptision (e.g., Kolmogorov Simrnoff for normality of the residuals, Levene test for equality of the residual variance between the two groups, H0: Var_Copper^2 = Var_Control^2, HA: Var_Copper^2 <> Var_Control^2, which would show red color on the DHARMa plots in case of severe violation of the assumptions. These significant p-values could be only artefacts of large sample sizes -- remember, the drawback of the p-values is that given a large sample size, p-values can detect event the smallest deviations from the assumed values, so these need to be assessed throughly. Please see this DHARMa tutorial for more details https://cran.r-project.org/web/packages/DHARMa/vignettes/DHARMa.html ."
   ]
  },
  {
   "cell_type": "markdown",
   "id": "668fd141-4621-4549-9071-871402aedce2",
   "metadata": {},
   "source": [
    "**Assumptions 3: The outcome variable of interest is normally distributed within each comparison group for repeated measures ANOVA, normal residuals for linear mixed effects model residuals:**\n",
    "\n",
    "**Q1.** Is the outcome of interest approximately normally distributed? (ARMA3 for repeated measures ANOVA)\n",
    "\n",
    "**Q2.** Are the residuals of the linear model approximately normal? (ALMM3 for linear mixed effects model) \n",
    "\n",
    "**Hint:** Look at the DHARMa plots output, the left-hand plot."
   ]
  },
  {
   "cell_type": "code",
   "execution_count": null,
   "id": "36bfba3c-dfd5-4d6b-81df-1fbed7edb59e",
   "metadata": {},
   "outputs": [],
   "source": [
    "# Run this code for ARMA3\n",
    "g1 = ds %>% ggplot(aes(x=logCFU)) + geom_histogram() + facet_wrap(~Group)+ labs(title=\"Distribution of logCFU for each group\")\n",
    "g1"
   ]
  },
  {
   "cell_type": "markdown",
   "id": "8de89af4-0ec4-40f5-8c41-44d2095c4eb2",
   "metadata": {},
   "source": [
    "**Answer 1.** QQNorm plots of the logCFU for each group indicate that the outcome of interest is approximately normally distributed."
   ]
  },
  {
   "cell_type": "markdown",
   "id": "cb4adac9-c133-44c2-b312-37626194c727",
   "metadata": {},
   "source": [
    "**Answer 2.** QQnorm plot of the DHARMa residuals indicates that the residuals are approximately normal."
   ]
  },
  {
   "cell_type": "markdown",
   "id": "cf6e59e2-4a6b-425a-9ef9-41de5f870bcf",
   "metadata": {},
   "source": [
    "**Bonus: Assumptions 4 and 5: The covariance structure of random effects and normality of the random effects**\n",
    "\n",
    "**Q1.** Is the covariance structure of the residuals compound symmetric?\n",
    "\n",
    "For repeated measures ANOVA, this translates into: each pairwise difference of the response between repeated measures within-subjects has approximately the same variability. This is related to the sphericity assumption. Since we only have two comparison groups and we consider Pairing to be the subject, we do not need to assess this assumption.\n",
    "\n",
    "**Q2.** In the linear mixed effects model, we specified random effects for all the structural variables in the dataset (`StanchionID`, `Pairing`, `VehicleNumber`, and `City`). So, we have a covariance structure of the residuals within Stanchion ID between samples. The other covariance matrices are for the random effects: between StanchionID within Pairing, between Pairing within VehicleNumbers, and between VehicleNumbers within Cities. The `lme4` R package models only the variances of each random intercept (and random slope) model, assuming covariances between the random effects are 0. Additionally, all the variance estimates of the random effects are obtained under the assumption that the variability of the `logCFU` is approximately the same within each level of these variables (i.e., same variability within Stanchions, Pairings, VehicleNumbers, and Cities). The random effects estimates can be interpreted as between level variability (between Stanchions within VehicleNumber, between Pairing within VehicleNumber, between VehicleNumber within City), while assuming that (within Stanchions variability is the same, Within Pairs variabilities are the same, within Vehcile variability is the same, and within City variability is the same). The lme4 assumption about the variance-covariance structure assumes that the between level variances are different, while the covariances are zero. This is different from the repeated measures ANOVA assumption of compound symetry which expect same between level variances and covariances (same variance between Stanchions, between Pairs, between Vehicles and between Cities, as well as same covariances between Stanchions, Pairs, vehcile numbers and Cities). \n",
    "\n",
    "**Hint:** We will inspect these variances and covariances visually. The need for random slopes can be examined by looking into Spaghetti plots to see if most of the fitted lines are parallel to each other."
   ]
  },
  {
   "cell_type": "code",
   "execution_count": null,
   "id": "a81d074d-593d-4970-8a1f-b869829790a6",
   "metadata": {},
   "outputs": [],
   "source": [
    "#Answer Q1:Visualize logCFU (Within-Stanchion, Between-Sample IDs)\n",
    "ds %>% mutate(StanchionID=factor(StanchionID)) %>% ggplot(aes(x = StanchionID, y = logCFU)) +\n",
    "  geom_boxplot() +\n",
    "  labs(title = \"Boxplot of log CFU for each Stanchion over Sample IDs\",\n",
    "       x = \"Stanchion ID\",\n",
    "       y = \"log CFU\")"
   ]
  },
  {
   "cell_type": "code",
   "execution_count": null,
   "id": "ecd4a8ee-e7fb-4226-8ace-a238343f8c6f",
   "metadata": {},
   "outputs": [],
   "source": [
    "#Answer Q1:Visualize logCFU (Within-Stanchion, Between-Sample IDs)\n",
    "ds %>% mutate(Pairing=factor(Pairing)) %>% ggplot(aes(x = Pairing, y = logCFU)) +\n",
    "  geom_boxplot() +\n",
    "  labs(title = \"Boxplot of log CFU for each Pairing over Sample IDs\",\n",
    "       x = \"Pairing\",\n",
    "       y = \"log CFU\")"
   ]
  },
  {
   "cell_type": "code",
   "execution_count": null,
   "id": "0a8c33a4-413d-44e9-aa5b-f7c354cae0f1",
   "metadata": {},
   "outputs": [],
   "source": [
    "#Answer Q1:Visualize logCFU (Within-Stanchion, Between-Sample IDs)\n",
    "ds %>% mutate(VehicleNumber=factor(VehicleNumber)) %>% ggplot(aes(x = VehicleNumber, y = logCFU)) +\n",
    "  geom_boxplot() +\n",
    "  labs(title = \"Boxplot of log CFU for each VehicleNumber over Sample IDs\",\n",
    "       x = \"Vehicle Number\",\n",
    "       y = \"log CFU\")"
   ]
  },
  {
   "cell_type": "code",
   "execution_count": null,
   "id": "fd5ec16f-4638-4a91-b9bd-69ef4b39fa28",
   "metadata": {},
   "outputs": [],
   "source": [
    "#Answer Q1:Visualize logCFU (Within-Stanchion, Between-Sample IDs)\n",
    "ds %>% mutate(City=factor(City)) %>% ggplot(aes(x = City, y = logCFU)) +\n",
    "  geom_boxplot() +\n",
    "  labs(title = \"Boxplot of log CFU for each City over Sample IDs\",\n",
    "       x = \"City\",\n",
    "       y = \"log CFU\")"
   ]
  },
  {
   "cell_type": "markdown",
   "id": "8e733322-11b0-4910-91c7-8a998ba8bc8e",
   "metadata": {},
   "source": [
    "**Answer Q1:**\n",
    "\n",
    "The boxplots of logCFU at each of the grouping variables (StanchionID,Pairing, VehcileNumber and City) indicate varying levels of between unit variability, with the boxplot at level of stanchions (the lowest level of grouping) indicating the largest between stanchion variability. This suggests that the compound symmetry assumption is likely violated.\n",
    "\n"
   ]
  },
  {
   "cell_type": "code",
   "execution_count": null,
   "id": "862bc2b2-1017-4f65-b11b-b77d74387358",
   "metadata": {},
   "outputs": [],
   "source": [
    "# Answer Q2: Create the spaghetti plot to check if the slopes are the same, parallel lines indicate same random slopes, and the model with random intercepts fits the data sufficiently well.\n",
    "#we can also do a formal comparison of models with random intercepts only and random intercepts + random slopes.\n",
    "Overall_inter=coefficients(summary(m2))[1,1]\n",
    "Overall_slope= coefficients(summary(m2))[2,1]\n",
    "ds %>% mutate(Pairing=as.factor(Pairing)) %>% ggplot(aes(x = Group, y = logCFU,color = Pairing)) +\n",
    "  geom_point() +   geom_smooth(aes(group = Pairing),method=\"lm\",se=FALSE) + \n",
    "  geom_abline(intercept = Overall_inter, slope =Overall_slope , colour = \"darkblue\",size=2) +\n",
    "  labs(title = \"Spaghetti Plot\",\n",
    "    x = \"Group\",\n",
    "    y = \"logCFU\",\n",
    "    color = \"Pairing\") + facet_wrap(~ VehicleNumber * City)"
   ]
  },
  {
   "cell_type": "code",
   "execution_count": null,
   "id": "047690d6-090c-417b-907d-7f4ce1d1a44f",
   "metadata": {},
   "outputs": [],
   "source": [
    "#random slopes and random intercepts Answer Q2.\n",
    "VarCorr(m2)\n",
    "m3 <- lmer(logCFU~Group + (1 + Group | City/VehicleNumber/Pairing/StanchionID),data=ds)\n",
    "#based on the AIC and BIC we can see that the model with random intercepts fit the data better than the model with random intercepts + random slopes.\n",
    "#so the additional complexity of estimating the random slopes variances is not justified based on the AIC and BIC.\n",
    "anova(m2,m3)"
   ]
  },
  {
   "cell_type": "markdown",
   "id": "47d3ebdf-8949-4693-b879-d022813e75e1",
   "metadata": {},
   "source": [
    "**Answer 2.** Non-paralell lines in the Spaghetti plot may indicate that random slopes are needed. So we fit the random slope model `m3` and compare it to the model with random intercepts `m2`. Hint. Is random slope model needed based on AIC and BIC? \n",
    "\n",
    "Spaghetti plot indicates that there might be few slopes that are not parallel, suggesting that some slopes for the Group may be different at different levels in the data structure (City, VehcileNumber, Paring, StanchionID). We can explore fitting spearate slopes for Group for each of the levels (City, VehcileNumber, Paring, StanchionID), by fitting a more complex model that will incorporate random slopes for Group for each nesting level City,VehicleNumber,Pairing,StanchionID, in addition to the random intercepts for each of the levels (the random intercepts model estimates one common slope of the Group across all the levels of nesting City,VehicleNumber,Pairing,StanchionID).\n",
    "\n",
    "So we can fit a linear mixed effect model with random slopes for Group (1 + Group | City/VehicleNumber/Pairing/StanchionID), in addition to the originally fitted model with random intercepts only ((1  | City/VehicleNumber/Pairing/StanchionID)). The two models then can be compared by looking into AIC and BIC each of which penalize for the complexity of the model in a slightly different way (the random slope model is way to complex, notice that number of parameters is 15, compared to the random intercepts model that has only 7 parameters in the model). Based on the smallest AIC and BIC, the model with random slopes and intercepts cannot be justified, so we can choose the simpler model, the random intercept only model (1  | City/VehicleNumber/Pairing/StanchionID), which would estimate one common slope for the Group overall the specified complexities by City, VehcileNumber, Pairing and Stanchion. This overal slope of the Group accross all the nesting levels City,VehicleNumber,Pairing,StanchionI is shown in dark navy blue color in the Spaghetti plot above."
   ]
  },
  {
   "cell_type": "markdown",
   "id": "3f19b3a7-7bf7-403b-bf54-fabcd05a44db",
   "metadata": {},
   "source": [
    "**Q3.** Assess the normality assumption of the random effects.\n",
    "\n",
    "**Hint:** Look at the QQnorm plots, run the code cell below.\n",
    "\n",
    "**Q4.** After examining all the plots below, do you think that repeated measures ANOVA is more appropriate or the linear mixed effects model, or neither? Can we improve the fit of the linear mixed effects model by specifying the correlation structure of the residuals and the random effects?\n",
    "\n",
    "Type your answers in the cells below:"
   ]
  },
  {
   "cell_type": "markdown",
   "id": "ecfb4385-cbab-42a3-b1ae-591774d306cf",
   "metadata": {},
   "source": [
    "**Answer Q3.** The last assumption of normality of the random effects. Run the code bellow.\n",
    "\n",
    "Yes, the random effects at all specified levels are approximately normal."
   ]
  },
  {
   "cell_type": "code",
   "execution_count": null,
   "id": "61413d88-d20b-4e8f-997e-5a6fc12b791e",
   "metadata": {},
   "outputs": [],
   "source": [
    "plot(ranef(m2))"
   ]
  },
  {
   "cell_type": "code",
   "execution_count": null,
   "id": "6309afaa-8933-43c9-bab3-43faeb7b5846",
   "metadata": {},
   "outputs": [],
   "source": [
    "ranef(m2)"
   ]
  },
  {
   "cell_type": "markdown",
   "id": "6632349a-a6a2-49f1-9d5b-192964cfc054",
   "metadata": {},
   "source": [
    "**Answer 4:** Repeated measures ANOVA, linear mixed effects model with variance structure, or linear mixed effects model with unstructured covariance structure?\n",
    "\n",
    "Linear mixed effects model with unstructured covariance structure is the chosen model."
   ]
  },
  {
   "cell_type": "markdown",
   "id": "98c26e63-7fcf-456b-a520-42724ae8f7c8",
   "metadata": {},
   "source": [
    "**Q5** Finally you can use the model to interpret the primary research question for the Copper Study. Write your one statement you can make from the lmer output that answers the research quesiton. Reminder: The mean log 10 CFU for Copper products is lower by 1 (on the log 10 scale) than the mean log 10 CFU for Controls, across all public transit vehicles and two Canadian cities (Vancouver and Toronto).\n",
    "\n"
   ]
  },
  {
   "cell_type": "markdown",
   "id": "21b60bcb-33ec-4d0f-8555-0d9efa5ba183",
   "metadata": {},
   "source": [
    "**Answer Q5:** \n",
    "\n",
    "The mean log 10 CFU for Copper products is lower by -0.47897 (CI95%: -0.6856995, -0.2722366) (on the log 10 scale) than the mean log 10 CFU for Controls, across all public transit vehicles and two Canadian cities (Vancouver and Toronto). This effect is also statsitically significant as the confidence interval does not contain 0."
   ]
  },
  {
   "cell_type": "markdown",
   "id": "37500c37-13bd-40ad-a3b0-5711e02155ad",
   "metadata": {},
   "source": [
    "**Q6** Can you use the fitted lmer model to answer the secondary research question?  \n",
    "\n",
    "Reminder: The mean log 10 CFU for Copper products is lower by 1 (on the log 10 scale) than the mean log 10 CFU for Controls, across all vehicles in each of the Canadian cities (Vancouver and Toronto) separately."
   ]
  },
  {
   "cell_type": "markdown",
   "id": "d79dbd63-42c5-4059-bac5-f83ce23f4687",
   "metadata": {},
   "source": [
    "**Answer Q6:**  \n",
    "\n",
    "No, we cannot use the same model for the secondary research quesiton. The model specification will be slightly different, to obtain estimates of mean `logCFU` differences between the two groups for each city, overall vehicles:\n",
    "    `logCFU ~ Group*City+(1/VehcileNumber/Pairing/StanchionID)` Note that this model is way more complex, as City moved from random effect \n",
    "to fixed effect in a multiplicative way with Group (which is known as interaction). Interaction models bring more complexities, as it estimates slopes of the number of \n",
    "combinations between the levels in the two factors in the interaction munis 1 (e.g., there are four combinations of levels in Group and City, Control Vancouver, Control Toronto, Copper Vancouver,\n",
    "Copper Toronto, the model will use one of this combinations are reference lets say Control Vancouver, and will estimat slope of the rest of the three combinations with \n",
    "respect to the reference combination.                                                                       \n",
    "However, note that the secondary research question is not interested in all of these combinations, it is only interested in two of them: \n",
    "Control Vancouver versus Copper Vancouver, and Control Toronto versus Copper Toronto.  These additional tests are known as post-hoc testing, \n",
    "which allows for running only the two comparisons of interest and can also adjust for multiple testing. \n",
    "\n",
    "Hence, answering the secondary research question for this study requires way more complex model, that need to be fitted, diagnosed with DHARMa and then running post-hoc pairwise comparisons \n",
    "to interpret the research quesiton.\n",
    "        "
   ]
  },
  {
   "cell_type": "markdown",
   "id": "f35566cb-d557-464c-ac57-9f8867a35d34",
   "metadata": {},
   "source": [
    "**Upload your work from Lecture 11 Exercise session**\n",
    "\n",
    "**Note.** Jupiter Notebook is acceptable for Class participation mark. \n",
    "          Please make sure you save your JupiterNotebook with Answers.\n",
    "\n",
    "- Each student will upload the Jupiter Notebook on Canvas Course 1: https://canvas.ubc.ca/courses/144703::\n",
    "\n",
    " `[Lecture_11_Exercise_Session 11]_[TeamNumber]_[student name].ipynb`\n",
    "eg., `Lecture_11_Exercise_Session 11_Team21_Biljana_Jonoska_Stojkova.ipynb`\n",
    "\n",
    "- Please write at the title who was responsible for writing each paragraph. \n",
    "\n",
    "Navigate to the Assignments section on Canvas Course 1, and upload the Jupiter document on Canvas under:\n",
    "`Class Participation\\Lecture 11 - Correlated data structures and Linear Mixed Effects models` "
   ]
  }
 ],
 "metadata": {
  "kernelspec": {
   "display_name": "R",
   "language": "R",
   "name": "ir"
  },
  "language_info": {
   "codemirror_mode": "r",
   "file_extension": ".r",
   "mimetype": "text/x-r-source",
   "name": "R",
   "pygments_lexer": "r",
   "version": "4.3.3"
  }
 },
 "nbformat": 4,
 "nbformat_minor": 5
}
