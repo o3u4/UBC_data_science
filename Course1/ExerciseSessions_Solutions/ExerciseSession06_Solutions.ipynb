{
 "cells": [
  {
   "cell_type": "markdown",
   "id": "2de1e972-ad9a-47b4-9943-efaed3a5e7dd",
   "metadata": {},
   "source": [
    "# **Exercise Session 6 - Solutions**\n",
    "# Developed by Biljana Jonoska Stojkova, PhD\n",
    "# Revised by Johnson Chen"
   ]
  },
  {
   "cell_type": "markdown",
   "id": "ef968097-a20c-458b-9e2d-059f47fb9669",
   "metadata": {},
   "source": [
    "## **Lecture 6 - Hypothesis Testing: Basic Concepts and Basic Tests (t-test, Paired t-test) and Their Assumptions**\n",
    "\n",
    "Today's exercise will focus on answering a predefined research question and determining which of the statistical concepts discussed in today's lecture are applicable to our Copper study dataset and research questions. \n",
    "\n",
    "On Day 5, we presented a data-driven story, with various teams exploring different aspects of the data. Some teams created plots to answer the primary and secondary research questions, while others explored the bivariate relationships of the structural variables in the dataset.\n",
    "\n",
    "So far we have seen exploratory plots about the primary and secondary research questions and have an exploratory analysis story. Now, it is time to enrich our data-driven story from the graphs by inserting numbers into the story. We need to identify which statistical methods would be appropriate to enrich our data-driven story with numerical insights.\n",
    "\n",
    "We will keep the same teams as those on the previous days. Each team will continue working on the research question and variables assigned to you on Day 2. Please open the Exercise Session2.ipynb to refresh your memory on the primary and secondary statistical hypotheses for the Copper study. Each team member will have to answer the questions and upload their Jupiter Notebook on Canvas.\n"
   ]
  },
  {
   "cell_type": "markdown",
   "id": "9a95669c-483b-430f-b956-aa52fce65917",
   "metadata": {},
   "source": [
    "### **Today's Learning Goal:**\n",
    "\n",
    "- Determine which statistical concepts discussed today can add scientific rigor to answering the primary and secondary statistical hypotheses of the Copper study.\n",
    "\n",
    "- Assess whether the t-test or paired t-test is appropriate for handling the complexities in the Copper dataset and the primary and secondary statistical hypotheses. Will it enrich our story from the Day 5?\n",
    "\n",
    "- If any of the t-test or paired t-test is appropriate, justify whether the dataset violates the assumptions of these tests.\n",
    "     \n",
    "- Consider whether data transformation would be appropriate to apply the t-test, e.g., aggregation? If so, explain how the data can be aggregated and at which level (e.g., at stanchion, vehicle, or city level).\n",
    "\n",
    "- Make sure you upload your Jupyter Notebook at the end of the day."
   ]
  },
  {
   "cell_type": "markdown",
   "id": "d4d5c87b-c573-4fac-a84c-ef69320e10ef",
   "metadata": {},
   "source": [
    "### **Tasks for all teams**\n",
    "\n",
    "\n",
    "Continue working within your team to complete the following tasks:\n",
    "\n",
    "-  Decide whether a t-test or paired t-test is appropriate for answering your research question.\n",
    "\n",
    "- Justify your decision based on the research question of interest and data structures.\n",
    "\n",
    "- Discuss which assumptions may be violated and how useful and trustworthy the results would be."
   ]
  },
  {
   "cell_type": "markdown",
   "id": "5936b67d-618b-47ef-a117-d488e732bea3",
   "metadata": {},
   "source": [
    "#### **Assumptions of Two-Sample t-test:**\n",
    "\n",
    "At1. Compares two uncorrelated samples (comparison groups).\n",
    "\n",
    "At2. The outcome variable of interest is normally distributed within each comparison group.\n",
    "\n",
    "At3. The outcome variable of interest has equal variance within each of the two comparison groups (related to equal sample size within each group).\n",
    "\n",
    "At4. Independent observations: Both samples (comparison groups) are simple random samples from their respective populations and are independent of each other."
   ]
  },
  {
   "cell_type": "markdown",
   "id": "c67ba768-b76d-490a-af46-ac17c8398876",
   "metadata": {},
   "source": [
    "#### **Assumptions of Paired t-test:**\n",
    "\n",
    "Apt1. Compares two paired, uncorrelated samples (comparison groups).\n",
    "\n",
    "Apt2. The difference in the outcome variable of interest between the paired groups is normally distributed.\n",
    "\n",
    "Apt3. There are no significant outliers in the difference in the outcome variable of interest between the two groups.\n",
    "\n",
    "Apt4. Independent observations: Both samples (comparison groups) are simple random samples from their respective populations.\n",
    "\n",
    "Let's load the dataset again and have a look:"
   ]
  },
  {
   "cell_type": "code",
   "execution_count": null,
   "id": "634c163f-ebee-498c-af05-f6fb8a97659f",
   "metadata": {
    "tags": []
   },
   "outputs": [],
   "source": [
    "#Run this code\n",
    "library(tidyverse)\n",
    "ds=read_csv(\"../data/CopperData.csv\")\n",
    "head(ds)"
   ]
  },
  {
   "cell_type": "markdown",
   "id": "95861174-9394-4659-b1d3-f91f108b998f",
   "metadata": {},
   "source": [
    "**Teams 1 - 4:**\n",
    "\n",
    "On Day 3, you presented the primary research question and statistical hypothesis for the Copper Study. Today you will assess whether two-sample or paired t-tests are appropriate to answer the primary statistical hypothesis for the Copper Study. Start by assessing Assumption 1 (At1 and Apt1) of each two-sample and paired t-test.\n",
    "\n",
    "**Q1.** How many comparison groups are there in the Copper Study? State the group names clearly in your answer below.\n",
    "\n",
    "**Q2.** Are the comparison groups uncorrelated or paired?\n",
    "\n",
    "Type your answer in the cells below:"
   ]
  },
  {
   "cell_type": "markdown",
   "id": "5c154a21-9d96-4dc7-83f2-92cacc9ededf",
   "metadata": {},
   "source": [
    "**Answer 1.** Two, Copper and Control Group"
   ]
  },
  {
   "cell_type": "markdown",
   "id": "382e979e-490b-4894-9e46-819281b037ca",
   "metadata": {},
   "source": [
    "**Answer 2.** Paired, each Stanchion with Copper is matched to a Stanchion with Control within a Vehicle. "
   ]
  },
  {
   "cell_type": "markdown",
   "id": "578cb371-6586-4caa-9648-8bc2b159abc4",
   "metadata": {},
   "source": [
    "**Teams 5 - 7:**\n",
    "\n",
    "On Day 3, you presented the primary research question and statistical hypothesis for the Copper Study. Today you will assess whether two-sample or paired t-tests are appropriate to answer the primary statistical hypothesis for the Copper Study. Start by assessing Assumption 2 (At2 and Apt2) of each two-sample and paired t-test.\n",
    "\n",
    "**Q1.** Is the outcome variable of interest normally distributed? (Run the cell code below.)\n",
    "\n",
    "**Q2.** Is the difference in the outcome variable of interest normally distributed? (Run the cell code below.)\n",
    "\n",
    "Type your answer in the cells below:"
   ]
  },
  {
   "cell_type": "code",
   "execution_count": null,
   "id": "36bfba3c-dfd5-4d6b-81df-1fbed7edb59e",
   "metadata": {
    "tags": []
   },
   "outputs": [],
   "source": [
    "# Run this code for At1 in Q1\n",
    "g1 = ds %>% ggplot(aes(x=logCFU)) + geom_histogram() + facet_wrap(~Group)+ labs(title=\"Distribution of logCFU for each group\")\n",
    "g1"
   ]
  },
  {
   "cell_type": "code",
   "execution_count": null,
   "id": "74157ab5-7382-4237-948a-170fc25ee3aa",
   "metadata": {
    "scrolled": true,
    "tags": []
   },
   "outputs": [],
   "source": [
    "# Run this code for Apt1 in Q2\n",
    "library(dplyr)\n",
    "#create new variable new_ID that assigns rownumber (1,2,3) for each sample within Pairing ID\n",
    "ds <- ds %>%\n",
    "\tgroup_by(StanchionID, Pairing) %>%\n",
    "\tmutate(new_ID = row_number())\n",
    "# create two data sets, one for each group\n",
    "copper_sample <- ds %>% filter(Group == \"Copper\") %>% select(VehicleNumber, City, StanchionID, Pairing, logCFU,new_ID)\n",
    "control_sample <- ds %>% filter(Group == \"Control\") %>% select(VehicleNumber, City, StanchionID, Pairing, logCFU,new_ID)\n",
    "#join the data sets by Pairing ID and the new_ID that assigns rownumber (1,2,3) for each sample within Pairing ID\n",
    "joined_ds <- inner_join(copper_sample, control_sample, by = c(\"VehicleNumber\", \"City\",\"Pairing\",\"new_ID\"), suffix = c(\"_Copper\", \"_Control\"))\n",
    "\n",
    "# Calculate the difference of logCFU between Copper and Control\n",
    "diff_dataset <- joined_ds %>%\n",
    "\tmutate(diff_logCFU = logCFU_Copper - logCFU_Control)\n",
    " \n",
    "\n",
    "g2 = diff_dataset %>% ggplot(aes(x=diff_logCFU)) + geom_histogram() +labs(title=\"Distribution of difference logCFU between the groups\")\n",
    "g2"
   ]
  },
  {
   "cell_type": "markdown",
   "id": "8de89af4-0ec4-40f5-8c41-44d2095c4eb2",
   "metadata": {},
   "source": [
    "**Answer 1.** Approximately yes."
   ]
  },
  {
   "cell_type": "markdown",
   "id": "cb4adac9-c133-44c2-b312-37626194c727",
   "metadata": {},
   "source": [
    "**Answer 2.** Approximately yes."
   ]
  },
  {
   "cell_type": "markdown",
   "id": "27d619a0-a84b-4be6-a56f-1d32709e9c8d",
   "metadata": {},
   "source": [
    "**Teams 8 - 10:**\n",
    "\n",
    "On Day 3, you presented the primary research question and statistical hypothesis for the Copper Study. Today you will assess whether two-sample or paired t-tests are appropriate to answer the primary statistical hypothesis for the Copper Study. Start by assessing Assumption 3 for each of the two-sample and paired t-tests (At3 and Apt3, respectively).\n",
    "\n",
    "**Q1.** Does the outcome variable of interest have equal variance within each of the two comparison groups (related to equal sample size within each group, At3)? (Run the cell code below.)\n",
    "\n",
    "**Q2.** Are there any significant outliers in the difference in the outcome variable of interest between the two groups (Apt3)? (Run the cell code below.)\n",
    "\n",
    "Type your answer in the cells below:"
   ]
  },
  {
   "cell_type": "code",
   "execution_count": null,
   "id": "025498c1-3975-4c18-b61d-eda9dfab117a",
   "metadata": {
    "tags": []
   },
   "outputs": [],
   "source": [
    "# Run this code for At1 in Q1\n",
    "g3 = ds %>% ggplot(aes(y=logCFU,x=Group)) + geom_boxplot() + labs(title=\"Boxplots of logCFU for each group, check for approximately equal variance assumption\")\n",
    "g3"
   ]
  },
  {
   "cell_type": "code",
   "execution_count": null,
   "id": "f94ad9fb-6347-419a-ba6c-510aa0acab20",
   "metadata": {
    "scrolled": true,
    "tags": []
   },
   "outputs": [],
   "source": [
    "# Run this code for Apt1 in Q2\n",
    "library(dplyr)\n",
    "#create new variable new_ID that assigns rownumber (1,2,3) for each sample within Pairing ID\n",
    "ds <- ds %>%\n",
    "\tgroup_by(StanchionID, Pairing) %>%\n",
    "\tmutate(new_ID = row_number())\n",
    "# create two data sets, one for each group\n",
    "copper_sample <- ds %>% filter(Group == \"Copper\") %>% select(VehicleNumber, City, StanchionID, Pairing, logCFU,new_ID)\n",
    "control_sample <- ds %>% filter(Group == \"Control\") %>% select(VehicleNumber, City, StanchionID, Pairing, logCFU,new_ID)\n",
    "#join the data sets by Pairing ID and the new_ID that assigns rownumber (1,2,3) for each sample within Pairing ID\n",
    "joined_ds <- inner_join(copper_sample, control_sample, by = c(\"VehicleNumber\", \"City\",\"Pairing\",\"new_ID\"), suffix = c(\"_Copper\", \"_Control\"))\n",
    "\n",
    "# Calculate the difference of logCFU between Copper and Control\n",
    "diff_dataset <- joined_ds %>%\n",
    "\tmutate(diff_logCFU = logCFU_Copper - logCFU_Control)\n",
    " \n",
    "\n",
    "g5 = diff_dataset %>% ggplot(aes(x=diff_logCFU)) + geom_histogram() +labs(title=\"Distribution of difference logCFU between the groups\")\n",
    "g5"
   ]
  },
  {
   "cell_type": "markdown",
   "id": "d3c84014-4dd2-46de-817a-df4c20cc70ce",
   "metadata": {},
   "source": [
    "**Answer 1.** Approximately yes.\n"
   ]
  },
  {
   "cell_type": "markdown",
   "id": "75833a39-4dd4-4a10-8e0a-0ddb32655e6d",
   "metadata": {},
   "source": [
    "**Answer 2.** Likely not influential outliers."
   ]
  },
  {
   "cell_type": "markdown",
   "id": "58a47fbf-6f16-4983-bf8a-f32917ddd879",
   "metadata": {},
   "source": [
    "**Teams 11 - 13:**\n",
    "\n",
    "On Day 3, you presented the primary research question and statistical hypothesis for the Copper Study. Today you will assess whether two-sample or paired t-tests are appropriate to answer the primary statistical hypothesis for the Copper Study. Start by assessing Assumption 4 for each of the two-sample and paired t-tests (At4 and Apt4, respectively).\n",
    "\n",
    "**Q1.** Are observations in both samples (comparison groups) simple random samples from their respective populations and are independent of each other (At4)?\n",
    "\n",
    "**Q2.** Are the paired observations independent (Apt4)?\n",
    "\n",
    "Discuss within your team and type your answers in the cells below (YES/NO, and a short explanation why YES/NO)."
   ]
  },
  {
   "cell_type": "markdown",
   "id": "47d3ebdf-8949-4693-b879-d022813e75e1",
   "metadata": {},
   "source": [
    "**Answer 1.** Yes"
   ]
  },
  {
   "cell_type": "markdown",
   "id": "6632349a-a6a2-49f1-9d5b-192964cfc054",
   "metadata": {},
   "source": [
    "**Answer 2.** No, these are clustered within vehicle (and each vehicle clustered within city)."
   ]
  },
  {
   "cell_type": "markdown",
   "id": "ecf57291-b573-4b28-a089-c5a29ca18f71",
   "metadata": {},
   "source": [
    "**Teams 14 - 18:**\n",
    "\n",
    "On Day 3, you presented the secondary research question and statistical hypothesis for the Copper Study. Today you will assess whether two-sample or paired t-tests are appropriate to answer the secondary statistical hypothesis for the Copper Study. Start by assessing Assumption 1 (At1 and Apt1) of each two-sample and paired t-test.\n",
    "\n",
    "**Q1.** How many comparison groups are there in the Copper Study? State the group names clearly in your answer below.\n",
    "\n",
    "**Q2.** Are the comparison groups uncorrelated or paired?\n",
    "\n",
    "Type your answers in the cells below:"
   ]
  },
  {
   "cell_type": "markdown",
   "id": "5da579c8-c2c2-47cc-b587-c77d54d1c686",
   "metadata": {},
   "source": [
    "**Answer 1.**  Two Groups, Copper and Control group."
   ]
  },
  {
   "cell_type": "markdown",
   "id": "cc18d54d-b134-4b77-858b-d05f6e31060b",
   "metadata": {},
   "source": [
    "**Answer 2.** Paired."
   ]
  },
  {
   "cell_type": "markdown",
   "id": "e5efed8b-9158-45eb-bac0-c692502338cc",
   "metadata": {},
   "source": [
    "#### **Bonus:**\n",
    "\n",
    "**Q1.** Can t-test or paired t-test help us assess the effect of the Group on `log 10 CFU` across all vehicles and cities (secondary statistical hypothesis)?\n",
    "\n",
    "**Q2.** Can t-test or paired t-test help us assess the effect of the Group on `log 10 CFU` across all vehicles for each city (secondary statistical hypothesis)?\n",
    "\n",
    "**Q3.** Is there a possibility to transform the data so that t-test or paired t-test are appropriate for our statistical hypotheses given the nested structures? What are the implications of doing such transformations of the data (e.g., would we introduce bias or lose statistical power due to information loss)?\n",
    "\n",
    "**Q4.** Write down possible statistical hypotheses that can be tested with t-test or paired t-test along with necessary data transformations and implications of bias and information loss (hint: run the R code with plots below).\n"
   ]
  },
  {
   "cell_type": "markdown",
   "id": "28b196a2-b9d0-4a4f-b9c8-cb004b246b78",
   "metadata": {},
   "source": [
    "**Answer 1. (YES/NO, Why YES/NO?)**\n",
    "\n",
    "No, because the observations are not independent (clustering of samples within stanchion, stanchion clustered within pairs, pairs clustered within vehicles, vehicles clustered within citieis).\n"
   ]
  },
  {
   "cell_type": "markdown",
   "id": "b7934e2b-e9d6-4469-933a-f365ec1428be",
   "metadata": {},
   "source": [
    "**Answer 2. (YES/NO, Why YES/NO?)**\n",
    "\n",
    "No. We could potentially run two paired t-tests for each city, however, the independent observations assumption is still violated within city, as we still have samples clustered within stanchions, stanchions within pairs and pairs within vehicles). \n"
   ]
  },
  {
   "cell_type": "markdown",
   "id": "e3241a03-435b-4ea8-b65f-1e6574940428",
   "metadata": {},
   "source": [
    "**Answer 3.** \n",
    "Not exactlywith this data structure and the primary and secondary research questions. We could aggreagte the resepated measures of samples within stanchion (take mean of `logCFU` over the three samples for each stanchion), which would create two paired groups (Control/Copper pairs) for each stanchion. However, pairs are still nested within vehicles and cities. This would introduce biased estimates of paired t test. Also, by aggregating the `logCFU` between samples within stanchion and taking mean, we introduce information loss, as the variability in `logCFU` between samples within stanchions is lost, this leads to lost statsitical power (less likely to produce statsitically significant results).  \n"
   ]
  },
  {
   "cell_type": "code",
   "execution_count": null,
   "id": "a2035f82-aa3e-429a-80e6-3bd158e694a3",
   "metadata": {
    "scrolled": true,
    "tags": []
   },
   "outputs": [],
   "source": [
    "# Run this code for Q4\n",
    "g6 = ds %>% ggplot(aes(x=factor(Group), y=logCFU)) + geom_boxplot() + facet_wrap(~City+VehicleNumber) +labs(title=\"The effect of the Group on log 10 CFU by City and VehicleNumber\", x=\"City\",y=\"log 10 CFU\")\n",
    "g6"
   ]
  },
  {
   "cell_type": "markdown",
   "id": "7a85f99b-e07b-488b-8a7a-5399eb472c08",
   "metadata": {
    "collapsed": true,
    "jupyter": {
     "outputs_hidden": true
    }
   },
   "source": [
    "**Answer 4:** The mean log 10 CFU for Copper products is lower by 1 (on the log 10 scale) than the mean log 10 CFU for Controls, for each vehicle in each of the Canadian cities (Vancouver and Toronto) separately. We would need to aggregate `logCFU` overall samples within each stanchion. Since the paired t test will be run for each vehcile and each city, the aggreagted `logCFU` on the stanchion level are now independent, so the biases introdcued due to the independence assumption are no longer an issue for this research question. However, we induce information loss when we aggrgate the `logCFU` on stanchion level, so these tests will operate under reduced statistical power (less likely to produce statsitically significant results)."
   ]
  },
  {
   "cell_type": "markdown",
   "id": "f35566cb-d557-464c-ac57-9f8867a35d34",
   "metadata": {},
   "source": [
    "**Upload your work from Lecture 6 Exercise session**\n",
    "\n",
    "**Note.** Jupiter Notebook is acceptable for Class participation mark. \n",
    "          Please make sure you save your JupiterNotebook with Answers.\n",
    "\n",
    "- Each student will upload the Jupiter Notebook on Canvas Course 1: https://canvas.ubc.ca/courses/144703::\n",
    "\n",
    " `[Lecture_6_Exercise_Session 6]_[TeamNumber]_[student name].ipynb`\n",
    "eg., `Lecture_6_Exercise_Session 6_Team21_Biljana_Jonoska_Stojkova.ipynb`\n",
    "\n",
    "- Please write at the title who was responsible for writing each paragraph. \n",
    "\n",
    "Navigate to the Assignments section on Canvas Course 1, and upload the Jupiter document on Canvas under:\n",
    "`Class Participation\\Lecture 6 -  Hypothesis testing, basic concepts, basic tests (t-test, paired t-test) and their assumptions` \n",
    "\n"
   ]
  }
 ],
 "metadata": {
  "kernelspec": {
   "display_name": "R",
   "language": "R",
   "name": "ir"
  },
  "language_info": {
   "codemirror_mode": "r",
   "file_extension": ".r",
   "mimetype": "text/x-r-source",
   "name": "R",
   "pygments_lexer": "r",
   "version": "4.3.3"
  }
 },
 "nbformat": 4,
 "nbformat_minor": 5
}
