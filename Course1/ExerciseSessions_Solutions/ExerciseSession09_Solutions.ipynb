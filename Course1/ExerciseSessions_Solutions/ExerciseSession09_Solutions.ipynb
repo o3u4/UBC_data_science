{
 "cells": [
  {
   "cell_type": "markdown",
   "id": "2de1e972-ad9a-47b4-9943-efaed3a5e7dd",
   "metadata": {},
   "source": [
    "# **Exercise Session 9 - Solutions**\n",
    "# Developed by Biljana Jonoska Stojkova, PhD\n",
    "# Revised by Johnson Chen\n",
    "\n"
   ]
  },
  {
   "cell_type": "markdown",
   "id": "81e897e3-7acc-4682-939a-7cd26e62d218",
   "metadata": {},
   "source": [
    "## **Lecture 9 - Estimating strength and direction of relationships between variables: correlation and simple linear regression**\n",
    "\n",
    "\n",
    " \n",
    "Today's exercise will focus on formulating predefined research questions and practicing determining which of the statistical concepts discussed in today's lecture are applicable to the `mtcars` dataset.\n",
    "\n",
    "We will keep the same teams as those on the previous days. Each team will continue working on the `mtcars` dataset. Each team member will have to answer the questions and upload their Jupyter Notebook on Canvas."
   ]
  },
  {
   "cell_type": "markdown",
   "id": "9a95669c-483b-430f-b956-aa52fce65917",
   "metadata": {},
   "source": [
    "## **Today's Learning Goal:**\n",
    "\n",
    "- Explore the `mtcars` dataset and define research questions, then translate them into statistical hypotheses.\n",
    "- Learn how to formulate a bidirectional versus uni-directional relationship between two continuous variables.\n",
    "- Identify the appropriate graphics to analyze the defined statistical hypotheses.\n",
    "- Determine what statistical data analysis plot would be relevant to analyze the formulated statistical hypothesis.\n",
    "- Understand when to use correlation and when to use a linear regression model.\n",
    "- Learn how to interpret the results from correlation and how to interpret the results from a linear regression model.\n",
    "- Ensure you upload your Jupyter Notebook at the end of the day."
   ]
  },
  {
   "cell_type": "markdown",
   "id": "d4d5c87b-c573-4fac-a84c-ef69320e10ef",
   "metadata": {},
   "source": [
    "### **Tasks for All Teams**\n",
    "\n",
    "You will continue working within your team.\n",
    "\n",
    "- Define a research question.\n",
    "- Define a statistical hypothesis.\n",
    "- Determine an appropriate graph to explore your statistical hypothesis.\n",
    "- Determine whether correlation or linear regression is appropriate to answer your research question.\n",
    "- Justify your decision based on the research question of interest and data structures.\n",
    "- Interpret the results."
   ]
  },
  {
   "cell_type": "code",
   "execution_count": null,
   "id": "634c163f-ebee-498c-af05-f6fb8a97659f",
   "metadata": {
    "tags": []
   },
   "outputs": [],
   "source": [
    "#Run this code\n",
    "library(tidyverse)\n",
    "data(\"mtcars\")\n",
    "head(mtcars)"
   ]
  },
  {
   "cell_type": "code",
   "execution_count": null,
   "id": "20808bfe-c070-4159-ad32-403839713beb",
   "metadata": {
    "tags": []
   },
   "outputs": [],
   "source": [
    "#Let's pull up R help to learn about the mtcars data set\n",
    "?mtcars"
   ]
  },
  {
   "cell_type": "markdown",
   "id": "0ee5c4ba-5bbb-4f51-8f26-03bd803df2c7",
   "metadata": {},
   "source": [
    "#### **Teams 1 - 18:**\n",
    "\n",
    "Your task is to examine the dataset and formulate statistical hypotheses. Start by examining the dataset and running the code cells. Discuss with your team.\n",
    "\n",
    "**Q1.** Formulate a statistical hypothesis to explore a correlation between miles per gallon (mpg) and horsepower (hp). Run the code cell.\n",
    "\n",
    "**Hint:** Do you expect that the relationship is bidirectional or unidirectional? Select the research question formulation (all that apply) that is indicative of a bidirectional relationship, which can afterwards be analyzed with correlation.\n",
    "\n",
    "A. What is the relationship between the number of horsepower (hp) and miles per gallon (mpg)?\n",
    "\n",
    "B. Does increasing the horsepower (hp) decrease the average miles per gallon?\n",
    "\n",
    "C. Do horsepower (hp) correlate with miles per gallon?\n",
    "\n",
    "**Q2.** Translate your chosen research question into a statistical problem.\n",
    "\n",
    "**Hint:** Corresponding statistical problems are formulated below, but in a different order. Try to match the statistical problem in Q2 with the research question in Q1.\n",
    "\n",
    "A. With one unit increase in horsepower, the average miles per gallon decrease by X.\n",
    "\n",
    "B. Correlation between hp and mpg is moderate, estimated at X.\n",
    "\n",
    "C. The relationship between hp and mpg is moderate, estimated at X.\n",
    "\n",
    "**Q3.** Determine what would be the appropriate graphics to examine visually the relationship between two continuous variables (mpg and hp).\n"
   ]
  },
  {
   "cell_type": "markdown",
   "id": "b597320a-46c0-4b8a-9e21-7d63b989accf",
   "metadata": {},
   "source": [
    "**Answer Q1:** C "
   ]
  },
  {
   "cell_type": "markdown",
   "id": "33444c8d-11db-46bc-85b0-7a32ae3cf0bc",
   "metadata": {},
   "source": [
    "**Answer Q2:** B"
   ]
  },
  {
   "cell_type": "markdown",
   "id": "ffa938ac-f45a-4125-9c32-65889a4e67e1",
   "metadata": {},
   "source": [
    "**Answer Q3:** Scatterplot of horse power and miles per gallon"
   ]
  },
  {
   "cell_type": "code",
   "execution_count": null,
   "id": "204cf5ca-09e9-4144-abc7-304edb01d233",
   "metadata": {
    "scrolled": true,
    "tags": []
   },
   "outputs": [],
   "source": [
    "#Run this code for question Q1-3 (formulate research question)\n",
    "g1 = mtcars %>% ggplot(aes(y=mpg, x=hp)) + geom_point() + \n",
    "     labs(title=\"Scatterplot of horse power and miles per gallon\",x=\"Horse Power (hp)\",y=\"Miles Per Gallon (mpg)\") + \n",
    "     geom_smooth()\n",
    "g1"
   ]
  },
  {
   "cell_type": "markdown",
   "id": "ba9ad9dd-1897-4260-846d-8b02890bdcf1",
   "metadata": {},
   "source": [
    "\n",
    "**Q4.** Determine if Pearson correlation or linear regression analysis is appropriate for the formulated research question. Run the code below.\n",
    "\n",
    "**Q5.** Interpret the results.\n",
    "\n",
    "**Hint:** Copy the appropriate statement from Q2 and insert the appropriate value for X from the code in Q4.\n",
    "\n",
    "**Q6.** Formulate the research question to indicate a unidirectional relationship. Use the hint from Q1.\n",
    "\n",
    "**Q7.** Translate your research question into a statistical problem. Use the hint from Q2.\n",
    "\n",
    "**Q8.** Determine if Pearson correlation or linear regression analysis is appropriate for the formulated research question in Q6. \n",
    "\n",
    "Type your answers in the cells below:"
   ]
  },
  {
   "cell_type": "code",
   "execution_count": null,
   "id": "26c6a61d-2c07-4c00-93c7-81c45478cb10",
   "metadata": {},
   "outputs": [],
   "source": [
    "#Run this code to Answer Q4 and Q8, Pearson correlation \n",
    "cor(mtcars[,c(\"mpg\",\"hp\")])"
   ]
  },
  {
   "cell_type": "code",
   "execution_count": null,
   "id": "a000cd89-508b-4739-a64a-a709c07cb0a2",
   "metadata": {
    "tags": []
   },
   "outputs": [],
   "source": [
    "#Run this code to Answer Q4 and Q8, linear regression model\n",
    "m1= lm(mpg~hp,data=mtcars)\n",
    "summary(m1)"
   ]
  },
  {
   "cell_type": "markdown",
   "id": "c7c015c8-b0fd-492b-a360-3bb08dd7ca25",
   "metadata": {},
   "source": [
    "**Answer 4.** Which statsitical method is appropraite for answering the research question in Q1?\n",
    "\n",
    "Correlation type of statistical problem involving two continuous variables can be analysed with Pearson correlation.\n"
   ]
  },
  {
   "cell_type": "markdown",
   "id": "9ba4eb45-f713-492f-b6bc-2147411d87a0",
   "metadata": {},
   "source": [
    "**Answer 5.** Correlation between mpg and hp is -0.77 which indicates they are strongly negatively correlated. More mpg is strongly related to lower hp.\n"
   ]
  },
  {
   "cell_type": "markdown",
   "id": "eb4febf5-8de3-4dce-9546-1ec30ffd7867",
   "metadata": {},
   "source": [
    "**Answer 6.** B. Does increasing the horsepower (hp) decrease the average miles per gallon?"
   ]
  },
  {
   "cell_type": "markdown",
   "id": "75f865cb-1afc-486e-a982-0d502c22247b",
   "metadata": {},
   "source": [
    "**Answer 7.** A. With one unit increase in horsepower, the average miles per gallon increase by X."
   ]
  },
  {
   "cell_type": "markdown",
   "id": "0229bb9a-5aa8-44db-aa21-b81222ab4d0f",
   "metadata": {},
   "source": [
    "**Answer 8.** Linear regression provides estimates of the desired effect: With one unit increase in horsepower, the average miles per gallon decrease by 0.06823."
   ]
  },
  {
   "cell_type": "markdown",
   "id": "e66dfd92-86fd-429f-a0b2-d74167577b32",
   "metadata": {},
   "source": [
    "**Upload your work from Lecture 9 Exercise session**\n",
    "\n",
    "**Note.** Jupiter Notebook is acceptable for Class participation mark. \n",
    "          Please make sure you save your JupiterNotebook with Answers.\n",
    "\n",
    "- Each student will upload the Jupiter Notebook on Canvas Course 1: https://canvas.ubc.ca/courses/144703:\n",
    "\n",
    " `[Lecture_9_Exercise_Session 9]_[TeamNumber]_[student name].ipynb`\n",
    "eg., `Lecture_9_Exercise_Session 9_Team21_Biljana_Jonoska_Stojkova.ipynb`\n",
    "\n",
    "- Please write at the title who was responsible for writing each paragraph. \n",
    "\n",
    "Navigate to the Assignments section on Canvas Course 1, and upload the Jupiter document on Canvas under:\n",
    "`Class Participation\\Lecture 9 - Estimating strength and direction of relationships between variables: correlation and simple linear regression ` \n"
   ]
  }
 ],
 "metadata": {
  "kernelspec": {
   "display_name": "R",
   "language": "R",
   "name": "ir"
  },
  "language_info": {
   "codemirror_mode": "r",
   "file_extension": ".r",
   "mimetype": "text/x-r-source",
   "name": "R",
   "pygments_lexer": "r",
   "version": "4.3.3"
  }
 },
 "nbformat": 4,
 "nbformat_minor": 5
}
