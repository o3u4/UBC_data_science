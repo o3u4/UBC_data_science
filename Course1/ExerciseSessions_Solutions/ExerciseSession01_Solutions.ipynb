{
 "cells": [
  {
   "cell_type": "markdown",
   "id": "fbc33e1d-ce0a-4436-9939-9543e463fb3c",
   "metadata": {},
   "source": [
    "# **Exercise Session 1 - Solutions**\n",
    "# Developed by Biljana Jonoska Stojkova, PhD\n",
    "# Revised by Johnson Chen"
   ]
  },
  {
   "cell_type": "markdown",
   "id": "b53d7043-eb0b-4f27-95ec-f1b656b4d943",
   "metadata": {},
   "source": [
    "## **Lecture 1 - Principles of Study Design and Sampling Techniques**\n",
    "\n",
    "Today, we will explore the Copper case study to define primary research questions and study design. This preparation will set the stage for Day 2, where we will formulate the statistical problem while incorporating the complexities of data structures into the problem definition. \n",
    "\n",
    "Each student will have the opportunity to practice formulating research questions. You will learn how to identify the basic statistical concepts behind the study, including:\n",
    "\n",
    "- **Primary Research Question (Day 1)**\n",
    "- **Study Design Type (Day 1)**\n",
    "- **Limitations from the Study Design and Analysis Methods (Day 1)**\n",
    "- **Statistical Hypothesis Formulation (Day 2)**\n",
    "- **Sample Size Considerations (Day 2)**\n",
    "- **Presenting Your Study Protocol (Day 3)**\n",
    "\n",
    "This exercise will be conducted in three parts. You will work within your team, each of you will have a role to play. The final part of the exercise will involve a small presentation of your findings."
   ]
  },
  {
   "cell_type": "markdown",
   "id": "4cdd98d5-7485-489a-b1cf-f89b219c9048",
   "metadata": {},
   "source": [
    "## **Today's learning goal**:  \n",
    "\n",
    "- Clearly define the research question\n",
    "\n",
    "- Clearly explain complex study design\n"
   ]
  },
  {
   "cell_type": "markdown",
   "id": "9bc177b8-52ce-4470-b40b-34564d5b7020",
   "metadata": {},
   "source": [
    "## **Study: One-Year Trial Evaluating the Durability and Antimicrobial Efficacy of Copper in Public Transportation Systems**\n",
    "\n",
    "### **Introduction**\n",
    "\n",
    "The main objective of this study is to test the effect of three Copper products after 12 months of use on public transit. Copper is known for its biocidal properties against microorganisms. During the COVID pandemic, epidemiological measures were taken to reduce the spread of transmissible diseases. A mining company that produces Copper funded this research study to assess the usability of Copper on public transit.\n",
    "\n",
    "The application of copper (Cu) alloys to high-touch surfaces could help reduce the risk of cross-contamination; however, little is known about the durability and efficacy of engineered copper surfaces after prolonged use.\n",
    "\n",
    "Three different commercially available Cu alloy products, ranging from 80 to 91.3% Cu content, were installed on high-touch surfaces in buses and trains (SkyTrain) in Vancouver, as well as subway cars, streetcars, and buses in Toronto, and monitored over the course of one year. The primary objective of this study was to establish the antimicrobial efficacy and durability of Cu alloy surfaces over 12 months of use in public transit vehicles located in two Canadian cities.\n",
    "\n",
    "For more details read published scientific article in Nature - Scientific Reports:\n",
    "[https://www.nature.com/articles/s41598-024-56225-9](https://www.nature.com/articles/s41598-024-56225-9) \n",
    "\n",
    "Please note that the data set we will use in this course uses simulated data, that follow the descirptions of the data in the published article.\n",
    "\n",
    "\n",
    "### **Primary Research Question**\n",
    "\n",
    "Does the use of Copper products reduce the biomass on public transit in Vancouver and Toronto after 12 months?\n",
    "\n",
    "### **Study Design**\n",
    "\n",
    "Stanchions (handrails on public transit) are highly touchable surfaces frequently used by passengers.\n",
    "\n",
    "In this study, copper products were randomly installed on 110 stanchions across three buses and four trains (SkyTrain) in Vancouver, and three buses, two subway cars, and two streetcars in Toronto. Each copper-coated stanchion was paired with a control stanchion placed nearby to ensure close proximity for comparison. Bacterial counts (Colony Forming Units, CFU) were measured every two months after peak morning routes. A Petrifilm Plate Reader Advanced imager was used to collect and process the microbial samples in the microbiology lab to obtain CFU numbers. Three replicate samples were taken from each stanchion for both copper-coated and control surfaces.\n",
    "\n",
    "There is extensive literature supporting CFU as a reliable measure of biomass on highly touchable surfaces in public transit, so this will be used as the primary outcome measure for this study.\n",
    "\n",
    "The 12-month trial was conducted in collaboration with the Toronto Transit Commission (TTC) and Vancouver TransLink (TL). A total of 14 vehicles were used.\n",
    "\n",
    "Microbial samples were collected one to three hours after the last passenger departed from the transit vehicle and prior to cleaning.\n",
    "\n",
    "Although cleaning protocols were changing over the study period, microbial samples for copper and control stanchions were taken simultaneously, as the main objective was to compare the copper-coated surfaces to the control surfaces after 12 months.\n",
    "\n",
    "Read more here: https://asda.stat.ubc.ca/Workshops/asda.stat.ubc.ca/Workshop/2024-07-VSP_Course1/ExerciseStudyDesign.html"
   ]
  },
  {
   "cell_type": "markdown",
   "id": "f66da350-9f14-49ef-be32-f9820a4efbc5",
   "metadata": {},
   "source": [
    "<img src=\"../images/ProblemFormulation-StatsMethodologie.drawio.png\">\n"
   ]
  },
  {
   "cell_type": "markdown",
   "id": "8e65e744-5bed-4c6a-b716-3f2e8e43d4ce",
   "metadata": {},
   "source": [
    "**Teams 1-18:**\n",
    "\n",
    "Each team member is assigned a role: a researcher or a statistician.\n",
    "\n",
    "**Researcher**\n",
    "\n",
    "**Q1. Describe what you want to learn from the dataset.**\n",
    "\n",
    "- Write a sentence on the research question using simple language, e.g., `Does using copper on handrails reduce germs on public transit?`\n"
   ]
  },
  {
   "cell_type": "markdown",
   "id": "474e8796-30fe-4a0c-9db6-87b4f57c7c32",
   "metadata": {},
   "source": [
    "**Task Q1 Answer (Researcher):**  Does using copper on handrails reduce germs on public transit overall vehicles and accross both cities, compared to stainless steel controls?\n"
   ]
  },
  {
   "cell_type": "markdown",
   "id": "b4af2d88-0b61-4ba6-b0d8-6bc3fc7e44ee",
   "metadata": {},
   "source": [
    "**Q2. Describe how you plan to collect data in simple terms.**\n",
    "\n",
    "- Write a sentence on the study design in simple terms, such as `We will put copper on some handrails and not on others, and then we will count how many germs are on each.`\n",
    "\n",
    "- If easier, use drawing software or pen and paper  to identify the structures in the dataset. A study design diagram or drawing can support the written details of the study design and illustrate the complexities in the data. This can also be a very useful tool when discussing with your team."
   ]
  },
  {
   "cell_type": "markdown",
   "id": "11ae8741-647d-45b5-b382-2999ebf4810d",
   "metadata": {},
   "source": [
    "**Task Q2 Answer (Researcher):** We will install copper on three Stanchions and stainless steel (controls) on another set of three matched Stanchions within each vehicle in each city, we will take three samples from each Stanchion.  \n"
   ]
  },
  {
   "cell_type": "markdown",
   "id": "2c490ee3-1e03-4783-98f9-90d7f7d25fd9",
   "metadata": {},
   "source": [
    "<img src=\"../images/41598_2024_56225_Fig1_HTML.png\">"
   ]
  },
  {
   "cell_type": "markdown",
   "id": "3da5ea8d-ba61-4491-8bea-a9c34766c9f1",
   "metadata": {},
   "source": [
    "**Statistician**\n",
    "\n",
    "Guide the researcher in formulating a clear research question. Ask questions like this:\n",
    "\n",
    "- Can you please tell me more about how you are planning to measure the 'reduction of germs'?"
   ]
  },
  {
   "cell_type": "markdown",
   "id": "6b626f24-cc61-42ba-a1b2-e63e7397abd2",
   "metadata": {},
   "source": [
    "**Researcher**:\n",
    "\n",
    "Well, we have a standard measure in the microbiology field known as Colony-forming Units (CFU). But it is highly skewed, and it is typically analyzed on a log 10 scale."
   ]
  },
  {
   "cell_type": "markdown",
   "id": "ed1de65f-92fa-4c44-ad39-dc7725991f94",
   "metadata": {},
   "source": [
    "**Statistician:**\n",
    "\n",
    "Oh, I see, so this is a relevant measure for the phenomenon of interest (reduced biomass on transit)!\n",
    "\n",
    "**Statistician:**\n",
    "\n",
    "Your main goal is to compare CFU for Copper and Control handrails at 12 months. These measurements need to be comparable (as in the basic math rule, we need to compare apples to apples). How are you planning to install the Copper and Control (Steel) materials on transit?"
   ]
  },
  {
   "cell_type": "markdown",
   "id": "e1a89fab-9e4f-45d5-8fe6-b8e822c5725d",
   "metadata": {},
   "source": [
    "**Researcher**:\n",
    "\n",
    "Yes, we will pair Control and Copper handrails (Stanchions) and install them close to each other on each vehicle."
   ]
  },
  {
   "cell_type": "markdown",
   "id": "3a09e16e-ae32-43a5-892f-ee0936a10ce1",
   "metadata": {},
   "source": [
    "**Statistician:**\n",
    "\n",
    "How many stanchions have Copper products installed, and how many have stainless steel?"
   ]
  },
  {
   "cell_type": "markdown",
   "id": "01dcd6f6-36c5-464e-afb1-b66754466bab",
   "metadata": {},
   "source": [
    "**Researcher:**\n",
    "\n",
    "We have 3 pairs of each on 3 vehicles in two cities (Vancouver and Toronto), making a total of 36 stanchions. Do you think this will be enough sample size?"
   ]
  },
  {
   "cell_type": "markdown",
   "id": "fce8f6f7-327e-4edc-a0f9-0547ad2d52a7",
   "metadata": {},
   "source": [
    "**Statistician:**\n",
    "\n",
    "Alright! I cannot determine anything about the sample size until we have clearly defined the primary statistical hypothesis. Your study design is complex, so we will need to discuss further to get there. Do you collect a variable on pairing that will indicate which stanchion is matched to which (between the Control and Copper)?"
   ]
  },
  {
   "cell_type": "markdown",
   "id": "72b644de-f831-46bd-9713-c0f661312c02",
   "metadata": {},
   "source": [
    "**Researcher:**\n",
    "\n",
    "Oh, I am not sure! I will have to refer you to the company that collects the data and stores them in a database."
   ]
  },
  {
   "cell_type": "markdown",
   "id": "df06e0c5-00ba-4016-ab52-7b4db43f8653",
   "metadata": {},
   "source": [
    "**Statistician:**\n",
    "\n",
    "How many vehicles per city? How many stanchions per vehicle? Are any repeated measures taken from each stanchion? Are they balanced?"
   ]
  },
  {
   "cell_type": "markdown",
   "id": "fff5f7ab-2009-4c47-b60e-677e0ae872dd",
   "metadata": {},
   "source": [
    "**Researcher:**\n",
    "\n",
    "We have 3 vehicles per city, 6 stanchions per vehicle, and from each stanchion, we take 3 samples. There is minimal missing data."
   ]
  },
  {
   "cell_type": "markdown",
   "id": "4d508ee8-77f3-4678-bd18-b68e3e4eea06",
   "metadata": {},
   "source": [
    "Side Note: Of course, the real study sample size was much bigger. Here, we emulate that dataset, and it is much smaller, but it incorporates most of the complexities found in the real dataset."
   ]
  },
  {
   "cell_type": "markdown",
   "id": "9b2cff7a-378b-4a20-973f-acaa39671a67",
   "metadata": {},
   "source": [
    "**Statistician:**\n",
    "\n",
    "Given the complexity of the study design, we need to clarify your research question and prioritize the research questions.\n",
    "\n",
    "Is your primary interest to assess the mean CFU reduction between Controls and Copper across all cities and vehicles and all repeated samples taken from each stanchion? Or do you want to assess the mean CFU reduction between Controls and Copper per city or per vehicle?"
   ]
  },
  {
   "cell_type": "markdown",
   "id": "bc9ea8b9-a2a2-4b4a-a794-64be2afd540f",
   "metadata": {},
   "source": [
    "**Researcher:**\n",
    "\n",
    "Great questions! The primary interest is to assess the mean CFU reduction between Controls and Copper across all cities and vehicles and all repeated samples.\n",
    "\n",
    "However, we would also like to estimate the mean CFU difference between the Control and Copper for each city. But this is a secondary research question."
   ]
  },
  {
   "cell_type": "markdown",
   "id": "e8d27d77-983c-4700-8918-ba10d3ba0128",
   "metadata": {},
   "source": [
    "**Statistician:**\n",
    "\n",
    "Alright, so for the secondary research question, we will estimate the mean CFU difference between the Control and Copper for each city, across all vehicles and all repeated samples taken from each stanchion?"
   ]
  },
  {
   "cell_type": "markdown",
   "id": "86a2b67c-db35-4624-b732-de035d05e146",
   "metadata": {},
   "source": [
    "**Researcher:**\n",
    "\n",
    "Yes!"
   ]
  },
  {
   "cell_type": "markdown",
   "id": "52434b81-87fe-42df-940c-7d3d56a5fc6d",
   "metadata": {},
   "source": [
    "**Statistician:**\n",
    "\n",
    "Splendid! I will write up the research questions, prioritized by primary and secondary research questions. I will also write a paragraph to describe the variables in the study design, as this needs to be explained for the report."
   ]
  },
  {
   "cell_type": "markdown",
   "id": "ac8ba5dd-aa0c-4b8c-a804-205f9b6c0b2a",
   "metadata": {},
   "source": [
    "### In the following cells, please write one sentence for each research question and explain the study design.\n",
    "\n",
    "**Hint:** Following the discussion between the statistician and the researcher, choose which of the research questions are primary and which are secondary research questions, and write (copy/paste) your answers in the cells below.\n",
    "\n",
    "       A. Estimate the effect of copper in reducing the bacterial life on public transit, across all vehicles and across two Canadian cities (Vancouver and Toronto).\n",
    "        \n",
    "       B. Estimate the effect of copper in reducing the bacterial life on public transit, across all vehicles in each of the Canadian cities (Vancouver and Toronto) separately.\n",
    "\n",
    "       C. Estimate the effect of copper in reducing the bacterial life on public transit for each vehicle in each of the Canadian cities (Vancouver and Toronto) separately.\n",
    "\n",
    "       D. Estimate the effect of copper in reducing the bacterial life on public transit for each vehicle separately."
   ]
  },
  {
   "cell_type": "markdown",
   "id": "fa77f690-b30e-475d-abc1-904d357cbdbe",
   "metadata": {},
   "source": [
    "**Primary Research Question - Statistician**: A\n"
   ]
  },
  {
   "cell_type": "markdown",
   "id": "63bca07c-e7b3-40cc-9854-5e1efe6f607c",
   "metadata": {},
   "source": [
    "**Secondary Research Question - Statistician**: B\n"
   ]
  },
  {
   "cell_type": "markdown",
   "id": "c1f7a453-c4eb-42cc-abd9-f5bbbc8bdd5b",
   "metadata": {},
   "source": [
    "**Study Design - Statistician**: Use graphics to illustrate the design. Identify which variables are structural, such as:\n",
    "\n",
    "**Hint**:\n",
    "- Which variable is the observational unit?\n",
    "- Are there repeated measures for each observational unit?\n",
    "- Are observational units clustered?\n",
    "- Are clusters of observational units further clustered?"
   ]
  },
  {
   "cell_type": "markdown",
   "id": "68e03b44-455a-4223-9ba5-8981c7c2a2fd",
   "metadata": {},
   "source": [
    "**Answer: Study Design - Statistician  Explain**:\n",
    "\n",
    "- Stanchion is the observational unit\n",
    "- Yes, Three repeated measures (samples) collected from each Stanchion\n",
    "- Yes, Stanchions are clustered within a pair of two stanchions (a Copper and a Control stanchion within each vehicle).\n",
    "- Yes, Pairs of Stanchions are clustered within each vehicle, and vehicles are clustered within city\n"
   ]
  },
  {
   "cell_type": "markdown",
   "id": "8133ecf7-53b2-498e-bbf5-8859fd4f38c2",
   "metadata": {},
   "source": [
    "<img src=\"../images/CopperStudyStructure.drawio.png\">"
   ]
  },
  {
   "cell_type": "markdown",
   "id": "4f167e60-4c25-4cd3-9a46-9582c74d0a22",
   "metadata": {},
   "source": [
    "**Statistician:**\n",
    "\n",
    "Any estimates obtained for the primary and secondary analysis will be valid under the assumption that we can combine the data, i.e., CFU is measured according to the same protocols in each city and for each vehicle at the same time point.\n",
    "\n",
    "Cleaning protocols need to be explained clearly and included in the research report as well. The cleaning protocol defines the scenario (and limitations) under which the estimates of this study will be valid. Therefore, I recommend that you include this as a major limitation of the study in your study protocol."
   ]
  },
  {
   "cell_type": "markdown",
   "id": "3c5e5be4-729d-4c9e-8ed3-2635a18e44d7",
   "metadata": {},
   "source": [
    "**Researcher:**\n",
    "\n",
    "Got it! We have the cleaning protocols, and they will adhere to the same protocol as much as possible, but real life is, of course, messy. Yes, we will write this up.\n"
   ]
  },
  {
   "cell_type": "markdown",
   "id": "7790fde7-f1e2-4c26-96b3-45b49da9b68c",
   "metadata": {},
   "source": [
    "### In the following cells, researcher please write one or a few sentences to address the major limitation"
   ]
  },
  {
   "cell_type": "markdown",
   "id": "d92ac3e6-1347-4e8a-8b57-229bcc92b0e4",
   "metadata": {},
   "source": [
    "**Major limitation - Researcher**: When we combine the data from different vehicles and cities together we make an assumption that outcome of interest (CFU) is measured under comparable conditions accross all vehiles and cities. Eventhough cleanining protocols are mostly consistent accross the vehicles and the cities, any deviations from the standard protocols may render CFU incomparable between the vehicles and cities, which ultimately can result in biased estimates of the effect of Copper. "
   ]
  },
  {
   "cell_type": "markdown",
   "id": "6dc18169-98d2-4621-aec1-aeadf34b1dd1",
   "metadata": {},
   "source": [
    "**Upload your work from Lecture 1 Exercise session**\n",
    "\n",
    "- Each student will upload the Jupiter Notebook on Canvas Course 1: https://canvas.ubc.ca/courses/144703:\n",
    "\n",
    " `[Lecture_1_Exercise_Session 1]_[TeamNumber]_[student name].ipynb`\n",
    "eg., `Lecture_1_Exercise_Session 1_Team21_Biljana_Jonoska_Stojkova.ipynb`\n",
    "\n",
    "- Please write at the title who was responsible for writing each paragraph. \n",
    "\n",
    "Navigate to the Assignments section on Canvas Course 1, and upload the Jupiter document on Canvas under:\n",
    "`Class Participation\\Lecture 1 - Principles of study design and sampling techniques` \n"
   ]
  }
 ],
 "metadata": {
  "kernelspec": {
   "display_name": "R",
   "language": "R",
   "name": "ir"
  },
  "language_info": {
   "codemirror_mode": "r",
   "file_extension": ".r",
   "mimetype": "text/x-r-source",
   "name": "R",
   "pygments_lexer": "r",
   "version": "4.3.3"
  }
 },
 "nbformat": 4,
 "nbformat_minor": 5
}
