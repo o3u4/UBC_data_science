{
 "cells": [
  {
   "cell_type": "markdown",
   "id": "fba64e4c-eede-4241-8d5c-a1e194ca16f0",
   "metadata": {},
   "source": [
    "# **Exercise Session 4 - Solutions**\n",
    "# Developed by Biljana Jonoska Stojkova, PhD\n",
    "# Revised by Johnson Chen\n",
    "\n"
   ]
  },
  {
   "cell_type": "markdown",
   "id": "586bb1f6-8d41-4828-8238-d0182180f777",
   "metadata": {},
   "source": [
    "## **Lecture 4: Introduction to Exploratory Data Analysis principles**\n",
    "\n",
    "Today we will continue explore the Copper dataset, the study we designed from Day 1 to 3. I have prepared some plots for you to run and experiment with. The goal for today's session is to focus on understanding the data types in our dataset, justifying what kinds of plots are appropriate for our dataset, and interpreting the graphics. Please continue working in your team. Each team member will be assigned a variable to explore.\n",
    "\n",
    "### **Task for All Teams:**\n",
    "\n",
    "**Q1.** Run the code to view the dataset.\n",
    "\n",
    "**Q2.** Identify which variable indicates the observational unit (e.g., SampleID, StanchionID, Pairing)."
   ]
  },
  {
   "cell_type": "code",
   "execution_count": null,
   "id": "55e1e208-15b3-4572-b646-9e931124398a",
   "metadata": {
    "tags": []
   },
   "outputs": [],
   "source": [
    "library(tidyverse)\n",
    "ds=read_csv(\"../data/CopperData.csv\")\n",
    "# mutate these variables from double to character type\n",
    "ds <- ds %>% mutate(StanchionID = as.character(StanchionID),\n",
    "\t\t\t    \tPairing = as.character(Pairing),\n",
    "\t\t\t\t\tVehicleNumber = as.character(VehicleNumber))\n",
    "\n",
    "head(ds)"
   ]
  },
  {
   "cell_type": "markdown",
   "id": "38e2b290-1b43-4c2e-b64c-0c0fe0f9e907",
   "metadata": {},
   "source": [
    "Answer Q2:"
   ]
  },
  {
   "cell_type": "markdown",
   "id": "ce2a8419-0616-4c72-b450-d2fdbb1cb90b",
   "metadata": {},
   "source": [
    "**Teams 1 - 4:**\n",
    "\n",
    "**Q1.** Identify what data type or type of variable is the variable `Stanchion ID`?\n",
    "\n",
    "**Q2.** What structure does `Stanchion ID` introduce for this dataset?\n",
    "\n",
    "**Q3.** What would be an appropriate univariate plot to explore the distribution of `Stanchion ID`?\n",
    "\n",
    "**Q4.** Was our statistical problem defined on Day 2 focused on exploring or interpreting the distribution of `Stanchion ID`?\n",
    "\n",
    "**Q5.** Interpret the plot. Does the plot convey any information about the research question from Day 1-3?\n",
    "\n",
    "Type your answer in the cells below:"
   ]
  },
  {
   "cell_type": "markdown",
   "id": "66609243-54c7-4ab0-938a-092048c82404",
   "metadata": {},
   "source": [
    "Answer 1. Categorical data type"
   ]
  },
  {
   "cell_type": "markdown",
   "id": "a21288a0-7ff1-4d65-9d72-d4666ce18bae",
   "metadata": {},
   "source": [
    "Answer 2. StanchionID is the observational unit"
   ]
  },
  {
   "cell_type": "markdown",
   "id": "d309c2c8-e581-4042-b884-a95a984dd18e",
   "metadata": {},
   "source": [
    "Answer 3. Barchart to show counts of stanchions."
   ]
  },
  {
   "cell_type": "markdown",
   "id": "597d828e-caf7-4be4-a983-6df76a2dd30c",
   "metadata": {},
   "source": [
    "Answer 4. No"
   ]
  },
  {
   "cell_type": "code",
   "execution_count": null,
   "id": "cb322ed0-dfef-4e8c-a806-b7e5b3cb52dd",
   "metadata": {
    "tags": []
   },
   "outputs": [],
   "source": [
    "#Q5 run this code to see the plot, what can you say about the plot? is it adequate for the data type?\n",
    "\n",
    "g2 <- ds %>% ggplot(aes(x=StanchionID)) + geom_bar() +labs(title=\"Distribution of Stanchions\")\n",
    "g2"
   ]
  },
  {
   "cell_type": "markdown",
   "id": "b1aba770-e098-4d9f-9023-d8e9d30d7f7c",
   "metadata": {},
   "source": [
    "Answer 5. Not directly."
   ]
  },
  {
   "cell_type": "markdown",
   "id": "5e6dd18e-d37d-4124-9fbc-6cd34d87b6d7",
   "metadata": {},
   "source": [
    "**Teams 5 - 7:**\n",
    "\n",
    "**Q1.** Identify what data type or type of variable is the variable `Pairing`?\n",
    "\n",
    "**Q2.** What structure does `Pairing` introduce for this dataset?\n",
    "\n",
    "**Q3.** What would be an appropriate univariate plot to explore the distribution of `Pairing`?\n",
    "\n",
    "**Q4.** Was our statistical problem defined on Day 2 focused on exploring or interpreting the distribution of `Pairing`?\n",
    "\n",
    "**Q5.** Interpret the plot. Does the plot convey any information about the research question from Day 1-3?\n",
    "\n",
    "Type your answer in the cells below:"
   ]
  },
  {
   "cell_type": "markdown",
   "id": "9b5d4786-9456-444b-9065-debb402e3c7f",
   "metadata": {},
   "source": [
    "Answer 1. Categorical"
   ]
  },
  {
   "cell_type": "markdown",
   "id": "dd914194-ef1e-4cda-b077-3552a827ae15",
   "metadata": {},
   "source": [
    "Answer 2. Pairing denotes how one stanchion with Copper is paired to a matching stanchion within a same Vehicle. This makes the Copper and Control stanchions withn each vehcile are comparable."
   ]
  },
  {
   "cell_type": "markdown",
   "id": "a1f622b5-086c-4266-8904-dbc381c9aad6",
   "metadata": {},
   "source": [
    "Answer 3. Barchart, to show count of pairs"
   ]
  },
  {
   "cell_type": "markdown",
   "id": "057d4165-bddd-44bc-beb0-c2c6be6f0835",
   "metadata": {},
   "source": [
    "Answer 4. No"
   ]
  },
  {
   "cell_type": "code",
   "execution_count": null,
   "id": "1d623698-899e-459e-8b71-563d4801d885",
   "metadata": {
    "tags": []
   },
   "outputs": [],
   "source": [
    "#Q5 run this code to see the plot, what can you say about the plot? is it adequate for the data type?\n",
    "\n",
    "g3 = ds %>% ggplot(aes(x=Pairing)) + geom_bar() +labs(title=\"Distribution of Pairing\")\n",
    "g3"
   ]
  },
  {
   "cell_type": "markdown",
   "id": "d5612057-7838-469c-8e72-f58ccc262255",
   "metadata": {},
   "source": [
    "Answer 5. Not directly."
   ]
  },
  {
   "cell_type": "markdown",
   "id": "4f27561b-1879-48ad-a84e-7db296873292",
   "metadata": {},
   "source": [
    "**Teams 8 - 10:**\n",
    "\n",
    "**Q1.** Identify what data type or type of variable is the variable `VehicleNumber`?\n",
    "\n",
    "**Q2.** What structure does `VehicleNumber` introduce for this dataset?\n",
    "\n",
    "**Q3.** What would be an appropriate univariate plot to explore the distribution of `VehicleNumber`?\n",
    "\n",
    "**Q4.** Was our statistical problem defined on Day 2 focused on exploring or interpreting the distribution of `VehicleNumber`?\n",
    "\n",
    "**Q5.** Interpret the plot. Does the plot convey any information about the research question from Day 1-3?\n",
    "\n",
    "Type your answer in the cells below:"
   ]
  },
  {
   "cell_type": "markdown",
   "id": "f9eacda6-a440-4e5c-ba38-e5946b7aeaa3",
   "metadata": {},
   "source": [
    "Answer 1. Categorical"
   ]
  },
  {
   "cell_type": "markdown",
   "id": "694f40ba-86a7-4be2-8ffb-730125d8b716",
   "metadata": {},
   "source": [
    "Answer 2. Another level of sampling. Cities were selected, then vehicles within the cities, and stanchions within each vehicles were paired with Copper and Control products."
   ]
  },
  {
   "cell_type": "markdown",
   "id": "cc9d86b9-b73a-42d1-8c89-ac8e099f08cb",
   "metadata": {},
   "source": [
    "Answer 3. Barchart to show counts for each `VehicleNumber`"
   ]
  },
  {
   "cell_type": "markdown",
   "id": "66feba9e-7ae5-40c3-a484-b9729e8e024f",
   "metadata": {},
   "source": [
    "Answer 4. No"
   ]
  },
  {
   "cell_type": "code",
   "execution_count": null,
   "id": "ce546d9a-9d6f-4b95-9089-4abdeda2f258",
   "metadata": {},
   "outputs": [],
   "source": [
    "g4 = ds %>% ggplot(aes(x=VehicleNumber)) + geom_bar() +labs(title=\"Distribution of VehicleNumber\")\n",
    "g4"
   ]
  },
  {
   "cell_type": "markdown",
   "id": "3b555cd8-b6a3-46e3-b82d-e08a56e9d6e6",
   "metadata": {},
   "source": [
    "Answer 5.  Not direclty"
   ]
  },
  {
   "cell_type": "markdown",
   "id": "ed7533fa-77a4-4f9d-b31f-fc816d8fc47c",
   "metadata": {},
   "source": [
    "**Teams 11 - 13:**\n",
    "\n",
    "**Q1.** Identify what data type or type of variable is the variable `City`?\n",
    "\n",
    "**Q2.** What structure does `City` introduce for this dataset?\n",
    "\n",
    "**Q3.** What would be an appropriate univariate plot to explore the distribution of `City`?\n",
    "\n",
    "**Q4.** Was our statistical problem defined on Day 2 focused on exploring or interpreting the distribution of `City`?\n",
    "\n",
    "**Q5.** Interpret the plot. Does the plot convey any information about the research question from Day 1-3?\n",
    "\n",
    "Type your answer in the cells below:"
   ]
  },
  {
   "cell_type": "markdown",
   "id": "3e9865b0-f0fb-47c9-bf9d-7732ef752cbb",
   "metadata": {},
   "source": [
    "Answer 1. Categorical"
   ]
  },
  {
   "cell_type": "markdown",
   "id": "b7cefb11-ae23-4523-b42f-dd842eb33e79",
   "metadata": {},
   "source": [
    "Answer 2. Highest sampling level, first Cities were selected and then vehicles were selected within each city."
   ]
  },
  {
   "cell_type": "markdown",
   "id": "ed82aab1-cb49-4387-a2dd-1b67c5000a2a",
   "metadata": {},
   "source": [
    "Answer 3. Barchart to show counts for each city"
   ]
  },
  {
   "cell_type": "markdown",
   "id": "52811f42-b98d-4b06-8a4b-dbea66dc7299",
   "metadata": {},
   "source": [
    "Answer 4.  No"
   ]
  },
  {
   "cell_type": "code",
   "execution_count": null,
   "id": "3fd8ac90-cbb2-4ea7-942e-8d2d5a27507c",
   "metadata": {
    "tags": []
   },
   "outputs": [],
   "source": [
    "g5 = ds %>% ggplot(aes(x=City)) + geom_bar() +labs(title=\"Distribution of City\")\n",
    "g5"
   ]
  },
  {
   "cell_type": "markdown",
   "id": "93dd65cf-37f3-41b0-b1f4-606f27f062b0",
   "metadata": {},
   "source": [
    "Answer 5. Not directly"
   ]
  },
  {
   "cell_type": "markdown",
   "id": "f5d7d3d5-ef4b-4c77-b6cb-bdf0117b5230",
   "metadata": {},
   "source": [
    "**Teams 14 - 18:**\n",
    "\n",
    "**Q1.** Identify what data type or type of variable is the variable `logCFU`?\n",
    "\n",
    "**Q2.** What structure does `logCFU` introduce for this dataset?\n",
    "\n",
    "**Q3.** What would be an appropriate univariate plot to explore the distribution of `logCFU`?\n",
    "\n",
    "**Q4.** Was our statistical problem defined on Day 2 focused on exploring or interpreting the distribution of `logCFU`?\n",
    "\n",
    "**Q5.** Interpret the plot. Does the plot convey any information about the research question from Day 1-3?\n",
    "\n",
    "Type your answer in the cells below:"
   ]
  },
  {
   "cell_type": "markdown",
   "id": "f90cc587-dfb8-40f6-86c4-8bfbb70050e5",
   "metadata": {},
   "source": [
    "Answer 1. Continuous"
   ]
  },
  {
   "cell_type": "markdown",
   "id": "89ba270a-ac7c-4eec-b9f2-1dbbf9999178",
   "metadata": {},
   "source": [
    "Answer 2. It is the primary outcome of interest, the most reliable measure of the quantity of biomass on each stanchion"
   ]
  },
  {
   "cell_type": "markdown",
   "id": "c50abf95-103b-425a-a25d-553168795e88",
   "metadata": {},
   "source": [
    "Answer 3. Histogram to show the distribution of the CFU accross samples, stanchions, vehicles and cities."
   ]
  },
  {
   "cell_type": "markdown",
   "id": "b98000b5-e9de-46eb-8e9d-87f1b3b97871",
   "metadata": {},
   "source": [
    "Answer 4. No"
   ]
  },
  {
   "cell_type": "code",
   "execution_count": null,
   "id": "b5a7ff18-d412-418d-9aa6-19ef143b1f38",
   "metadata": {
    "tags": []
   },
   "outputs": [],
   "source": [
    "g6 = ds %>% ggplot(aes(x=logCFU)) + geom_histogram() +labs(title=\"Distribution of logCFU\")\n",
    "g6"
   ]
  },
  {
   "cell_type": "markdown",
   "id": "b98d4eaf-a891-4204-8626-201046e156a0",
   "metadata": {},
   "source": [
    "Answer 5. Not directly."
   ]
  },
  {
   "cell_type": "markdown",
   "id": "45a05259-5248-4562-88c0-63d62e228f48",
   "metadata": {},
   "source": [
    "**Upload your work from Lecture 4 Exercise session**\n",
    "\n",
    "**Note.** Jupiter Notebook is acceptable for Class participation mark. \n",
    "          Please make sure you save your JupiterNotebook with Answers.\n",
    "\n",
    "- Each student will upload the Jupiter Notebook on Canvas Course 1: https://canvas.ubc.ca/courses/144703::\n",
    "\n",
    " `[Lecture_4_Exercise_Session 4]_[TeamNumber]_[student name].ipynb`\n",
    "eg., `Lecture_4_Exercise_Session 4_Team21_Biljana_Jonoska_Stojkova.ipynb`\n",
    "\n",
    "- Please write at the title who was responsible for writing each paragraph. \n",
    "\n",
    "Navigate to the Assignments section on Canvas Course 1, and upload the Jupiter document on Canvas under:\n",
    "`Class Participation\\Lecture 4 - Introduction to Exploratory Data Analysis principles` \n"
   ]
  }
 ],
 "metadata": {
  "kernelspec": {
   "display_name": "R",
   "language": "R",
   "name": "ir"
  },
  "language_info": {
   "codemirror_mode": "r",
   "file_extension": ".r",
   "mimetype": "text/x-r-source",
   "name": "R",
   "pygments_lexer": "r",
   "version": "4.3.3"
  }
 },
 "nbformat": 4,
 "nbformat_minor": 5
}
