{
 "cells": [
  {
   "cell_type": "markdown",
   "id": "896acd02-4de8-4752-a187-9d1e9af2e72b",
   "metadata": {},
   "source": [
    "# **Assignment 2**\n",
    "# Developed by Biljana Jonoska Stojkova, PhD\n",
    "# Revised by Johnson Chen"
   ]
  },
  {
   "cell_type": "markdown",
   "id": "dceafbb5-9e19-4573-b9a9-b476b2fb1e19",
   "metadata": {},
   "source": [
    "**Insert here your name:**\n",
    "\n",
    "**Your student ID:** \n",
    "\n",
    "**Total Marks earned:** \n",
    "\n",
    "**Score for Full Marks:**  70\n",
    "\n",
    "**Bonus marks:** 20\n"
   ]
  },
  {
   "cell_type": "markdown",
   "id": "507d3305-66a6-48a5-8900-297d6afa1c29",
   "metadata": {},
   "source": [
    "### Assignment Outline\n",
    "\n",
    "In this assignment series, you will get the training needed to complete the final report. With each new assignment you will master different aspects of the final report sections, thus filling different pieces of the puzzle with each assignment. \n",
    "\n",
    "In assignemnt 1, you formulated the research questions, described the data set, formulated the statsitical problem and determined the approrpate graph. In this Assignment, you will determine the appropriate statsitical methodologies, assess their assumptions, explain the methods and identify potential limitations from the chosen methodologies.\n",
    "\n",
    "\n",
    "In this assignment we will continue practicing writing the following sections of a statistical report:\n",
    "\n",
    "\n",
    "\n",
    "- Methodology -  appropriate statistical methods\n",
    "\n",
    "- Run the chosen methods analysis, assess the assumptions\n",
    "  \n",
    "- Discussion - Limitations from the chosen methodologies with respect to the data set, expected violations of the assumptions.\n",
    "\n",
    "\n"
   ]
  },
  {
   "cell_type": "markdown",
   "id": "bd8145c7-a530-4830-afbb-9ea70a0bcc2a",
   "metadata": {},
   "source": [
    "### 1. Run approprate methods analysis, assess the assumptions"
   ]
  },
  {
   "cell_type": "code",
   "execution_count": null,
   "id": "38d8bdd3-c941-4527-b208-32ec24f454c8",
   "metadata": {
    "tags": []
   },
   "outputs": [],
   "source": [
    "# run this code\n",
    "library(tidyverse)\n",
    "ds_ames = read_csv(\"../data/ames.csv\")\n",
    "colnames(ds_ames)\n",
    "ds_ames=ds_ames[,c(\"Order\",\"Sale_Price\",\"Land_Slope\",\"Neighborhood\")]\n",
    "\n",
    "ds_ames = ds_ames %>% mutate(Land_Slope_Descr= case_when(Land_Slope==\"Gtl\" ~\t\"Gentle slope\",\n",
    "                                                         Land_Slope==\"Mod\" ~\t\"Moderate Slope\",\t\n",
    "                                                         Land_Slope==\"Sev\" ~\t\"Severe Slope\",TRUE~Land_Slope))\n",
    "\n",
    "\n",
    "head(ds_ames)"
   ]
  },
  {
   "cell_type": "markdown",
   "id": "5a972c79-e865-478d-947e-9da97575c192",
   "metadata": {},
   "source": [
    "#### We will now assess which statistical method— One-way ANOVA or Linear Regression Model— is more appropriate to answer the research question:"
   ]
  },
  {
   "cell_type": "markdown",
   "id": "d352c272-6c4c-4ff9-adc7-12d8252ebc3a",
   "metadata": {
    "tags": []
   },
   "source": [
    "#### **Assumptions of One-Way ANOVA:**\n",
    "\n",
    "Using the results outputs below, assess each of these assumptions. Write **Severly Violated, Violated, Valid or Irrelevant:**\n",
    "\n",
    "(3 points each, total 12 points)\n"
   ]
  },
  {
   "cell_type": "code",
   "execution_count": null,
   "id": "a44cce83-d8e9-4468-850d-1daa50a3bb86",
   "metadata": {
    "scrolled": true,
    "tags": []
   },
   "outputs": [],
   "source": [
    "# One-Way ANOVA \n",
    "m1=aov(Sale_Price~Land_Slope_Descr, ds_ames)\n",
    "# Check for ANOVA assumptions\n",
    "# check for the equal variance within the comparison groups\n",
    "# by chcking the sample sizes within comparison groups\n",
    "ds_ames %>% count(Land_Slope_Descr)\n",
    "# check for normality of Sales Price for each group\n",
    "ds_ames %>% ggplot(aes(x=Sale_Price)) + geom_histogram()+facet_wrap(~Land_Slope_Descr)+labs(title=\"Histrogram of Sales Price by Land Slope Descr\")"
   ]
  },
  {
   "cell_type": "markdown",
   "id": "d6ea1f32-2f0b-441f-acb4-8ae1e453b909",
   "metadata": {},
   "source": [
    "1A. Comparison groups are two or more un-correlated samples.\n",
    "\n",
    "Answer:"
   ]
  },
  {
   "cell_type": "markdown",
   "id": "a2fde349-1c90-470a-a6f5-3124bc0e9602",
   "metadata": {},
   "source": [
    "1B. The outcome variable of interest is normally distributed within each comparison group.\n",
    "\n",
    "Answer:"
   ]
  },
  {
   "cell_type": "markdown",
   "id": "a19dbec1-e3e6-4fff-a02e-a856c7272ed0",
   "metadata": {},
   "source": [
    "1C. The outcome variable of interest has equal variance within each of the two comparison groups (related to equal sample size within each group).\n",
    "\n",
    "\n",
    "\n",
    "Answer:"
   ]
  },
  {
   "cell_type": "markdown",
   "id": "c13f9f5d-7d4b-4fb6-80c0-5c747b4abf00",
   "metadata": {},
   "source": [
    "\n",
    "1D. Independent observations: each comparison group represents a simple random sample from their respective populations and are independent of each other.\n",
    "\n",
    "\n",
    "\n",
    "\n",
    "Answer:"
   ]
  },
  {
   "cell_type": "code",
   "execution_count": null,
   "id": "558f42a0-6f72-4f42-919e-40601b1878aa",
   "metadata": {},
   "outputs": [],
   "source": [
    "# Linear model \n",
    "m2 = lm(Sale_Price~Land_Slope_Descr, ds_ames)\n",
    "# Check assumptions\n",
    "par(mfrow=c(2,2))\n",
    "plot(m2)\n",
    "print(\"Interpret the results from the linear model:\")\n",
    "summary(m2)\n",
    "print(\"Confidence intervals of the linear model estimates:\")\n",
    "confint(m2)"
   ]
  },
  {
   "cell_type": "markdown",
   "id": "05c26255-b55d-4e6a-86de-82629f1a50d9",
   "metadata": {},
   "source": [
    "#### **Assumptions of Linear Regression**\n",
    "\n",
    "Using the results outputs below, assess each of these assumptions. **Write Severly Violated, Violated, Valid or Irrelevant:**\n",
    "\n",
    "(3 points each, total 15 points)\n"
   ]
  },
  {
   "cell_type": "markdown",
   "id": "dc38942f-604a-4392-ac13-af1e23e828d5",
   "metadata": {},
   "source": [
    "1a. Linear relationship, there exists a linear relationship between the variables x and y.\n",
    "  \n",
    "Answer:\n"
   ]
  },
  {
   "cell_type": "markdown",
   "id": "d153f364-7763-473f-9b0c-755fdf1dbd8e",
   "metadata": {},
   "source": [
    "1b. Independence of the residuals, observations should be measurements taken from independent observational or experimental units (i.e., true replicas).\n",
    "\n",
    "  \n",
    "Answer:\n"
   ]
  },
  {
   "cell_type": "markdown",
   "id": "1742ce80-0f01-4c04-8ef2-8e75b117fdb9",
   "metadata": {},
   "source": [
    "1c: Homoscedasticity, the residuals have constant variance at every level of the variable x.\n",
    "\n",
    "Answer:\n",
    "\n",
    "\n"
   ]
  },
  {
   "cell_type": "markdown",
   "id": "7edd4ea0-3322-4340-a8a9-8a211a0b3cca",
   "metadata": {},
   "source": [
    "1d:  Normality of the residuals, residuals should be approximately normally distributed.\n",
    "\n",
    "\n",
    "Answer:\n"
   ]
  },
  {
   "cell_type": "markdown",
   "id": "4fe19d9f-a26c-4670-986a-0e8dce2be486",
   "metadata": {},
   "source": [
    "1e. No influential outliers.\n",
    "\n",
    "Answer:\n"
   ]
  },
  {
   "cell_type": "markdown",
   "id": "4b73b051-899f-40ed-ba4d-14be8dc5c288",
   "metadata": {},
   "source": [
    "#### **Which one is more appropriate, One-Way ANOVA or linear model?**\n",
    "\n",
    "State and justify your answer.\n",
    "\n",
    "    \n",
    "(10 points): 5 points for correctly identifying the appropriate method, 5 points for justifying why the chosen method is most appropriate for addressing the primary statistical problem.\n"
   ]
  },
  {
   "cell_type": "markdown",
   "id": "a71b3362-fdb9-43b8-852f-babf8422cbb9",
   "metadata": {},
   "source": [
    "Answer: \n",
    "\n"
   ]
  },
  {
   "cell_type": "markdown",
   "id": "7c0bd3c5-d39b-44aa-be6f-571ae3b3e093",
   "metadata": {},
   "source": [
    "### **2. Methodology:** \n",
    "(This paragraph will continue to fill the methodology section you began with the EDA in Assignment 1)\n",
    "\n",
    "1. Write one sentence about the appropriate statistical methods and techniques applied based on the insights you gained in the previous cells.\n",
    "2. Write a second sentence about the correct specification of the applied method (e.g., which variable is the response, and which is the explanatory variable).\n",
    "3. Write a third sentence explaining how the results will be interpretable in the context of the statistical problem formulation.\n",
    "\n",
    "\n",
    "(10 points): 5 points for correctly identifying statistical concepts in the first and second sentences.\n",
    "\n",
    "(Bonus 10 points): Bonus marks for the third sentence, explaining how the results will be interpreted in the context of the primary statistical problem."
   ]
  },
  {
   "cell_type": "markdown",
   "id": "624bc25f-8c2c-4bf0-856b-32d40026ac9c",
   "metadata": {},
   "source": [
    "Answer: \n",
    "\n",
    "\n"
   ]
  },
  {
   "cell_type": "markdown",
   "id": "22880715-9b2b-42b5-8cec-6756161c3444",
   "metadata": {},
   "source": [
    "#### **Data preparation and preprocessing steps.**\n",
    "\n",
    "Based on your assessments in the previous cells, indicate if any data transformations are necessary for the planned analysis. Explain your reasoning. If no particular transformations are needed, indicate that the data will be used in its raw form.\n",
    "\n",
    "(13 points)"
   ]
  },
  {
   "cell_type": "markdown",
   "id": "b0e833a7-985f-4c0c-9fb6-c68382833dd4",
   "metadata": {},
   "source": [
    "Answer: \n",
    "\n"
   ]
  },
  {
   "cell_type": "markdown",
   "id": "8bc8c8bd-6183-4d25-b197-7ce464fa658c",
   "metadata": {},
   "source": [
    "### **3. Discussion:** \n",
    "\n",
    "\n",
    "(This paragraph will continue to fill the methodology section you began with the EDA in Assignment 1, where you covered limitations due to the study design)\n",
    "\n",
    "**Limitations and Assumptions of the Chosen Statistical Methods**\n",
    "\n",
    "Discuss the limitations and assumptions of the chosen statistical methods, including potential violations of these assumptions.\n",
    "\n",
    "Hint: \n",
    "\n",
    "- One sentence on potential limitations arising from violated assumptions.\n",
    "- One sentence on how Type I Error may get inflated when there are multiple tests.\n",
    "\n",
    "(10 points): 5 points for the first sentence, and 5 points for the second sentence."
   ]
  },
  {
   "cell_type": "markdown",
   "id": "4ddc651a-209a-473a-ae54-eb3076ee94f8",
   "metadata": {},
   "source": [
    "Answer: \n",
    "\n"
   ]
  },
  {
   "cell_type": "markdown",
   "id": "0135189e-16df-43e8-9d58-92fddd1aa620",
   "metadata": {
    "tags": []
   },
   "source": [
    "\n",
    "### **Bonus Marks Task:**\n",
    "\n",
    "Explore if there are any covariates or confounders in the dataset that may change the effect of `Land Slope` on `Sale Price`. Write code to generate an appropriate graph, fit a linear model, examine diagnostic plots, and once you have the appropriate model, interpret the results.\n",
    "\n",
    "Hint: Take a look at the graphs in Assignment 1 for clues. Consider any other variable that may influence the effect of `Land Slope` on `Sale Price`.\n",
    "\n",
    "**Tasks:**\n",
    "- (5 points) Create an appropriate graph.\n",
    "- (5 points) Fit a linear model, examine diagnostic plots, and interpret the results.\n",
    "\n",
    "(Bonus 10 points total)"
   ]
  },
  {
   "cell_type": "code",
   "execution_count": null,
   "id": "40bd49df-070a-4d8d-8b76-5e384bd4f9dc",
   "metadata": {},
   "outputs": [],
   "source": [
    "# Bonus task code here \n"
   ]
  },
  {
   "cell_type": "markdown",
   "id": "dc66e9a2-ac42-446b-8621-4c55b6d99d56",
   "metadata": {},
   "source": [
    "**Upload your work from Assignment 2**\n",
    "\n",
    "- Each student will upload the Jupiter Notebook on Canvas Course 1: https://canvas.ubc.ca/courses/144703:\n",
    "\n",
    " `[Assignment_2]_[student name].ipynb`\n",
    "eg., `Assignment_2_Biljana_Jonoska_Stojkova.ipynb`\n",
    "\n",
    "- Please write at the title who was responsible for writing each paragraph. \n",
    "\n",
    "Navigate to the Assignments section on Canvas Course 1, and upload the Jupiter document on Canvas under: \n",
    "`Assignments\\Assignment2` "
   ]
  }
 ],
 "metadata": {
  "kernelspec": {
   "display_name": "R",
   "language": "R",
   "name": "ir"
  },
  "language_info": {
   "codemirror_mode": "r",
   "file_extension": ".r",
   "mimetype": "text/x-r-source",
   "name": "R",
   "pygments_lexer": "r",
   "version": "4.3.3"
  }
 },
 "nbformat": 4,
 "nbformat_minor": 5
}
