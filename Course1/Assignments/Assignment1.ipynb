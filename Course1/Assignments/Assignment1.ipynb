{
 "cells": [
  {
   "cell_type": "markdown",
   "id": "bcea5e19-73bd-4afe-9290-450113d9a8b0",
   "metadata": {},
   "source": [
    "# **Assignment 1**\n",
    "# Developed by Biljana Jonoska Stojkova, PhD\n",
    "# Revised by Johnson Chen"
   ]
  },
  {
   "cell_type": "markdown",
   "id": "1d182bae-a686-4afa-b0f9-bb3394e595dd",
   "metadata": {},
   "source": [
    "**Insert here your name:**\n",
    "\n",
    "**Your student ID:** \n",
    "\n",
    "**Total Marks earned:** \n",
    "\n",
    "**Score for Full Marks:**  70\n",
    "\n",
    "**Bonus marks:** 20 \n"
   ]
  },
  {
   "cell_type": "markdown",
   "id": "507d3305-66a6-48a5-8900-297d6afa1c29",
   "metadata": {},
   "source": [
    "### Assignment Outline\n",
    "\n",
    "In this assignment series, you will get the training needed to complete the final report. With each new assignment you will master different aspects of the final report sections, thus filling different pieces of the puzzle with each assignment.\n",
    "\n",
    "In this assignment we will practice writing the following sections of a statistical report:\n",
    "\n",
    "- Introduction and general research objectives, research question\n",
    "  \n",
    "- Study design or data descriptions\n",
    "\n",
    "- Statistical Problem formulation\n",
    "  \n",
    "- Methodology - EDA part, choose appropriate graph\n",
    "  \n",
    "- Discussion - Limitations from Study design\n",
    "\n",
    "\n"
   ]
  },
  {
   "cell_type": "markdown",
   "id": "696e217a-fa39-4f35-9282-c52952981ca1",
   "metadata": {},
   "source": [
    "### Synopsis\n",
    "\n",
    "In this assignment we will work with the Ames City Iowa housing data set. You can familiarize with the data set here https://jse.amstat.org/v19n3/decock/DataDocumentation.txt.\n",
    "\n",
    "We will focus on exploring a single research question, so that you can get focused practice of the statistical reasonong and writing. The assignment workbook will provide you with R code snippets and written hints to guide you towards completition of this assignment. Please do not be shy to show your work, discuss or ask any questions. Your Instructor and TAs and here for you! \n",
    "\n",
    "Research question: How does Land Slope affect sale price of the properties?\n",
    "\n"
   ]
  },
  {
   "cell_type": "code",
   "execution_count": null,
   "id": "2d697475-f9cf-409f-a519-545e1280c7fb",
   "metadata": {
    "tags": []
   },
   "outputs": [],
   "source": [
    "library(tidyverse)\n",
    "ds_ames = read_csv(\"../data/ames.csv\")\n",
    "colnames(ds_ames)\n",
    "ds_ames=ds_ames[,c(\"Order\",\"Sale_Price\",\"Land_Slope\",\"Neighborhood\")]\n",
    "head(ds_ames)\n",
    "\n",
    "ds_ames = ds_ames %>% mutate(Land_Slope_Descr= case_when(Land_Slope==\"Gtl\" ~\t\"Gentle slope\",\n",
    "                                                         Land_Slope==\"Mod\" ~\t\"Moderate Slope\",\t\n",
    "                                                         Land_Slope==\"Sev\" ~\t\"Severe Slope\",TRUE~Land_Slope))\n",
    "\n",
    "\n",
    "\n",
    "print(\"Conditions of interest:\")\n",
    "ds_ames %>% count(Land_Slope_Descr)"
   ]
  },
  {
   "cell_type": "markdown",
   "id": "414dd09e-0d66-4111-b4ef-91dc4ab88faf",
   "metadata": {},
   "source": [
    "### 1. Introduction:"
   ]
  },
  {
   "cell_type": "markdown",
   "id": "9c11ede7-0202-4710-8c70-e8da36a28c04",
   "metadata": {},
   "source": [
    "**Background and context of the project**\n",
    "\n",
    "For this part of the assignment, write one or two sentences that summarize the background and context of the dataset and the research project.\n",
    "\n",
    "Hint: Look at the link provided (https://jse.amstat.org/v19n3/decock/DataDocumentation.txt) to familiarize yourself with the project. Use the information to help you craft your sentences. Who collected the data, what is the general aim for this project? \n",
    "\n",
    "(10 points): 5 points for giving the short story about the data, 5 points for stating the general research objective.\n"
   ]
  },
  {
   "cell_type": "markdown",
   "id": "8905580a-eeb9-4adb-a245-1b6c24935afe",
   "metadata": {},
   "source": [
    "Answer:\n",
    "\n",
    "\n"
   ]
  },
  {
   "cell_type": "markdown",
   "id": "49e30e80-53cb-4a50-9846-65d0ae9694cd",
   "metadata": {},
   "source": [
    "**Objectives and research questions**\n",
    "\n",
    "Write one sentence to clearly define the research quesiton\n",
    "\n",
    "Hint. We will focus on the research question: How does Land Slope affect sale prices of the properties? Your task is to make sure that this research question is clear enough. Are there any missing componenents such as the target population? Who is the studied subject, which also include study period?\n",
    "\n",
    "\n",
    "(10 points): 5 points for correctly identifying the target population, 5 points for the study period."
   ]
  },
  {
   "cell_type": "markdown",
   "id": "64fb2634-df9e-4e96-9476-8eb74d2ac9d6",
   "metadata": {},
   "source": [
    "Answer:\n",
    "\n",
    "\n"
   ]
  },
  {
   "cell_type": "markdown",
   "id": "bb69e542-c313-444d-9e89-05cfa2cd7a03",
   "metadata": {},
   "source": [
    "### 2. Data Description:"
   ]
  },
  {
   "cell_type": "markdown",
   "id": "cff43b46-ac76-4419-b54e-9fcf03870486",
   "metadata": {},
   "source": [
    "**Overview of the dataset(s) used for the analysis**\n",
    "\n",
    "Write three concise sentences to provide an overview of this dataset\n",
    "\n",
    "Hint:\n",
    "\n",
    "      1. Identify what is being studied in this dataset, i.e., clearly define observational unit.\n",
    "\n",
    "      2. What is the data structure, i.e., are there repeated measures per observational unit (any sampling units within the observational unit)?\n",
    "             Is there any obvious clustering between the observational units? If so, state clearly which are these variables?\n",
    "             \n",
    "      3. How was the sample generated from the target population? Was it a random sample from the target population or is it the entire target population in our data set (census)?\n",
    "\n",
    "\n",
    "\n",
    "(12 points): 4 points for each sentence."
   ]
  },
  {
   "cell_type": "markdown",
   "id": "bf79bc66-607f-4382-95b3-6cfa6a068a57",
   "metadata": {},
   "source": [
    "Answer:\n",
    "\n",
    "\n",
    "\n",
    "\n"
   ]
  },
  {
   "cell_type": "markdown",
   "id": "f4202e77-0217-440a-9124-c502627c8608",
   "metadata": {},
   "source": [
    "**Description of the variables** \n",
    "\n",
    "Write two sentences:\n",
    "\n",
    "    1. State which variables are going to be used for the research question.\n",
    "    \n",
    "    2. Indicate data types for each of the variables). Bonus marks for identify a potentially clustering variable in the dataset.\n",
    "\n",
    "\n",
    "Hint. 1. State the names of the variables in the data set that are going to be used to answer the research question. If there are any other important variables such as clustering variables, also need to be named here. Data types of each variables, number of levels for the categorical variables. \n",
    "\n",
    "(10 points) 5 points for statiting the two variables clearly, 5 points for describing their data types (categorical with how many categories? or continuous)\n",
    "\n",
    "(Bonus 5 points) for identifying potentially clustering variable, that may cluster the Sales Prices.\n",
    "\n"
   ]
  },
  {
   "cell_type": "markdown",
   "id": "9b625d7d-97bf-4c41-a7ca-c66e361939d8",
   "metadata": {},
   "source": [
    "Answer:\n",
    "\n",
    "\n",
    "\n",
    "\n"
   ]
  },
  {
   "cell_type": "markdown",
   "id": "64807159-273c-4dff-8c0e-709cc926f21e",
   "metadata": {},
   "source": [
    "### 3. Statistical Problem formulation\n",
    "\n",
    "For this part of the assignment, you will:\n",
    "\n",
    "- Translate the research question into statistical hypotheses.\n",
    "\n",
    "- Clearly state which variables will be used to solve the statistical problem.\n",
    "\n",
    "- Clearly state at which sampling level the hypotheses will be tested (with respect to the observational unit, e.g., overall estimates).\n",
    "\n",
    "- Clearly state how these variables will be used (i.e., any need for aggregation, transformation).\n",
    "\n",
    "\n",
    "**Step 1.** Choose the statistical problem type from the list below.\n",
    "\n",
    "\n",
    "List of most common **statistical problem types**:\n",
    "\n",
    "    A. Hypothesis test, typically if one variable affects the outcome of interest.\n",
    "      \n",
    "            \n",
    "    B. Quantification (estimation) of the strength of associative relationships between the variables.\n",
    "      \n",
    "            \n",
    "    C. Exploring, quantifying and identifying which factors are affecting the outcome of interest.\n",
    "      \n",
    "            \n",
    "    D. Quantification (estimation) of the strength of causal relationships between the variables.\n",
    "      \n",
    "            \n",
    "    E. Predicting the outcome of interest.\n",
    "\n",
    "\n",
    "(10 points): correcly identifying the statistical problem type"
   ]
  },
  {
   "cell_type": "markdown",
   "id": "8281b967-cadd-40b0-a3e7-34f98d40ca1b",
   "metadata": {},
   "source": [
    "Answer:\n",
    "\n",
    "\n",
    "\n"
   ]
  },
  {
   "cell_type": "markdown",
   "id": "64a216d2-14ad-45a1-b221-23a7c46b601f",
   "metadata": {},
   "source": [
    "**Step 2.**  Write in one concise sentence the statistical problem(s) that you are trying to solve based on the research question and data structures:\n",
    "\n",
    "Hint: The explanatory variable has three levels, which brings us to 3 possible pairwise comparisons, introducing the multiple testing problem. These are the possible comparisons: comparing mean Sale Price between Gentle slope and Moderate slope, Gentle slope and Severe slope, or Moderate slope and Severe slope. Can you determine which one of these pairwise comparisons is the most important to define as the primary statistical hypothesis? By prioritizing the pairwise comparisons, you can avoid the multiple testing problem when addressing the primary research question and handle the other two comparisons as secondary research problems with less statistical power.\n",
    "\n",
    "\n",
    "(10 points): Stating one primary statistical problem (hypothesis). Full marks for choosing any of the 3 possible pairwise comparisons as the primary hypothesis.\n",
    "\n",
    "(Bonus 5 points): Stating the rest of the possible hypotheses as secondary hypotheses. Full marks for stating the remaining 2 out of the 3 possible pairwise comparisons as secondary hypotheses.\n",
    "\n",
    "Note: In real-life research, the order of importance of the hypotheses is chosen based on subject matter knowledge. This approach encourages researchers to consider why the data was collected and identify the most important research question they need to answer, so it can be analyzed first. Researchers can then obtain the highest strength of evidence from the data for the most critical research questions."
   ]
  },
  {
   "cell_type": "markdown",
   "id": "5bd21ffa-887a-49e9-82c5-8b15184f3fef",
   "metadata": {},
   "source": [
    "Answer:\n",
    "\n",
    "\n",
    "\n"
   ]
  },
  {
   "cell_type": "markdown",
   "id": "834cd610-1d78-47db-ae3f-3e569728126c",
   "metadata": {},
   "source": [
    "Run as Markdown cell to see how the Type I Error (probability of finding at least one false positive result) rises with each added test.\n",
    "<img src=\"../images/ProbFalsePosit.png\" width=\"400\">"
   ]
  },
  {
   "cell_type": "markdown",
   "id": "8a7c6cca-6070-42f5-a569-6254f4de3c1d",
   "metadata": {},
   "source": [
    "### 4. Methodology:"
   ]
  },
  {
   "cell_type": "markdown",
   "id": "be503806-588b-4f43-acf5-a2e29bf8296a",
   "metadata": {},
   "source": [
    " **Explanation of the Exploratory Data Analysis**  (This paragraph will be integrated part of the methodology section of your statsitical report)\n",
    "\n",
    "Take a look at this few graphs and select the most appropriate graph to answer the research question:"
   ]
  },
  {
   "cell_type": "code",
   "execution_count": null,
   "id": "fc8593af-c6eb-482c-9b15-f06d6dbe5e55",
   "metadata": {
    "tags": []
   },
   "outputs": [],
   "source": [
    "ds_ames %>% ggplot(aes(x=Land_Slope_Descr, y=Sale_Price, color = Neighborhood)) + \n",
    "geom_point() + theme(legend.position=\"bottom\") +\n",
    "labs(title=\"A. Scatterplot of Sales Price for different Land Slopes by neighbourhood\")"
   ]
  },
  {
   "cell_type": "code",
   "execution_count": null,
   "id": "5bdc90f9-51ef-46d3-bf89-12ebe16d559c",
   "metadata": {
    "tags": []
   },
   "outputs": [],
   "source": [
    "ds_ames %>% ggplot(aes(x=Land_Slope_Descr, y=Sale_Price)) + \n",
    "geom_point()  +labs(title=\"B. Scatterplot of Sales Price for different Land_Slope_Descr\")"
   ]
  },
  {
   "cell_type": "code",
   "execution_count": null,
   "id": "5e7acb2c-ee25-45a2-a865-bba024aac881",
   "metadata": {
    "tags": []
   },
   "outputs": [],
   "source": [
    "ds_ames %>% ggplot(aes(x=Land_Slope_Descr, y=Sale_Price)) + geom_boxplot()  +\n",
    "labs(title=\"C. Side-by-side boxplots of Sales Price for different Land_Slope_Descr\")"
   ]
  },
  {
   "cell_type": "code",
   "execution_count": null,
   "id": "15347f3a-b05d-440d-942f-b171968279bd",
   "metadata": {},
   "outputs": [],
   "source": [
    "ds_ames %>% ggplot(aes(x=Land_Slope_Descr, y=Sale_Price)) + \n",
    "geom_boxplot()  + facet_wrap(~Neighborhood)+\n",
    "labs(title=\"D. Side-by-side boxplots of Sales Price for different conditions by Land Slope Descr\")"
   ]
  },
  {
   "cell_type": "markdown",
   "id": "5e82dc9b-d242-4080-acdc-02beca8d815d",
   "metadata": {},
   "source": [
    "Which plot is the most appropriate to answer the primary statsitical problem? Write a brief explanation of the justification on how is this plot answering the primary statsitical problem. \n",
    "\n",
    "Hint: Interept the plot in the context of the primary statistical problem.\n",
    "\n",
    "(10 points): 5 points for correctly selecting the most appropariate plot, 5 points for the justification on how the plot can answer the primary statsitical problem.\n"
   ]
  },
  {
   "cell_type": "markdown",
   "id": "bec9326f-e366-490e-ab4a-566f9fabc561",
   "metadata": {},
   "source": [
    "Answer:\n",
    "\n",
    "\n"
   ]
  },
  {
   "cell_type": "markdown",
   "id": "8bc8c8bd-6183-4d25-b197-7ce464fa658c",
   "metadata": {},
   "source": [
    "### 5. Discussion:"
   ]
  },
  {
   "cell_type": "markdown",
   "id": "02ef4836-60da-4add-bab3-2e20ec5a764c",
   "metadata": {},
   "source": [
    "**Limitations and assumptions of the study design**\n",
    "\n",
    "How are the study design limitations going to affect the strength of evidence for answering the research question? Write one limitations from the study design. \n",
    "\n",
    "Hint: \n",
    "\n",
    "- Start with identifying the study type. Was the study designed to answer the particular research questions, or was the dataset already available, dictating the choice of research questions that can be answered? The answer to this question will dictate your conclusions about the strength of the evidence with respect to the particular research question. If the research questions were formed based on the study design, then this study type is called \"Exploratory,\" \"Pilot,\" or \"Hypothesis generating\" study, which does not provide the highest strength of evidence.\n",
    "\n",
    "Bonus: \n",
    "Write one more limitations from the study design.\n",
    "\n",
    "Hint:\n",
    "\n",
    "- Consider whether the comparison groups of interest for the primary statistical problem are comparable. Was the study designed to make these two groups comparable? Were the parcels randomly assigned to these comparison groups of interest to minimize comparability issues, or do you expect that other variables (covariates and confounders) may affect the sale prices (covariates) or both sale price and the land slope (confounders)?\n",
    "\n",
    "\n",
    "(10 points): Identifying the study type and evaluating the strength of the evidence this study provides in addressing the primary statistical problem.\n",
    "\n",
    "(Bonus 10 points): Identifying additional sources of bias, discussing the randomization (or lack thereof) of the comparison groups, and considering the potential bias introduced by other covariates and confounders.\n"
   ]
  },
  {
   "cell_type": "markdown",
   "id": "6e33fc93-cc5e-47a1-a56e-451c086e6f19",
   "metadata": {},
   "source": [
    "Answer:\n",
    "\n",
    "\n"
   ]
  },
  {
   "cell_type": "markdown",
   "id": "22c541c8-91a0-4b30-9f05-2f1bf07f1129",
   "metadata": {},
   "source": [
    "**Upload your work from Assignment 1**\n",
    "\n",
    "- Each student will upload the Jupiter Notebook on Canvas Course 1: https://canvas.ubc.ca/courses/144703:\n",
    "\n",
    " `[Assignment_1]_[student name].ipynb`\n",
    "eg., `Assignment_1_Biljana_Jonoska_Stojkova.ipynb`\n",
    "\n",
    "- Please write at the title who was responsible for writing each paragraph. \n",
    "\n",
    "Navigate to the Assignments section on Canvas Course 1, and upload the Jupiter document on Canvas under: \n",
    "`Assignments\\Assignment1` \n"
   ]
  }
 ],
 "metadata": {
  "kernelspec": {
   "display_name": "R",
   "language": "R",
   "name": "ir"
  },
  "language_info": {
   "codemirror_mode": "r",
   "file_extension": ".r",
   "mimetype": "text/x-r-source",
   "name": "R",
   "pygments_lexer": "r",
   "version": "4.3.3"
  }
 },
 "nbformat": 4,
 "nbformat_minor": 5
}
