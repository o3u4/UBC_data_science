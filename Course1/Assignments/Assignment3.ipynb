{
 "cells": [
  {
   "cell_type": "markdown",
   "id": "010b818c-8495-4400-b6c6-e4265e7b5d47",
   "metadata": {},
   "source": [
    "# **Assignment 3**\n",
    "# Developed by Biljana Jonoska Stojkova, PhD\n",
    "# Revised by Johnson Chen"
   ]
  },
  {
   "cell_type": "markdown",
   "id": "54cbc35f-5c27-4346-83ac-7f7303167936",
   "metadata": {},
   "source": [
    "**Insert here your name:**\n",
    "\n",
    "**Your student ID:** \n",
    "\n",
    "**Total Marks earned:** \n",
    "\n",
    "**Score for Full Marks:**  70\n",
    "\n",
    "**Bonus marks:**  22\n"
   ]
  },
  {
   "cell_type": "markdown",
   "id": "507d3305-66a6-48a5-8900-297d6afa1c29",
   "metadata": {},
   "source": [
    "### Assignment Outline\n",
    "\n",
    "In this assignment series, you will get the training needed to complete the final report. With each new assignment you will master different aspects of the final report sections, thus filling different pieces of the puzzle with each assignment. \n",
    "\n",
    "\n",
    "In this assignment we will practice writing the following sections of a statistical report:\n",
    "\n",
    "- Results - statistical interpretations of the graph and chosen analysis method\n",
    "  \n",
    "- Discussion - interpretation with respect to broader impact\n",
    "\n",
    "- Conclusion\n",
    "  \n",
    "- Abstract - Summary of the project, including objectives, methodology, key findings, and conclusions\n"
   ]
  },
  {
   "cell_type": "markdown",
   "id": "0926bb81-f2d5-46b5-96b5-0caad3fd140e",
   "metadata": {},
   "source": [
    "### **1. Results:**\n",
    "\n"
   ]
  },
  {
   "cell_type": "markdown",
   "id": "9ec1ec79-ca24-4428-be4b-b925e56b9774",
   "metadata": {},
   "source": [
    "\n",
    "#### **Presentation of Key Findings for Each Statistical Problem**\n",
    "\n",
    "In the cell below, write code to present your key findings.\n",
    "\n",
    "This section should include:\n",
    "\n",
    "- The most important graph from Assignment 1.\n",
    "- The results from the chosen statistical method in Assignment 2.\n",
    "\n",
    "You can copy and paste the relevant code from Assignment 1 (for the graph) and Assignment 2 (for the statistical method).\n",
    "\n",
    "(20 points): 10 points for correctly identifying and transfering the code on the appropriate graph, 10 points for correctly identifying and transfering the code on the statistical method"
   ]
  },
  {
   "cell_type": "code",
   "execution_count": null,
   "id": "699af804-c4ce-4800-81fe-81515a8209b2",
   "metadata": {
    "tags": []
   },
   "outputs": [],
   "source": [
    "#Insert here the appropriate code from Assignment 1 and Assignment 2 to generate the most important graph and the chosen analysis method to produce one table with results.\n",
    "\n",
    "# Let's get you started on loading the data set\n",
    "library(tidyverse)\n",
    "ds_ames = read_csv(\"../data/ames.csv\")\n",
    "ds_ames=ds_ames[,c(\"Order\",\"Sale_Price\",\"Land_Slope\",\"Neighborhood\")]\n",
    "head(ds_ames)\n",
    "\n",
    "ds_ames = ds_ames %>% mutate(Land_Slope_Descr= case_when(Land_Slope==\"Gtl\" ~\t\"Gentle slope\",\n",
    "                                                         Land_Slope==\"Mod\" ~\t\"Moderate Slope\",\t\n",
    "                                                         Land_Slope==\"Sev\" ~\t\"Severe Slope\",TRUE~Land_Slope))\n"
   ]
  },
  {
   "cell_type": "code",
   "execution_count": null,
   "id": "9a9099bc-15a4-4c5d-b772-9b557d7d6126",
   "metadata": {},
   "outputs": [],
   "source": [
    "# Write here EDA code  (10 points)\n",
    "\n",
    "\n"
   ]
  },
  {
   "cell_type": "code",
   "execution_count": null,
   "id": "ec33329a-86d9-4089-8353-3a0a7fb4775c",
   "metadata": {},
   "outputs": [],
   "source": [
    "# Write here Statistical method code (10 points)\n",
    "\n",
    "\n"
   ]
  },
  {
   "cell_type": "markdown",
   "id": "70137542-34e7-4c1e-baab-9a5cb174e2ce",
   "metadata": {},
   "source": [
    "\n",
    "#### **Interpretation of Results**\n",
    "\n",
    "Write concise sentences to interpret the results, one for each statistical problem, ordered by their importance — primary and secondary statistical problems. If you are using graphs and table with estimates from the model, they need to be referenced properly when explaining the statistical interpretations.\n",
    "\n",
    "(13 points): correctly interpreting the primary statistical problem.\n",
    "\n",
    "(Bonus 10 points): 5 points for correctly interpreting each of the secondary statistical problems.\n",
    "\n",
    "(Bonus 5 points): correctly prioritizing and presenting them in their order of research importance."
   ]
  },
  {
   "cell_type": "markdown",
   "id": "a3a4be86-99f2-4f6f-ab51-e618373665b8",
   "metadata": {},
   "source": [
    "Answer:\n",
    "\n",
    "\n"
   ]
  },
  {
   "cell_type": "code",
   "execution_count": null,
   "id": "93162de1-4dfa-496e-82ae-f3312fb78f6e",
   "metadata": {},
   "outputs": [],
   "source": [
    "# Bonus code \n",
    "\n",
    "# Hint: reorder the reference category for the Land Slope to get an estimate for the comparison \n",
    "# of Sales Price between the \"Moderate Slope\" and \"Severe Slope\".\n",
    "# you can refit the linear model with reordered categories to obtain the third slope of interest.\n",
    "\n",
    "\n"
   ]
  },
  {
   "cell_type": "markdown",
   "id": "8bc8c8bd-6183-4d25-b197-7ce464fa658c",
   "metadata": {
    "tags": []
   },
   "source": [
    "### **2. Discussion:** \n",
    "\n",
    "This is yet another couple of paragraphs in the Discussion section, so far we had outlined limitations from the study design in Assignment 1, limiations from the chosen statsitical methods and graphs, and now the broader implications of the results of the analysis. \n",
    "\n",
    "Analyze and interpret the results, translating back the statistical problem interpretations in the context of research questions. Try to answer with one sentence for each of the following questions:\n",
    "\n",
    "\n",
    "1. Is there an overall trend identified by the analysis, such as an increase in `Sales Price` with an increase in `Land Slope` from `Gentle Slope` to `Moderate Slope` and from `Moderate Slope` to `Severe Slope`?\n",
    "\n",
    "2. If the answer to the previous question is `Yes`, you will also need to discuss the uncertainty. As the sample size decreases with an increase in `Land Slope`, by looking into sample sizes (i.e., number of properties) within each `Land Slope` category, can we expect statistically significant results with decreasing sample sizes for each of the increasing `Land Slope` categories?\n",
    "\n",
    "3. Discuss the practical significance of each of the identified trends versus their statistical significance.\n",
    "\n",
    "Hints: Consider any broad implications of the results. For this part, you will need to do some research on the subject matter domain. Try to answer with one sentence for each of the following questions:\n",
    "\n",
    "4. If there is an indication of an increasing trend in `Sales Prices` with increased `Land Slope`, what could be some of the wider implications for real estate valuation and price determination? Would you provide recommendations for including `Land Slope` in Real Estate Pricing models?\n",
    "\n",
    "5. Could the increasing `Sales Prices` with increasing `Land Slope` indicate an increased risk of land sliding? Should urban planners develop regulations to mitigate the risk of land sliding?\n",
    "\n",
    "6. Would you recommend that insurance companies develop policies to protect homeowners from land sliding risks?\n",
    "\n",
    "(18 points) 3 points per each sentence."
   ]
  },
  {
   "cell_type": "markdown",
   "id": "0df073eb-30c4-4070-afcf-cd2f1d5ed785",
   "metadata": {},
   "source": [
    "Answer:\n",
    "\n",
    "\n"
   ]
  },
  {
   "cell_type": "markdown",
   "id": "0a2eb91d-a80f-44ea-bfbd-510464d463a3",
   "metadata": {},
   "source": [
    "#### Bonus task (5 points)\n",
    "\n",
    "Since the sample comprises all the properties in the city of Ames, we practically analyzed census data if the target population is the city of Ames. Statistically significant results are interpretable only in the context of the sample within the target population, as statistical significance measures such as p-values and confidence intervals are directly estimated from the standard errors.\n",
    "\n",
    "Where do the standard errors come from?\n",
    "\n",
    "Standard error is a direct result of the Central Limit Theorem, which states that if you take all possible samples from the target population, the mean of the sample means will be normally distributed, and the spread of this distribution of the means is measured by the standard error of the estimated mean. This indicates that if we take one sample from the target population, we will get one result, and if we take another sample from the target population, we will get another answer. Thus, the standard errors give us clues about how these different answers vary from each other.\n",
    "\n",
    "When we work with census data, we have the entire target population in our dataset, so we do not have a sampling design in place, and no standard error either. And yet, we were able to estimate standard errors. How are the standard errors interpreted now?\n",
    "\n",
    "Can you think of some superpopulation? Write one concise sentence to explain what could be the possible superpopulations so that the uncertainty estimates of the Ames data are interpretable in that wider context.\n"
   ]
  },
  {
   "cell_type": "markdown",
   "id": "33bc5ba3-de62-47d2-86e8-42bc1573fe44",
   "metadata": {},
   "source": [
    "Answer:\n",
    "\n"
   ]
  },
  {
   "cell_type": "markdown",
   "id": "f88d8c78-23a2-45e4-9a4e-1242c5c26e17",
   "metadata": {},
   "source": [
    "\n",
    "### **3. Conclusion:** \n",
    "\n",
    "Write here the summary of key findings, implications of the study, and recommendations for future research. Please provide answers with one sentence to each of the questions:\n",
    "\n",
    "1. What were the overarching findings from this analysis? Did you find an overall upward trend in `Sales Prices` with increased `Land Slope`?\n",
    "\n",
    "2. Are the magnitudes of the effects large enough practically? And how about statistically?\n",
    "\n",
    "3. Does the strength of the evidence allow for strong conclusions?\n",
    "\n",
    "4. What are the wider societal implications of the results?\n",
    "\n",
    "5. What are the recommendations for future research?\n",
    "\n",
    "(15 points): 3 points for each sentence."
   ]
  },
  {
   "cell_type": "markdown",
   "id": "d7347abe-ef33-4f47-aaac-d8f499f6a358",
   "metadata": {},
   "source": [
    "Answer:\n",
    "\n",
    "\n"
   ]
  },
  {
   "cell_type": "markdown",
   "id": "3ab43545-c1cf-412e-aacf-e471fa49e83d",
   "metadata": {},
   "source": [
    "#### **4. Abstract:**\n",
    "\n",
    "The abstract typically shows up at the beginning of a research paper, but it is usually written at the end when we have the full picture of the problem that we have addressed. Write one sentence for each:\n",
    "\n",
    "1. Background of the project.\n",
    "2. Clearly state the primary statistical problem.\n",
    "3. One sentence about the secondary problem. (bonus 1 point)\n",
    "4. The key results for the primary problem.\n",
    "5. The key results for the secondary problem. (bonus 1 point)\n",
    "6. One final sentence for the broader implications/conclusions from the analysis.\n",
    "\n",
    "(4 points): 1 point for each sentence.\n",
    "\n",
    "(Bonus 2 points): For including the secondary problem and its key findings."
   ]
  },
  {
   "cell_type": "markdown",
   "id": "4deaab9d-54ad-473a-9e1d-a90fa7cc2f98",
   "metadata": {},
   "source": [
    "Answer:\n",
    "\n"
   ]
  },
  {
   "cell_type": "markdown",
   "id": "fe19e4af-d8df-4570-916b-0f08cdca9437",
   "metadata": {},
   "source": [
    "**Upload your work from Assignment 3**\n",
    "\n",
    "- Each student will upload the Jupiter Notebook on Canvas Course 1: https://canvas.ubc.ca/courses/144703.\n",
    "\n",
    " `[Assignment_3]_[student name].ipynb`\n",
    "eg., `Assignment_3_Biljana_Jonoska_Stojkova.ipynb`\n",
    "\n",
    "- Please write at the title who was responsible for writing each paragraph. \n",
    "\n",
    "Navigate to the Assignments section on Canvas Course 1, and upload the Jupiter document on Canvas under: \n",
    "`Assignments\\Assignment3` "
   ]
  }
 ],
 "metadata": {
  "kernelspec": {
   "display_name": "R",
   "language": "R",
   "name": "ir"
  },
  "language_info": {
   "codemirror_mode": "r",
   "file_extension": ".r",
   "mimetype": "text/x-r-source",
   "name": "R",
   "pygments_lexer": "r",
   "version": "4.3.3"
  }
 },
 "nbformat": 4,
 "nbformat_minor": 5
}
