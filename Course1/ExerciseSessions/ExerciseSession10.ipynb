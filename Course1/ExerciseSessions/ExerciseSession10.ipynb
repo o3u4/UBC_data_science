{
 "cells": [
  {
   "cell_type": "markdown",
   "id": "2de1e972-ad9a-47b4-9943-efaed3a5e7dd",
   "metadata": {},
   "source": [
    "# **Exercise Session 10**\n",
    "# Developed by Biljana Jonoska Stojkova, PhD\n",
    "# Revised by Johnson Chen \n"
   ]
  },
  {
   "cell_type": "markdown",
   "id": "2c93f2c8-c8a1-4bdb-a5e3-61e7edbad20d",
   "metadata": {},
   "source": [
    "## **Lecture 10 - Estimating Strength and Direction of Relationships Between Variables: Assumptions, Diagnostics, and Multiple Linear Regression**\n",
    "\n",
    "Today's exercise will build on the defined research questions from Lecture 9. We will practice determining how trustworthy the results from the analysis are. We will also see an example of a research question that adds covariates and uses a multiple linear regression model.\n",
    "\n",
    "We will keep the same teams as those on the previous days. Each team will continue working on the `mtcars` dataset. Each team member will have to answer the questions and upload their Jupyter Notebook on Canvas."
   ]
  },
  {
   "cell_type": "markdown",
   "id": "9a95669c-483b-430f-b956-aa52fce65917",
   "metadata": {},
   "source": [
    "### **Today's Learning Goal:**\n",
    "\n",
    "- Assess the trustworthiness of the analysis results conducted in Lecture 9.\n",
    "- Evaluate the assumptions of correlation analysis applied to research questions from Lecture 9.\n",
    "- Evaluate the assumptions of simple linear regression applied to research questions from Lecture 9.\n",
    "- Create diagnostic plots to assess the assumptions of the methods above and interpret them.\n",
    "- Learn how to define research questions to adjust the main effects of interest with additional covariates.\n",
    "- Ensure you upload your Jupyter Notebook at the end of the day."
   ]
  },
  {
   "cell_type": "markdown",
   "id": "d4d5c87b-c573-4fac-a84c-ef69320e10ef",
   "metadata": {},
   "source": [
    "### **Tasks for All Teams**\n",
    "\n",
    "You will continue working within your team.\n",
    "\n",
    "- Pull up the lecture notes with research questions from Lecture 9.\n",
    "- Run diagnostics for the correlation research questions.\n",
    "- Run diagnostics for the unidirectional relationships defined by research questions.\n",
    "- Interpret the diagnostic results.\n",
    "- Define research questions to adjust the main effects of interest with additional covariates."
   ]
  },
  {
   "cell_type": "markdown",
   "id": "f79385a5-61b4-4281-a86b-e2398b00b1f8",
   "metadata": {},
   "source": [
    "#### **Assumptions of Pearson Correlation**\n",
    "\n",
    "- **Linear Relationship:** There exists a linear relationship between the variables x and y.\n",
    "  \n",
    "- **No Outliers:** Extreme outliers can affect the results.\n",
    "\n",
    "- **Related Pairs:** Each observation has two values, one for the variable x and one for the variable y.\n",
    "\n",
    "- **Normality:** Both variables should be approximately normally distributed.\n",
    "\n",
    "- **Interval or Ratio Type of Variables:** Both variables should be interval or ratio types of data."
   ]
  },
  {
   "cell_type": "markdown",
   "id": "bc5892ed-9ef8-4554-89b7-ddc3e62a29b9",
   "metadata": {},
   "source": [
    "#### **Assumptions of Linear Regression**\n",
    "\n",
    "- **Linear Relationship:** There exists a linear relationship between the variables x and y.\n",
    "  \n",
    "- **Independence:** Observations should be measurements taken from independent observational or experimental units (i.e., true replicas).\n",
    "\n",
    "- **Homoscedasticity:** The residuals have constant variance at every level of the variable x.\n",
    "\n",
    "- **Normality of the Residuals:** Residuals should be approximately normally distributed.\n",
    "\n",
    "- **No Influential Outliers:** Extreme Influential outliers can affect the results."
   ]
  },
  {
   "cell_type": "code",
   "execution_count": null,
   "id": "634c163f-ebee-498c-af05-f6fb8a97659f",
   "metadata": {
    "tags": []
   },
   "outputs": [],
   "source": [
    "#Run this code\n",
    "library(tidyverse)\n",
    "data(\"mtcars\")\n",
    "head(mtcars)"
   ]
  },
  {
   "cell_type": "code",
   "execution_count": null,
   "id": "20808bfe-c070-4159-ad32-403839713beb",
   "metadata": {},
   "outputs": [],
   "source": [
    "#Let's pull up R help to learn about the mtcars data set\n",
    "?mtcars"
   ]
  },
  {
   "cell_type": "markdown",
   "id": "95861174-9394-4659-b1d3-f91f108b998f",
   "metadata": {},
   "source": [
    "### **Teams 1 - 11:**\n",
    "\n",
    "Your task is to examine the assumptions of the appropriate statistical methods for the statistical hypotheses you defined in Lecture 9. Start by examining the dataset, running the code cells, and discussing with your team.\n",
    "\n",
    "**Q1.** Consider the statistical problem you formulated in Q2 in Lecture 9. Assess and interpret the assumptions of Pearson correlation.\n",
    "\n",
    "**Q2.** Consider the statistical problem you formulated in Q6 in Lecture 9. Assess and interpret the assumptions of the linear model.\n",
    "\n",
    "**Q3.** Bonus question: Can you formulate a statistical problem where you can estimate the impact of the main effect on the response variable, adjusted for other variables? Formulate the statistical problem and suggest an appropriate method for solving this statistical problem.\n",
    "\n",
    "Hint: Covariates can be added in a multiple regression model to adjust the main effect of interest on the response.\n"
   ]
  },
  {
   "cell_type": "markdown",
   "id": "b597320a-46c0-4b8a-9e21-7d63b989accf",
   "metadata": {},
   "source": [
    "**Answer Q1: A1 Linear relationship, there exists a linear relationship between the variables x and y.**"
   ]
  },
  {
   "cell_type": "code",
   "execution_count": null,
   "id": "204cf5ca-09e9-4144-abc7-304edb01d233",
   "metadata": {
    "scrolled": true
   },
   "outputs": [],
   "source": [
    "#Run this code for question Q1 (assess linear relationship)\n",
    "g1 = mtcars %>% ggplot(aes(y=mpg, x=hp)) + geom_point() + \n",
    "     labs(title=\"Scatterplot of horse power and miles per gallon\",x=\"Horse Power (hp)\",y=\"Miles Per Gallon (mpg)\") + \n",
    "     geom_smooth(method=\"lm\")\n",
    "g1\n"
   ]
  },
  {
   "cell_type": "markdown",
   "id": "33444c8d-11db-46bc-85b0-7a32ae3cf0bc",
   "metadata": {},
   "source": [
    "**Answer Q1: A2 No outliers, extreme outliers can affect the results.**"
   ]
  },
  {
   "cell_type": "code",
   "execution_count": null,
   "id": "6201b4f3-58ec-46fa-9bc4-1c44243e941d",
   "metadata": {},
   "outputs": [],
   "source": [
    "ds_long = mtcars %>% gather(variable, value,mpg,hp)\n",
    "\n",
    "g2 = ds_long %>% ggplot(aes(x=value)) + geom_histogram() + \n",
    "     labs(title=\"Histograms of horse power and miles per gallon\",x=\"Variable\",y=\"Frequency\") + \n",
    "     facet_wrap(~variable,scale=\"free\")\n",
    "g2\n"
   ]
  },
  {
   "cell_type": "markdown",
   "id": "ffa938ac-f45a-4125-9c32-65889a4e67e1",
   "metadata": {},
   "source": [
    "**Answer Q1: A3 Related Pairs, each observation has two values, one for the variable x and one for the variable y.** Answer this based on your understanding about the data types.\n"
   ]
  },
  {
   "cell_type": "code",
   "execution_count": null,
   "id": "b7a1d160-7fac-4e6a-91d8-10731aef8e75",
   "metadata": {
    "tags": []
   },
   "outputs": [],
   "source": [
    "head(mtcars[,c(\"mpg\",\"hp\")])"
   ]
  },
  {
   "cell_type": "markdown",
   "id": "bd231148-4c8a-485b-942f-1d83835cb4a8",
   "metadata": {},
   "source": [
    "**Answer Q1: A4 Normal, both variables shold be approximately normally distributed.**"
   ]
  },
  {
   "cell_type": "code",
   "execution_count": null,
   "id": "fc19a959-bb37-40e3-83a8-5140218303aa",
   "metadata": {
    "tags": []
   },
   "outputs": [],
   "source": [
    "g3 = ds_long %>% ggplot(aes(sample=value)) + stat_qq()  + stat_qq_line(col = \"red\")+\n",
    "     labs(title=\"QQnorm plots of horse power and miles per gallon\",x=\"Theoretical distribution\",y=\"Variable\") + \n",
    "     facet_wrap(~variable,scale=\"free\")\n",
    "g3"
   ]
  },
  {
   "cell_type": "markdown",
   "id": "fac79bf6-f297-4f4f-8e69-0d9ba0a20af9",
   "metadata": {},
   "source": [
    "**Answer Q1: A5 Interval or ratio type of variables, both variables shold be interval or ratio types of data.** \n",
    "\n",
    "Answer this based on your understanding about the data types."
   ]
  },
  {
   "cell_type": "code",
   "execution_count": null,
   "id": "a000cd89-508b-4739-a64a-a709c07cb0a2",
   "metadata": {},
   "outputs": [],
   "source": [
    "#Run this code to Answer Q2 to assess the linear regression model assumptions\n",
    "m1= lm(mpg~hp,data=mtcars)\n",
    "summary(m1)\n",
    "par(mfrow = c(2, 2))\n",
    "plot(m1)"
   ]
  },
  {
   "cell_type": "markdown",
   "id": "2a71d050-4fff-477a-8410-e59c795fb34c",
   "metadata": {},
   "source": [
    "**Answer Q2: A1 Linear relationship, there exists a linear relationship between the variables x and y.** \n",
    "\n",
    "Residuals versus fitted plot, we look for no patterns in the residuals.\n"
   ]
  },
  {
   "cell_type": "markdown",
   "id": "7d9983c9-3e41-42c8-9a94-3e3070490c0c",
   "metadata": {},
   "source": [
    "**Answer Q2: A2 Independence, observations should be measurements taken from independent observational or experimental units (i.e., true replicas).** \n",
    "\n",
    "Answer this based on your understanding about the data types.\n"
   ]
  },
  {
   "cell_type": "markdown",
   "id": "5c731aeb-9a1b-4d9f-b973-ef2ad3e1309b",
   "metadata": {},
   "source": [
    "**Answer Q2: A3 Homoscedasticity, the residuals have constant variance at every level of the variable x.** \n",
    "\n",
    "Interpret the Scale-Location plot. We look for no patterns in the residuals.\n"
   ]
  },
  {
   "cell_type": "markdown",
   "id": "db24e834-56fd-499f-8dce-5afa29f9fffa",
   "metadata": {},
   "source": [
    "**Answer Q2: A4 Normality of the residuals, residuals shold be approximately normally distributed.** \n",
    "\n",
    "QQnorm plot for the normality of the residuals. We look for how well the residuals are matching the theoretical normal distribution.\n"
   ]
  },
  {
   "cell_type": "markdown",
   "id": "a13dd57a-f523-4588-8e14-7a46c03b593e",
   "metadata": {},
   "source": [
    "**Answer Q2: A5 No influential outliers.** \n",
    "\n",
    "Residuals versus leverage plot, look for points outside the estimated Cook distances with dashed lines."
   ]
  },
  {
   "cell_type": "markdown",
   "id": "72f2800f-4533-4d6f-9860-124679956659",
   "metadata": {},
   "source": [
    "**Answer Q3:**\n",
    "\n",
    "Hint: If we wanted to estimate the effect of horsepower (hp) on miles per gallon (mpg), adjusted for displacement (disp), formulate the statistical problem and explain a potential appropriate method for analysis. Consider using a multiple linear regression model. Try to write out the R model formula to include displacement, `mpg ~ hp`."
   ]
  },
  {
   "cell_type": "markdown",
   "id": "e66dfd92-86fd-429f-a0b2-d74167577b32",
   "metadata": {},
   "source": [
    "**Upload your work from Lecture 10 Exercise session**\n",
    "\n",
    "**Note.** Jupiter Notebook is acceptable for Class participation mark. \n",
    "          Please make sure you save your JupiterNotebook with Answers.\n",
    "\n",
    "- Each student will upload the Jupiter Notebook on Canvas Course 1: https://canvas.ubc.ca/courses/144703:\n",
    "\n",
    " `[Lecture_10_Exercise_Session 10]_[TeamNumber]_[student name].ipynb`\n",
    "eg., `Lecture_10_Exercise_Session 10_Team21_Biljana_Jonoska_Stojkova.ipynb`\n",
    "\n",
    "- Please write at the title who was responsible for writing each paragraph. \n",
    "\n",
    "Navigate to the Assignments section on Canvas Course 1, and upload the Jupiter document on Canvas under:\n",
    "`Class Participation\\Lecture 10 - Estimating strength and direction of relationships between variables: Assumptions, diagnostics and multiple linear regression` \n"
   ]
  }
 ],
 "metadata": {
  "kernelspec": {
   "display_name": "R",
   "language": "R",
   "name": "ir"
  },
  "language_info": {
   "codemirror_mode": "r",
   "file_extension": ".r",
   "mimetype": "text/x-r-source",
   "name": "R",
   "pygments_lexer": "r",
   "version": "4.3.3"
  }
 },
 "nbformat": 4,
 "nbformat_minor": 5
}
