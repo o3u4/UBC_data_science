{
 "cells": [
  {
   "cell_type": "markdown",
   "id": "ecb7e6fb-6877-421e-99a6-919b87773622",
   "metadata": {},
   "source": [
    "# **Exercise Session 3**\n",
    "# Developed by Biljana Jonoska Stojkova, PhD\n",
    "# Revised by Johnson Chen"
   ]
  },
  {
   "cell_type": "markdown",
   "id": "165a13c6-8163-40ed-9e76-a1e9ef31aff6",
   "metadata": {},
   "source": [
    "## **Lecture 3 - The Strength of the Evidence and the Multiple Comparisons Problem**\n",
    "\n",
    "Today, we will solidify our knowledge on research problem clarification, data structures, and translation into statistical hypotheses. Each student will get a chance to practice research formulation. Today each student will present their work.\n",
    "\n",
    "- **Primary Research Question (Day 1)**\n",
    "- **Study Design Type (Day 1)**\n",
    "- **Limitations from the Study Design and Analysis Methods (Day 1)**\n",
    "- **Statistical Hypothesis Formulation (Day 2)**\n",
    "- **Sample Size Considerations (Day 2)**\n",
    "- **Presenting Your Study Protocol (Day 3)**\n",
    " \n",
    "This exercise will be conducted in three parts. You will work within your team, each of you will have a role to play. The final part of the exercise will involve a small presentation of your findings."
   ]
  },
  {
   "cell_type": "markdown",
   "id": "7fb7c811-4c7f-4ce0-af4d-73cef89de68d",
   "metadata": {},
   "source": [
    "**Today's Learning Goal:**\n",
    "\n",
    "Present concisely in front of the class the most important aspects of the Copper study:\n",
    "\n",
    "- Research question\n",
    "- Study design\n",
    "- Statistical hypothesis\n",
    "- Sample size versus effect size\n",
    "- Limitations due to study design\n",
    "\n",
    "Each team will have 3 minutes to present their study protocol. You can present from your shared report that you have been working on in the Exercise sessions 1 - 3.\n",
    "\n",
    "Today's Jupyter notebook will be your guide towards compiling the information gathered from Days 1 and 2 into a cohesive presentation. You can use your Jupyter Notebooks for today's presentation."
   ]
  },
  {
   "cell_type": "markdown",
   "id": "9bc177b8-52ce-4470-b40b-34564d5b7020",
   "metadata": {},
   "source": [
    "## **Refresher info**:\n",
    "### **Study: One-Year Trial Evaluating the Durability and Antimicrobial Efficacy of Copper in Public Transportation Systems**\n",
    "\n",
    "### **Introduction**\n",
    "\n",
    "The main objective of this study is to test the effect of three Copper products after 12 months of use on public transit. Copper is known for its biocidal properties against microorganisms. During the COVID pandemic, epidemiological measures were taken to reduce the spread of transmissible diseases. A mining company that produces Copper funded this research study to assess the usability of Copper on public transit.\n",
    "\n",
    "The application of copper (Cu) alloys to high-touch surfaces could help reduce the risk of cross-contamination; however, little is known about the durability and efficacy of engineered copper surfaces after prolonged use.\n",
    "\n",
    "Three different commercially available Cu alloy products, ranging from 80 to 91.3% Cu content, were installed on high-touch surfaces in buses and trains (SkyTrain) in Vancouver, as well as subway cars, streetcars, and buses in Toronto, and monitored over the course of one year. The primary objective of this study was to establish the antimicrobial efficacy and durability of Cu alloy surfaces over 12 months of use in public transit vehicles located in two Canadian cities.\n",
    "\n",
    "For more details read published scientific article in Nature - Scientific Reports:\n",
    "[https://www.nature.com/articles/s41598-024-56225-9](https://www.nature.com/articles/s41598-024-56225-9) \n",
    "\n",
    "Please note that the data set we will use in this course uses simulated data, that follow the descirptions of the data in the published article.\n",
    "\n",
    "\n",
    "### **Primary Research Question**\n",
    "\n",
    "Does the use of Copper products reduce the biomass on public transit in Vancouver and Toronto after 12 months?\n",
    "\n",
    "### **Study Design**\n",
    "\n",
    "Stanchions (handrails on public transit) are highly touchable surfaces frequently used by passengers.\n",
    "\n",
    "In this study, copper products were randomly installed on 110 stanchions across three buses and four trains (SkyTrain) in Vancouver, and three buses, two subway cars, and two streetcars in Toronto. Each copper-coated stanchion was paired with a control stanchion placed nearby to ensure close proximity for comparison. Bacterial counts (Colony Forming Units, CFU) were measured every two months after peak morning routes. A Petrifilm Plate Reader Advanced imager was used to collect and process the microbial samples in the microbiology lab to obtain CFU numbers. Three replicate samples were taken from each stanchion for both copper-coated and control surfaces.\n",
    "\n",
    "There is extensive literature supporting CFU as a reliable measure of biomass on highly touchable surfaces in public transit, so this will be used as the primary outcome measure for this study.\n",
    "\n",
    "The 12-month trial was conducted in collaboration with the Toronto Transit Commission (TTC) and Vancouver TransLink (TL). A total of 14 vehicles were used.\n",
    "\n",
    "Microbial samples were collected one to three hours after the last passenger departed from the transit vehicle and prior to cleaning.\n",
    "\n",
    "Although cleaning protocols were changing over the study period, microbial samples for copper and control stanchions were taken simultaneously, as the main objective was to compare the copper-coated surfaces to the control surfaces after 12 months.\n",
    "\n",
    "Read more here: https://asda.stat.ubc.ca/Workshops/asda.stat.ubc.ca/Workshop/2024-07-VSP_Course1/ExerciseStudyDesign.html"
   ]
  },
  {
   "cell_type": "markdown",
   "id": "49ada127-1c50-4b4b-bd13-db257f7f1f78",
   "metadata": {},
   "source": [
    "**Class Presentation - Team_[TeamNumber]** \n",
    "\n",
    "**Bellow are the topics of the presentation, you can present directly from JupiterHub Notebooks Day 1 and 2, or you could copy/paste approrpiate sections from JupiterNotebooks day1 and 2  in the cells bellow. Each student on your team would focus on 2 of the topics bellow.**\n"
   ]
  },
  {
   "cell_type": "markdown",
   "id": "b2f9bcac-8e73-4630-8638-9a4151e036b9",
   "metadata": {},
   "source": [
    "Introduction:"
   ]
  },
  {
   "cell_type": "markdown",
   "id": "832bdcf9-c271-4355-b752-0473b3f3ddbb",
   "metadata": {},
   "source": [
    "Primary Research Question: "
   ]
  },
  {
   "cell_type": "markdown",
   "id": "7786b579-3bec-460e-8c0c-c634c1415dda",
   "metadata": {},
   "source": [
    "Secondary Research Question:\n"
   ]
  },
  {
   "cell_type": "markdown",
   "id": "a0d41374-c0e7-4d04-a373-c40541220206",
   "metadata": {},
   "source": [
    "Study Design: "
   ]
  },
  {
   "cell_type": "markdown",
   "id": "6074ebe4-2cfc-4428-8f89-e7a3d7d3318c",
   "metadata": {},
   "source": [
    "Image of data collection on the field:"
   ]
  },
  {
   "cell_type": "markdown",
   "id": "6ede6b34-061b-46c1-818b-33949d755b2f",
   "metadata": {},
   "source": [
    "Image of Data Structure:"
   ]
  },
  {
   "cell_type": "markdown",
   "id": "55ca376a-ee47-4297-9216-dae964aabc12",
   "metadata": {},
   "source": [
    "Primary Statistical Hypothesis:"
   ]
  },
  {
   "cell_type": "markdown",
   "id": "8519a805-45e4-401a-8330-3c919bb6bbb0",
   "metadata": {},
   "source": [
    "Sample size versus effect size: How big is the hypothesized effect size?"
   ]
  },
  {
   "cell_type": "markdown",
   "id": "11dc59f3-7ee8-461f-8a2c-9088340f363c",
   "metadata": {},
   "source": [
    "Secondary Statistical Hypothesis:"
   ]
  },
  {
   "cell_type": "markdown",
   "id": "36aa29a3-befb-4f94-9aaf-6292ccdc0d70",
   "metadata": {},
   "source": [
    "Limitation due to Study Design:"
   ]
  },
  {
   "cell_type": "markdown",
   "id": "6dc18169-98d2-4621-aec1-aeadf34b1dd1",
   "metadata": {},
   "source": [
    "**Upload your work from Lecture 3 Exercise session**\n",
    "\n",
    "- Each student will upload the Jupiter Notebook on Canvas Course 1: https://canvas.ubc.ca/courses/144703::\n",
    "\n",
    " `[Lecture_3_Exercise_Session 3]_[TeamNumber]_[student name].ipynb`\n",
    "eg., `Lecture_3_Exercise_Session 3_Team21_Biljana_Jonoska_Stojkova.ipynb`\n",
    "\n",
    "- Please write at the title who was responsible for writing each paragraph. \n",
    "\n",
    "Navigate to the Assignments section on Canvas Course 1, and upload the Jupiter document on Canvas under:\n",
    "`Class Participation\\Lecture 3 - The strength of the evidence and the multiple comparisons problem` \n",
    "\n"
   ]
  }
 ],
 "metadata": {
  "kernelspec": {
   "display_name": "R",
   "language": "R",
   "name": "ir"
  },
  "language_info": {
   "codemirror_mode": "r",
   "file_extension": ".r",
   "mimetype": "text/x-r-source",
   "name": "R",
   "pygments_lexer": "r",
   "version": "4.3.3"
  }
 },
 "nbformat": 4,
 "nbformat_minor": 5
}
