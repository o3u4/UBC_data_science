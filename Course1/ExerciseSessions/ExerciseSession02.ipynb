{
 "cells": [
  {
   "cell_type": "markdown",
   "id": "a6df6cf8-00a2-4afe-add7-64be73c35d11",
   "metadata": {},
   "source": [
    "# **Exercise Session 2**\n",
    "# Developed by Biljana Jonoska Stojkova, PhD\n",
    "# Revised by Johnson Chen"
   ]
  },
  {
   "cell_type": "markdown",
   "id": "165a13c6-8163-40ed-9e76-a1e9ef31aff6",
   "metadata": {},
   "source": [
    "## **Lecture 2 - Experimental Designs and Statistical Problem Formulation**\n",
    "\n",
    "Today, we will continue exploring the Copper study to translate the research question defined on Day 1 into a statistical problem. The statistical problem needs to be defined using variable names and should account for the structure in the data. On Day 1, you learned that this study has a very rich and complex data structure, and the structural variables in the dataset need to be included in the statistical hypotheses.\n",
    "\n",
    "Each student will have the opportunity to practice formulating research questions. The purpose of this exercise session is to guide you through a scientific process and help you identify the basic statistical concepts behind the study, including:\n",
    "\n",
    "- **Primary Research Question (Day 1)**\n",
    "- **Study Design Type (Day 1)**\n",
    "- **Limitations from the Study Design and Analysis Methods (Day 1)**\n",
    "- **Statistical Hypothesis Formulation (Day 2)**\n",
    "- **Sample Size Considerations (Day 2)**\n",
    "- **Presenting Your Study Protocol (Day 3)**\n",
    "\n",
    "This exercise will be conducted in three parts. You will work within your team, each of you will have a role to play. The final part of the exercise will involve a small presentation of your findings."
   ]
  },
  {
   "cell_type": "markdown",
   "id": "8066c322-c2be-4462-862a-88d08648f039",
   "metadata": {},
   "source": [
    "## **Today's Learning Goal:**\n",
    "\n",
    "- Use the clarified research questions and Study Design from Day 1.\n",
    "- Clearly formulate the statistical hypothesis.\n",
    "- Discuss sample size and effect size.\n"
   ]
  },
  {
   "cell_type": "markdown",
   "id": "2453bbd3-8234-4f23-8186-1bf9156f2f2b",
   "metadata": {},
   "source": [
    "\n",
    "<img src=\"../images/ProblemFormulation-StatsMethodologie.drawio.png\">"
   ]
  },
  {
   "cell_type": "markdown",
   "id": "1472e218-7c55-44e1-b61e-7001a83484b5",
   "metadata": {},
   "source": [
    "## **Refresher info**:\n",
    "### **Study: One-Year Trial Evaluating the Durability and Antimicrobial Efficacy of Copper in Public Transportation Systems**\n",
    "\n",
    "### **Introduction**\n",
    "\n",
    "The main objective of this study is to test the effect of three Copper products after 12 months of use on public transit. Copper is known for its biocidal properties against microorganisms. During the COVID pandemic, epidemiological measures were taken to reduce the spread of transmissible diseases. A mining company that produces Copper funded this research study to assess the usability of Copper on public transit.\n",
    "\n",
    "The application of copper (Cu) alloys to high-touch surfaces could help reduce the risk of cross-contamination; however, little is known about the durability and efficacy of engineered copper surfaces after prolonged use.\n",
    "\n",
    "Three different commercially available Cu alloy products, ranging from 80 to 91.3% Cu content, were installed on high-touch surfaces in buses and trains (SkyTrain) in Vancouver, as well as subway cars, streetcars, and buses in Toronto, and monitored over the course of one year. The primary objective of this study was to establish the antimicrobial efficacy and durability of Cu alloy surfaces over 12 months of use in public transit vehicles located in two Canadian cities.\n",
    "\n",
    "For more details read published scientific article in Nature - Scientific Reports:\n",
    "[https://www.nature.com/articles/s41598-024-56225-9](https://www.nature.com/articles/s41598-024-56225-9) \n",
    "\n",
    "Please note that the data set we will use in this course uses simulated data, that follow the descirptions of the data in the published article.\n",
    "\n",
    "\n",
    "### **Primary Research Question**\n",
    "\n",
    "Does the use of Copper products reduce the biomass on public transit in Vancouver and Toronto after 12 months?\n",
    "\n",
    "### **Study Design**\n",
    "\n",
    "Stanchions (handrails on public transit) are highly touchable surfaces frequently used by passengers.\n",
    "\n",
    "In this study, copper products were randomly installed on 110 stanchions across three buses and four trains (SkyTrain) in Vancouver, and three buses, two subway cars, and two streetcars in Toronto. Each copper-coated stanchion was paired with a control stanchion placed nearby to ensure close proximity for comparison. Bacterial counts (Colony Forming Units, CFU) were measured every two months after peak morning routes. A Petrifilm Plate Reader Advanced imager was used to collect and process the microbial samples in the microbiology lab to obtain CFU numbers. Three replicate samples were taken from each stanchion for both copper-coated and control surfaces.\n",
    "\n",
    "There is extensive literature supporting CFU as a reliable measure of biomass on highly touchable surfaces in public transit, so this will be used as the primary outcome measure for this study.\n",
    "\n",
    "The 12-month trial was conducted in collaboration with the Toronto Transit Commission (TTC) and Vancouver TransLink (TL). A total of 14 vehicles were used.\n",
    "\n",
    "Microbial samples were collected one to three hours after the last passenger departed from the transit vehicle and prior to cleaning.\n",
    "\n",
    "Although cleaning protocols were changing over the study period, microbial samples for copper and control stanchions were taken simultaneously, as the main objective was to compare the copper-coated surfaces to the control surfaces after 12 months.\n",
    "\n",
    "Read more here: https://asda.stat.ubc.ca/Workshops/asda.stat.ubc.ca/Workshop/2024-07-VSP_Course1/ExerciseStudyDesign.html"
   ]
  },
  {
   "cell_type": "markdown",
   "id": "8e65e744-5bed-4c6a-b716-3f2e8e43d4ce",
   "metadata": {},
   "source": [
    "**Teams 1 - 11:**\n",
    "\n",
    "Each team member is assigned a role: a researcher or a statistician.\n",
    "\n",
    "**Researcher:**\n",
    "\n",
    "1. Pull up the document with the research question and basic study design details discussed on Day 1 (Jupyter Notebook from Day 1).\n",
    "\n",
    "2. Write down the research questions from Day 1 in the cells below."
   ]
  },
  {
   "cell_type": "markdown",
   "id": "6e9a5fcc-4a3c-4f86-8ab6-4033d7014b88",
   "metadata": {},
   "source": [
    "**Primary Research Question - Statistician**:\n"
   ]
  },
  {
   "cell_type": "markdown",
   "id": "3059e702-3945-4bd6-afe6-f8d5956231f5",
   "metadata": {},
   "source": [
    "**Secondary Research Question - Statistician**:\n"
   ]
  },
  {
   "cell_type": "markdown",
   "id": "3da5ea8d-ba61-4491-8bea-a9c34766c9f1",
   "metadata": {},
   "source": [
    "**Statistician:**\n",
    "\n",
    "1. Introduce the concept of statistical problem formulation and help the researcher formulate a data-driven problem based on the research question.\n",
    "\n",
    "2. Use the answers from your team's researcher from Day 1 on study design to formulate the primary statistical problem.\n",
    "\n",
    "### **Task 1, Statistician:**\n",
    "\n",
    "- Identify the statistical problem type from today's lecture. A list of 5 statistical problem types is given here. The problem type relevant to the primary research question may be a combination of 2 statistical problem types. Type the answer in the cell below."
   ]
  },
  {
   "cell_type": "markdown",
   "id": "3852f714-963d-4fdc-8438-c24a6ceae7ec",
   "metadata": {},
   "source": [
    "### **List of Most Common Statistical Problem Types:**\n",
    "\n",
    "    A. Hypothesis test, typically if one variable affects the outcome of interest.\n",
    "\n",
    "    B. Quantification (estimation) of the strength of associative relationships between the variables.\n",
    "\n",
    "    C. Exploring, quantifying, and identifying which factors are affecting the outcome of interest.\n",
    "\n",
    "    D. Quantification (estimation) of the strength of causal relationships between the variables.\n",
    "\n",
    "    E. Predicting the outcome of interest."
   ]
  },
  {
   "cell_type": "markdown",
   "id": "6b626f24-cc61-42ba-a1b2-e63e7397abd2",
   "metadata": {},
   "source": [
    "#### **Task 1 Answer, Statistician:** \n",
    "\n"
   ]
  },
  {
   "cell_type": "markdown",
   "id": "d727930c-d965-41d0-9a64-d8d3c82464d1",
   "metadata": {},
   "source": [
    "Choose from the list .."
   ]
  },
  {
   "cell_type": "markdown",
   "id": "e06df499-0bbb-4e53-98a2-9b6b5e6494f7",
   "metadata": {},
   "source": [
    "#### **Task 2, Statistician:**\n",
    "\n",
    "Explain to the researcher why you think the chosen statistical problem type is appropriate for the primary research question.\n",
    "\n",
    "Your primary research question objective is to assess (or quantify) the effect of Copper on biomass reduction, so the statistical problem type is ... , based on the list of the most common statistical problem types."
   ]
  },
  {
   "cell_type": "markdown",
   "id": "ed1de65f-92fa-4c44-ad39-dc7725991f94",
   "metadata": {},
   "source": [
    "#### **Task 2 Answer, Statistician:**\n"
   ]
  },
  {
   "cell_type": "markdown",
   "id": "1f729ef4-4ee5-4138-bd1e-9011eeecadb3",
   "metadata": {},
   "source": [
    "**Statistician:**\n",
    "\n",
    "I will provide an example of what kind of statement this type of statistical problem will produce:\n",
    "\n",
    "Example: The mean log 10 CFU is lower in the Copper Group compared to the Controls by d amount, across all cities and vehicles.\n",
    "\n",
    "Explain that the estimate of d is actually the quantified effect of Copper on biomass on transit. Since d is an estimate, there is uncertainty around this estimate, and this is known as a confidence interval. The best practice is to report the estimate of d along with its confidence interval:\n",
    "\n",
    "Example: The mean log 10 CFU is lower in the Copper Group compared to the Controls by d (CI95%: d - 2 x StdError, d + 2 x StdError) amount, across all cities and vehicles."
   ]
  },
  {
   "cell_type": "code",
   "execution_count": null,
   "id": "a483fb6e-1b15-4b65-83e3-016a703094a2",
   "metadata": {},
   "outputs": [],
   "source": [
    "#Run this code to explore the effect size of interest\n",
    "library(tidyverse)\n",
    "\n",
    "\n",
    "ds=read_csv(\"../data/CopperData.csv\")\n",
    "# mutate these variables from double to character type\n",
    "ds <- ds %>% mutate(StanchionID = as.character(StanchionID),\n",
    "\t\t\t    \tPairing = as.character(Pairing),\n",
    "\t\t\t\t\tVehicleNumber = as.character(VehicleNumber))\n",
    "\n",
    "head(ds)\n",
    "\n",
    "group_means <- ds %>%\n",
    "  group_by(Group) %>%\n",
    "  summarize(mean_logCFU = mean(logCFU))\n",
    "\n",
    "# Identify the positions for the bracket\n",
    "upper_mean <- max(group_means$mean_logCFU)\n",
    "lower_mean <- min(group_means$mean_logCFU)\n",
    "\n",
    "\n",
    "g5 = ds %>% ggplot(aes(x=factor(Group), y=logCFU,fill=Group)) + geom_boxplot() +labs(title=\"The effect of the Group on log 10 CFU\", x=\"Group\",y=\"log 10 CFU\") + geom_hline(data = group_means, aes(yintercept = mean_logCFU, color = Group), linetype=\"dashed\",size=3)\n",
    "g5 <-g5+annotate(\"label\", x = 1.5, y = 2.5, label = sprintf('Mean log 10 CFU difference between Copper and Control group'), color='red', size=4)\n",
    "g5"
   ]
  },
  {
   "cell_type": "markdown",
   "id": "d92ac3e6-1347-4e8a-8b57-229bcc92b0e4",
   "metadata": {},
   "source": [
    "**Researcher:**\n",
    "\n",
    "Yes! That is exactly the kind of statement I would like to make at the end of the analysis.\n",
    "\n",
    "I would also like to confirm the statistical significance of the quantified effect of Copper on biomass reduction."
   ]
  },
  {
   "cell_type": "markdown",
   "id": "0d4337e1-ef9d-47a3-bf4a-f641b5f867dd",
   "metadata": {},
   "source": [
    "**Statistician:**\n",
    "\n",
    "Alright! We actually have not discussed statistical significance yet. A statistically significant result means that we have enough observations in the dataset (or statistical power) to detect a practically significant effect size. \n",
    "\n",
    "So I will need to ask you, what is the practically significant effect size for this study?\n",
    "\n",
    "#### **Task, Statistician:** \n",
    "\n",
    "Hint. Explain to the researcher what the effect size in the context of the primary research question means. Choose the correct answer from the list below:\n",
    "\n",
    "       A. The mean log CFU in Copper group is lower by X amount than that of the Control group, across all vehicles and across two Canadian cities (Vancouver and Toronto).\n",
    "        \n",
    "       B. The mean log CFU in Copper group is lower by X amount than that of the Control group, across all vehicles in each of the Canadian cities (Vancouver and Toronto) separately.\n",
    "\n",
    "       C. The mean log CFU in Copper group is lower by X amount than that of the Control group, for each vehicle in each of the Canadian cities (Vancouver and Toronto) separately.\n",
    "\n",
    "       D. The mean log CFU in Copper group is lower by X amount than that of the Control group, for each vehicle separately.\n",
    "\n",
    "     Ask how much is the hypothesized reduction X in log CFU, or rephrase it more specifically in terms of reduction of log CFU between the two groups.  \n",
    " "
   ]
  },
  {
   "cell_type": "markdown",
   "id": "bf738cf4-2d2d-4077-b3da-e77d5c930f8d",
   "metadata": {},
   "source": [
    "**Answer, Statistician:** "
   ]
  },
  {
   "cell_type": "markdown",
   "id": "76c72ebe-24af-4672-8882-50d3d2aba2b3",
   "metadata": {},
   "source": [
    "**Researcher:**\n",
    "\n",
    "Ah yes! Thanks for pointing this out. We do have previous literature that shows that Copper can reduce CFU by 1 on the log scale."
   ]
  },
  {
   "cell_type": "markdown",
   "id": "3b812a76-ab87-4be0-9850-3f64b73aa595",
   "metadata": {},
   "source": [
    "**Statistician:**\n",
    "\n",
    "Ok, we can calculate the sample size to ensure we have enough statistical power to detect a reduction of 1 on the log 10 CFU scale from the Control to the Copper group. Sample size calculation is performed for the primary statistical hypothesis. Secondary and tertiary statistical hypotheses will have unknown statistical power because they are less important from a research perspective. \n",
    "\n",
    "If we determine that we have two equally important primary statistical hypotheses, we have to adjust the Type I Error for two tests (also known as the multiple comparison problem), which will increase the sample size requirement. The implications are that the study will have to run longer and use more resources. \n",
    "\n",
    "This is why we prioritize the research objectives and analyze the most important questions first to maximize the strength of the evidence from the data. We can still analyze the secondary and tertiary research questions, but the Type I Error is inflated with each new statistical test, and the strength of the evidence is diluted. Therefore, fewer analyses produce more powerful evidence from the data."
   ]
  },
  {
   "cell_type": "markdown",
   "id": "a7b8f005-194a-47cf-8156-2ac0dbe69449",
   "metadata": {},
   "source": [
    "#### **Task Statistician:** \n",
    "\n",
    "Write a clear statistical problem formulation to include the hypothesized effect size for each research question.\n",
    "\n",
    "**Hint:** Following the discussion with the researcher, choose which of the statistical hypotheses are primary and which are secondary research questions. Write your answers in the cells below.\n",
    "\n",
    "    A. The mean `log 10 CFU` for Copper products is lower by 1 (on the log 10 scale) than the mean `log 10 CFU` for Controls, across all public transit vehicles and two Canadian cities (Vancouver and Toronto).\n",
    "\n",
    "    B. The mean `log 10 CFU` for Copper products is lower by 1 (on the log 10 scale) than the mean `log 10 CFU` for Controls, across all vehicles in each of the Canadian cities (Vancouver and Toronto) separately.\n",
    "\n",
    "    C. The mean `log 10 CFU` for Copper products is lower by 1 (on the log 10 scale) than the mean `log 10 CFU` for Controls, for each vehicle in each of the Canadian cities (Vancouver and Toronto) separately.\n",
    "\n",
    "    D. The mean `log 10 CFU` for Copper products is lower by 1 (on the log 10 scale) than the mean `log 10 CFU` for Controls, for each vehicle separately."
   ]
  },
  {
   "cell_type": "markdown",
   "id": "df468e2e-bd9a-49fb-8701-3d2acef7dad4",
   "metadata": {},
   "source": [
    "**Primary Statistical hypothesis, Statistician:** "
   ]
  },
  {
   "cell_type": "markdown",
   "id": "b2331865-99be-46a4-941c-99490c562a3d",
   "metadata": {},
   "source": [
    "**Secondary Statistical hypothesis, Statistician:** "
   ]
  },
  {
   "cell_type": "markdown",
   "id": "6dc18169-98d2-4621-aec1-aeadf34b1dd1",
   "metadata": {},
   "source": [
    "**Upload your work from Lecture 2 Exercise session**\n",
    "\n",
    "- Each student will upload the Jupiter Notebook on Canvas Course 1: https://canvas.ubc.ca/courses/144703::\n",
    "\n",
    " `[Lecture_1_Exercise_Session 2]_[TeamNumber]_[student name].ipynb`\n",
    "eg., `Lecture_1_Exercise_Session 2_Team21_Biljana_Jonoska_Stojkova.ipynb`\n",
    "\n",
    "- Please write at the title who was responsible for writing each paragraph. \n",
    "\n",
    "Navigate to the Assignments section on Canvas Course 1, and upload the Jupiter document on Canvas under:\n",
    "`Class Participation\\Lecture 2 - Experimental designs and statistical problem formulation` \n",
    "\n"
   ]
  }
 ],
 "metadata": {
  "kernelspec": {
   "display_name": "R",
   "language": "R",
   "name": "ir"
  },
  "language_info": {
   "codemirror_mode": "r",
   "file_extension": ".r",
   "mimetype": "text/x-r-source",
   "name": "R",
   "pygments_lexer": "r",
   "version": "4.3.3"
  }
 },
 "nbformat": 4,
 "nbformat_minor": 5
}
