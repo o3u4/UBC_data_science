{
 "cells": [
  {
   "cell_type": "markdown",
   "id": "2de1e972-ad9a-47b4-9943-efaed3a5e7dd",
   "metadata": {},
   "source": [
    "# **Exercise Session 7**\n",
    "# Developed by Biljana Jonoska Stojkova, PhD\n",
    "# Revised by Johnson Chen"
   ]
  },
  {
   "cell_type": "markdown",
   "id": "793707ef-9e23-4f63-8ff2-fd2461685174",
   "metadata": {},
   "source": [
    "## **Lecture 7 - Hypothesis Testing: Basic Concepts and Basic Tests (Non-Parametric Tests, One-Way ANOVA) and Their Assumptions**\n",
    "\n",
    "Today's exercise will focus on formulating predefined research questions, and we will practice determining which of the statistical concepts discussed in today's lecture are applicable to the Plant Growth dataset.\n",
    "\n",
    "We will keep the same teams as those on the previous days. Each team will continue working on the Plant Growth dataset. Each team member will have to answer the questions and upload their Jupyter Notebook on Canvas."
   ]
  },
  {
   "cell_type": "markdown",
   "id": "9a95669c-483b-430f-b956-aa52fce65917",
   "metadata": {},
   "source": [
    "### **Today's Learning Goal:**\n",
    "\n",
    "- Explore the Plant Growth dataset and define research questions, then translate them into statistical hypotheses.\n",
    "- Determine what kind of exploratory data analysis plot would be relevant to test the statistical hypothesis.\n",
    "- Identify which statistical concepts discussed today can be useful in testing the statistical hypothesis you formulated on the Plant Growth dataset.\n",
    "- Assess whether One-Way ANOVA is appropriate to handle the complexities in the Plant Growth dataset for both primary and secondary hypotheses.\n",
    "- Learn how to interpret the results from One-Way ANOVA based on your defined statistical hypothesis.\n",
    "- Ensure you upload your Jupyter Notebook at the end of the day."
   ]
  },
  {
   "cell_type": "markdown",
   "id": "d4d5c87b-c573-4fac-a84c-ef69320e10ef",
   "metadata": {},
   "source": [
    "### **Tasks for All Teams**\n",
    "\n",
    "You will continue working within your team.\n",
    "\n",
    "- Define a statistical hypothesis.\n",
    "- Determine an appropriate graph to explore your statistical hypothesis.\n",
    "- Determine whether One-Way ANOVA is appropriate to answer your research question.\n",
    "- Justify your decision based on the research question of interest and data structures.\n",
    "- Discuss which assumptions may be violated and how useful and trustworthy the results would be."
   ]
  },
  {
   "cell_type": "markdown",
   "id": "5936b67d-618b-47ef-a117-d488e732bea3",
   "metadata": {},
   "source": [
    "**Assumptions of One-Way ANOVA:**\n",
    "\n",
    "AA1. Comparison groups are two or more uncorrelated samples.\n",
    "\n",
    "AA2. The outcome variable of interest is normally distributed within each comparison group.\n",
    "\n",
    "AA3. The outcome variable of interest has equal variance within each of the comparison groups (related to equal sample size within each group).\n",
    "\n",
    "AA4. Independent observations: Each comparison group represents a simple random sample from their respective populations and are independent of each other."
   ]
  },
  {
   "cell_type": "code",
   "execution_count": null,
   "id": "634c163f-ebee-498c-af05-f6fb8a97659f",
   "metadata": {
    "tags": []
   },
   "outputs": [],
   "source": [
    "#Run this code\n",
    "library(tidyverse)\n",
    "data(\"PlantGrowth\")\n",
    "head(PlantGrowth)"
   ]
  },
  {
   "cell_type": "markdown",
   "id": "95861174-9394-4659-b1d3-f91f108b998f",
   "metadata": {},
   "source": [
    "#### **Teams 1 - 11:**\n",
    "\n",
    "Your task is to examine the dataset and formulate statistical hypotheses. Start by examining the dataset and running the code cells.\n",
    "\n",
    "**Q1.** How many comparison groups are there in the Plant Growth dataset? State the group names clearly in your answer below.\n"
   ]
  },
  {
   "cell_type": "code",
   "execution_count": null,
   "id": "26c6a61d-2c07-4c00-93c7-81c45478cb10",
   "metadata": {
    "tags": []
   },
   "outputs": [],
   "source": [
    "#Run this code to answer Q1\n",
    "unique(PlantGrowth$group)"
   ]
  },
  {
   "cell_type": "markdown",
   "id": "515435a4-8fcd-49c3-b416-4d84a0840583",
   "metadata": {},
   "source": [
    "**Answer 1.**"
   ]
  },
  {
   "cell_type": "markdown",
   "id": "ed53f7d6-eee0-4fd8-845a-489f38441de1",
   "metadata": {},
   "source": [
    "**Q2.** Are the comparison groups uncorrelated or paired?"
   ]
  },
  {
   "cell_type": "code",
   "execution_count": null,
   "id": "ced9d2df-96be-4aa8-a829-008aa1e29180",
   "metadata": {
    "tags": []
   },
   "outputs": [],
   "source": [
    "#Run this code to answer Q2\n",
    "help(\"PlantGrowth\")"
   ]
  },
  {
   "cell_type": "markdown",
   "id": "44090bcc-045e-4df2-9e32-455b809990ea",
   "metadata": {
    "tags": []
   },
   "source": [
    "You can download the cited book <a href = \"../books/978-1-4899-3174-0.pdf\"> here </a> \n",
    "\n"
   ]
  },
  {
   "cell_type": "markdown",
   "id": "80a4470c-b06e-4b8b-9df5-48234bd99480",
   "metadata": {},
   "source": [
    "**Answer 2.**"
   ]
  },
  {
   "cell_type": "markdown",
   "id": "f0692bbb-d9f9-4271-9e75-6d21118047bc",
   "metadata": {},
   "source": [
    "\n",
    "**Q3.** Formulate a statistical hypothesis.\n",
    "\n",
    "Hint: The experiment was run to test how each of the two treatments (trt1 and trt2) are affecting the dried weight of plants. Define a statistical hypothesis with an omnibus test (to compare the plant dried weight between the three groups all at once). State clearly the ANOVA type statistical hypothesis."
   ]
  },
  {
   "cell_type": "code",
   "execution_count": null,
   "id": "204cf5ca-09e9-4144-abc7-304edb01d233",
   "metadata": {
    "tags": []
   },
   "outputs": [],
   "source": [
    "#Run this code for question Q3 (formulate research question)\n",
    "g1 = PlantGrowth %>% ggplot(aes(y=weight, x=group)) + geom_boxplot() + labs(title=\"Boxplots of dried weight of plants for each group\")\n",
    "g1\n"
   ]
  },
  {
   "cell_type": "markdown",
   "id": "5c154a21-9d96-4dc7-83f2-92cacc9ededf",
   "metadata": {},
   "source": [
    "**Answer 3.**  "
   ]
  },
  {
   "cell_type": "markdown",
   "id": "6e321de8-8f17-44e9-bed1-0571d39ddbdb",
   "metadata": {},
   "source": [
    "\n",
    "**Q4.** Determine if One-Way ANOVA assumptions are appropriate for the Plant Growth dataset (Run the ANOVA analysis code)."
   ]
  },
  {
   "cell_type": "code",
   "execution_count": null,
   "id": "424d4307-e9b9-4248-b8f9-896ec6d97d4f",
   "metadata": {
    "tags": []
   },
   "outputs": [],
   "source": [
    "# Run ANOVA analysis Q4.\n",
    "m1 <- aov(weight ~ group, data=PlantGrowth)\n",
    "m1"
   ]
  },
  {
   "cell_type": "markdown",
   "id": "8de89af4-0ec4-40f5-8c41-44d2095c4eb2",
   "metadata": {},
   "source": [
    "**Answer 4. AA1. Comparison groups are two or more un-correlated samples.**  \n",
    "This question can be answered based on the experimental design. "
   ]
  },
  {
   "cell_type": "markdown",
   "id": "fa05bf32-b9cd-4731-b05a-b88068726e19",
   "metadata": {},
   "source": [
    "**Answer 4. AA2. The outcome variable of interest is normally distributed within each comparison group.**"
   ]
  },
  {
   "cell_type": "code",
   "execution_count": null,
   "id": "57f67793-cafb-4a6e-b94f-41c770ad69c4",
   "metadata": {},
   "outputs": [],
   "source": [
    "#Run this code to examine the Assumption 2, normality within each group \n",
    "\n",
    "g1 = PlantGrowth %>% ggplot(aes(x=weight)) + geom_histogram() + facet_wrap(~group)+ labs(title=\"Distribution of plant weight for each group\")\n",
    "g1"
   ]
  },
  {
   "cell_type": "markdown",
   "id": "a9c615d1-fa38-4f56-8768-5f046b10a012",
   "metadata": {},
   "source": [
    "**Answer 4. AA3. The outcome variable of interest has equal variance within each of the two comparison groups(related to equal sample size within each group).**\n",
    "            \n",
    "            \n",
    "This question can be answered from the boxplots and by examining the sample sizes in each group. "
   ]
  },
  {
   "cell_type": "code",
   "execution_count": null,
   "id": "2cdae0ce-aadd-4d79-9325-ec79e3550d54",
   "metadata": {},
   "outputs": [],
   "source": [
    "#run this code to examine sample sizes in each group\n",
    "PlantGrowth %>% count(group)"
   ]
  },
  {
   "cell_type": "markdown",
   "id": "e28d5d97-dbe0-44c7-9d25-e03741dc1133",
   "metadata": {},
   "source": [
    "**Answer 4. AA4. Independent observations: each comparison group represents a simple random sample from their respective populations and are independent of each other.** \n",
    "\n",
    "This question can be answered based on the experimental design. "
   ]
  },
  {
   "cell_type": "markdown",
   "id": "be2b8ad1-30d6-406a-99b5-7d8c5f863cba",
   "metadata": {},
   "source": [
    "**Q5.** Interpret the results from ANOVA for the primary statistical hypothesis.\n",
    "\n",
    "**Hint**: Remember that the omnibus test in ANOVA tests the hypothesis: H0: all the group means are the same, HA: at least one of the three groups is different from the rest of the two groups. The statsitical problem was formuated according to this hypothesis. What kind of statement is now possible from the One-Way ANOVA?\n"
   ]
  },
  {
   "cell_type": "markdown",
   "id": "cb4adac9-c133-44c2-b312-37626194c727",
   "metadata": {},
   "source": [
    "**Answer 5.**"
   ]
  },
  {
   "cell_type": "markdown",
   "id": "028988ad-9336-4802-b0e7-ab05e55c8895",
   "metadata": {},
   "source": [
    "\n",
    "**Q6.** Formulate secondary and tertiary statistical hypotheses.\n",
    "\n",
    "Hint: Is it possible to conduct pairwise comparisons? Perhaps the secondary hypothesis is to compare the outcome between trt1 and ctrl, and trt2 to ctrl, and the tertiary is to compare trt1 to trt2. \n",
    "\n"
   ]
  },
  {
   "cell_type": "code",
   "execution_count": null,
   "id": "a5b939da-3414-4a83-b1f8-9c5e41cbeee8",
   "metadata": {
    "tags": []
   },
   "outputs": [],
   "source": [
    "# Run the first of the two secondary pairwise hypotheses, trt 1 versus ctrl\n",
    "trt1_ctrl <- t.test(weight~group,data=PlantGrowth %>% filter(group !=\"trt2\"),var.equal=T)\n",
    "print(trt1_ctrl)"
   ]
  },
  {
   "cell_type": "code",
   "execution_count": null,
   "id": "985e0402-8340-4775-868b-7167bda856d1",
   "metadata": {
    "tags": []
   },
   "outputs": [],
   "source": [
    "# Run the second of the two secondary pairwise hypotheses, trt 2 versus ctrl\n",
    "trt2_ctrl <- t.test(weight~group,data=PlantGrowth %>% filter(group !=\"trt1\"),var.equal=T)\n",
    "print(trt2_ctrl)"
   ]
  },
  {
   "cell_type": "code",
   "execution_count": null,
   "id": "c2a556ba-a648-4e94-a6bd-6124a26ae5e9",
   "metadata": {},
   "outputs": [],
   "source": [
    "# Run the tertiary pairwise hypotheses, trt 1 versus trt 2\n",
    "trt1_trt2 <- t.test(weight~group,data=PlantGrowth %>% filter(group !=\"ctrl\"),var.equal=T)\n",
    "print(trt1_trt2)"
   ]
  },
  {
   "cell_type": "markdown",
   "id": "d3c84014-4dd2-46de-817a-df4c20cc70ce",
   "metadata": {},
   "source": [
    "**Answer 6.** "
   ]
  },
  {
   "cell_type": "markdown",
   "id": "e5efed8b-9158-45eb-bac0-c692502338cc",
   "metadata": {},
   "source": [
    "**Bonus:**\n",
    "\n",
    "**Q7.** Interpret the results from the post-hoc pairwise comparisons for the secondary and tertiary statistical hypotheses.\n",
    "\n",
    "**Q8.** Discuss the implications of multiple comparisons in the above analysis. How will the setup of the hypotheses affect the strength of the evidence (is Type I Error inflated)?\n",
    "\n",
    "**Q9.** Can you estimate the differences in the mean plant weight between the groups with ANOVA?\n",
    "\n",
    "Type your answers in the cells below:"
   ]
  },
  {
   "cell_type": "markdown",
   "id": "28b196a2-b9d0-4a4f-b9c8-cb004b246b78",
   "metadata": {},
   "source": [
    "**Answer 7.**\n"
   ]
  },
  {
   "cell_type": "markdown",
   "id": "6c4dec97-ebc8-4e89-9870-f637b986e3e0",
   "metadata": {},
   "source": [
    "**Answer 8.**"
   ]
  },
  {
   "cell_type": "markdown",
   "id": "ec60860b-1449-488d-9954-b1be6ca51c3c",
   "metadata": {},
   "source": [
    "**Answer 9.**"
   ]
  },
  {
   "cell_type": "markdown",
   "id": "e66dfd92-86fd-429f-a0b2-d74167577b32",
   "metadata": {},
   "source": [
    "**Upload your work from Lecture 7 Exercise session**\n",
    "\n",
    "**Note.** Jupiter Notebook is acceptable for Class participation mark. \n",
    "          Please make sure you save your JupiterNotebook with Answers.\n",
    "\n",
    "- Each student will upload the Jupiter Notebook on Canvas Course 1: https://canvas.ubc.ca/courses/144703:\n",
    "\n",
    " `[Lecture_7_Exercise_Session 7]_[TeamNumber]_[student name].ipynb`\n",
    "eg., `Lecture_7_Exercise_Session 7_Team21_Biljana_Jonoska_Stojkova.ipynb`\n",
    "\n",
    "- Please write at the title who was responsible for writing each paragraph. \n",
    "\n",
    "Navigate to the Assignments section on Canvas Course 1, and upload the Jupiter document on Canvas under:\n",
    "`Class Participation\\Lecture 7 - Hypothesis testing, basic concepts, basic tests (non-parametric tests, One-Way ANOVA) and their assumptions ` \n"
   ]
  }
 ],
 "metadata": {
  "kernelspec": {
   "display_name": "R",
   "language": "R",
   "name": "ir"
  },
  "language_info": {
   "codemirror_mode": "r",
   "file_extension": ".r",
   "mimetype": "text/x-r-source",
   "name": "R",
   "pygments_lexer": "r",
   "version": "4.3.3"
  }
 },
 "nbformat": 4,
 "nbformat_minor": 5
}
