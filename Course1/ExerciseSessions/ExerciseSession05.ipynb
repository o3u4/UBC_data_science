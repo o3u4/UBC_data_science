{
 "cells": [
  {
   "cell_type": "markdown",
   "id": "d16018f3-bcaf-4c87-b284-b3eabbee6dcd",
   "metadata": {},
   "source": [
    "# **Exercise Session 5**\n",
    "# Developed by Biljana Jonoska Stojkova, PhD\n",
    "# Revised by Johnson Chen"
   ]
  },
  {
   "cell_type": "markdown",
   "id": "2de1e972-ad9a-47b4-9943-efaed3a5e7dd",
   "metadata": {},
   "source": [
    "## **Lecture 5 - How to Choose the Most Appropriate Graphs for the Data-Driven Problem**\n",
    "\n",
    "Today's exercises will focus on answering a predefined research question. At the end of the exercise session, each team will present their results. Each student on the team will present briefly, as exploratory plots already reveal rich insights from the data. Each team member will cover the following discussion points:\n",
    "\n",
    "- What is the research question that we are trying to answer with the plots?\n",
    "- What story can the plot tell us, and what insights will remain hidden?\n",
    "- Justify why the plot is appropriate given the research questions, study design (structure in the data), and data types for each of the variables.\n",
    "- You can present the plots directly from your Jupyter Notebook.\n",
    "- Please make sure you upload your Jupyter Notebook on Canvas (as per the instructions below) before the presentation.\n",
    "\n",
    "**Task for All Teams:**\n",
    "\n",
    "**Q1.** Run the code to see the dataset.\n",
    "\n",
    "**Q2.** Identify which variables are of interest for interpreting the research questions and which variables are not of interest for interpretation but are an important part of the dataset (e.g., for clustering or stratification).\n",
    "\n",
    "Type your answer in the cell below the code cell."
   ]
  },
  {
   "cell_type": "code",
   "execution_count": null,
   "id": "57c386fd-1e62-4744-ad8a-c6590c2257eb",
   "metadata": {
    "tags": []
   },
   "outputs": [],
   "source": [
    "#Answer Q1:\n",
    "library(tidyverse)\n",
    "ds=read_csv(\"../data/CopperData.csv\")\n",
    "head(ds)"
   ]
  },
  {
   "cell_type": "markdown",
   "id": "0ba19c26-42c7-494d-ae49-d7974a92dff5",
   "metadata": {},
   "source": [
    "Answer Q2:"
   ]
  },
  {
   "cell_type": "markdown",
   "id": "7cdc28e8-f456-44df-b680-5f7b2e59eff7",
   "metadata": {},
   "source": [
    "**Teams 1 - 2:**\n",
    "\n",
    "**Q1.** Given below is a bivariate plot with `StanchionID` on the x-axis and `logCFU` on the y-axis. Run the code to see the plot. \n",
    "\n",
    "**Q2.** Which data set complexities are hidden by this plot? (e.g., clustering due to `StanchionID`, `Pairing`, `VehicleNumber`, or `City`)\n",
    "\n",
    "**Q3.** Does this plot answer the most important research question we discussed on Days 1 to 3?\n",
    "\n",
    "**Q4.** If the answer to Q3 is \"No\", then what other research question can be answered by this plot?\n",
    "\n",
    "**Q5.** Interpret the plot.\n",
    "\n",
    "Type your answer in the cells below:"
   ]
  },
  {
   "cell_type": "code",
   "execution_count": null,
   "id": "2af930a2-53ca-494a-b3fa-d9d26d9b6def",
   "metadata": {
    "tags": []
   },
   "outputs": [],
   "source": [
    "# Answer 1\n",
    "g1= ds %>% ggplot(aes(x=factor(StanchionID), y=logCFU)) + geom_boxplot() + labs(title=\"The effect of the StanchionID on log 10 CFU\", x=\"StanchionID\",y=\"log 10 CFU\")\n",
    "g1"
   ]
  },
  {
   "cell_type": "markdown",
   "id": "382e979e-490b-4894-9e46-819281b037ca",
   "metadata": {},
   "source": [
    "Answer 2."
   ]
  },
  {
   "cell_type": "markdown",
   "id": "01052479-8e91-4ba9-8582-71e158cac538",
   "metadata": {},
   "source": [
    "Answer 3."
   ]
  },
  {
   "cell_type": "markdown",
   "id": "e0b2e1f7-7546-422f-a209-a250d7ef7ef2",
   "metadata": {},
   "source": [
    "Answer 4."
   ]
  },
  {
   "cell_type": "markdown",
   "id": "cca40028-35ef-4ac0-827c-a83bf23b80b1",
   "metadata": {},
   "source": [
    "Answer 5."
   ]
  },
  {
   "cell_type": "markdown",
   "id": "9ec11083-62e4-485d-af5e-75f295e72c84",
   "metadata": {},
   "source": [
    "**Teams 3 - 4:**\n",
    "\n",
    "**Q1.** Given below is a bivariate plot with `Pairing` on the x-axis and `logCFU` on the y-axis. Run the code to see the plot. \n",
    "\n",
    "**Q2.** Which data set complexities are hidden by this plot? (e.g., clustering due to `StanchionID`, `Pairing`, `VehicleNumber`, or `City`)\n",
    "\n",
    "**Q3.** Does this plot answer the most important research question we discussed on Days 1 to 3?\n",
    "\n",
    "**Q4.** If the answer to Q3 is \"No\", then what other research question can be answered by this plot?\n",
    "\n",
    "**Q5.** Interpret the plot.\n",
    "\n",
    "Type your answer in the cells below:"
   ]
  },
  {
   "cell_type": "code",
   "execution_count": null,
   "id": "0b49c818-a3b9-4fe1-b0e0-423e7623ba02",
   "metadata": {
    "tags": []
   },
   "outputs": [],
   "source": [
    "# Answer 1\n",
    "g2 = ds %>% ggplot(aes(x=factor(Pairing), y=logCFU)) + geom_boxplot() + labs(title=\"The effect of the Pairing on log 10 CFU\", x=\"Pairing\",y=\"log 10 CFU\")\n",
    "g2"
   ]
  },
  {
   "cell_type": "markdown",
   "id": "335153c9-1be7-43ae-95a2-46c948631711",
   "metadata": {},
   "source": [
    "Answer 2."
   ]
  },
  {
   "cell_type": "markdown",
   "id": "8de89af4-0ec4-40f5-8c41-44d2095c4eb2",
   "metadata": {},
   "source": [
    "Answer 3."
   ]
  },
  {
   "cell_type": "markdown",
   "id": "cb4adac9-c133-44c2-b312-37626194c727",
   "metadata": {},
   "source": [
    "Answer 4."
   ]
  },
  {
   "cell_type": "markdown",
   "id": "27e530aa-b8bb-4a4c-884c-c6f79a76fc8c",
   "metadata": {},
   "source": [
    "Answer 5."
   ]
  },
  {
   "cell_type": "markdown",
   "id": "27d619a0-a84b-4be6-a56f-1d32709e9c8d",
   "metadata": {},
   "source": [
    "\n",
    "**Teams 5 - 6:**\n",
    "\n",
    "**Q1.** Given below is a bivariate plot with `VehicleNumber` on the x-axis and `logCFU` on the y-axis. Run the code to see the plot. \n",
    "\n",
    "**Q2.** Which data set complexities are hidden by this plot? (e.g., clustering due to `StanchionID`, `Pairing`, `VehicleNumber`, or `City`)\n",
    "\n",
    "**Q3.** Does this plot answer the most important research question we discussed on Days 1 to 3?\n",
    "\n",
    "**Q4.** If the answer to Q3 is \"No\", then what other research question can be answered by this plot?\n",
    "\n",
    "**Q5.** Interpret the plot.\n",
    "\n",
    "Type your answer in the cells below:"
   ]
  },
  {
   "cell_type": "code",
   "execution_count": null,
   "id": "9ebad02e-165c-441a-b8f6-7d0b607d3acf",
   "metadata": {
    "tags": []
   },
   "outputs": [],
   "source": [
    "# Answer 1\n",
    "g3 = ds %>% ggplot(aes(x=factor(VehicleNumber), y=logCFU)) + geom_boxplot() + labs(title=\"The effect of the VehicleNumber on log 10 CFU\", x=\"VehicleNumber\",y=\"log 10 CFU\")\n",
    "g3"
   ]
  },
  {
   "cell_type": "markdown",
   "id": "6fe46aa9-b993-45d5-bfa9-26c5ea1d548b",
   "metadata": {},
   "source": [
    "Answer 1:"
   ]
  },
  {
   "cell_type": "markdown",
   "id": "75833a39-4dd4-4a10-8e0a-0ddb32655e6d",
   "metadata": {},
   "source": [
    "Answer 2."
   ]
  },
  {
   "cell_type": "markdown",
   "id": "3f38ad3e-df4a-48f9-8e81-d7d37bd9b393",
   "metadata": {},
   "source": [
    "Answer 3."
   ]
  },
  {
   "cell_type": "markdown",
   "id": "629bc758-a392-400d-806b-04de6f055136",
   "metadata": {},
   "source": [
    "Answer 4."
   ]
  },
  {
   "cell_type": "markdown",
   "id": "0cdb7a6e-484f-44a1-a774-94830e0be5b7",
   "metadata": {},
   "source": [
    "Answer 5."
   ]
  },
  {
   "cell_type": "markdown",
   "id": "1ea3451d-3df3-4e53-9bab-61495083a4dd",
   "metadata": {},
   "source": [
    "**Teams 7 - 8:**\n",
    "\n",
    "**Q1.** Given below is a bivariate plot with `City` on the x-axis and `logCFU` on the y-axis. Run the code to see the plot. \n",
    "\n",
    "**Q2.** Which data set complexities are hidden by this plot? (e.g., clustering due to `StanchionID`, `Pairing`, `VehicleNumber`, or `City`)\n",
    "\n",
    "**Q3.** Does this plot answer the most important research question we discussed on Days 1 to 3?\n",
    "\n",
    "**Q4.** If the answer to Q3 is \"No\", then what other research question can be answered by this plot?\n",
    "\n",
    "**Q5.** Interpret the plot.\n",
    "\n",
    "Type your answer in the cells below:"
   ]
  },
  {
   "cell_type": "code",
   "execution_count": null,
   "id": "5f1398dc-8021-4889-936a-97fd49510fba",
   "metadata": {
    "tags": []
   },
   "outputs": [],
   "source": [
    "# Answer 1\n",
    "g4 = ds %>% ggplot(aes(x=factor(City), y=logCFU)) + geom_boxplot() +labs(title=\"The effect of the City on log 10 CFU\", x=\"City\",y=\"log 10 CFU\")\n",
    "g4"
   ]
  },
  {
   "cell_type": "markdown",
   "id": "d0a0ec8a-1717-4eaa-bf89-01e9af69f83d",
   "metadata": {},
   "source": [
    "Answer 1:"
   ]
  },
  {
   "cell_type": "code",
   "execution_count": null,
   "id": "04e3dbe6-865f-42bd-a64c-7ee6796f1b1d",
   "metadata": {},
   "outputs": [],
   "source": [
    "Answer 2:"
   ]
  },
  {
   "cell_type": "code",
   "execution_count": null,
   "id": "d6577491-1845-46cf-ac8d-b71a1cc30954",
   "metadata": {},
   "outputs": [],
   "source": [
    "Answer 3:"
   ]
  },
  {
   "cell_type": "code",
   "execution_count": null,
   "id": "115b3abf-b817-4d62-afda-44fcab4da80f",
   "metadata": {},
   "outputs": [],
   "source": [
    "Answer 4:"
   ]
  },
  {
   "cell_type": "code",
   "execution_count": null,
   "id": "185f9c81-ac07-4da2-becb-27fb64c70169",
   "metadata": {},
   "outputs": [],
   "source": [
    "Answer 5:"
   ]
  },
  {
   "cell_type": "markdown",
   "id": "060bff22-ea2a-483b-8933-d144f3f33bf7",
   "metadata": {},
   "source": [
    "**Teams 9 - 11:**\n",
    "\n",
    "**Q1.** Given below is a bivariate plot with `Group` on the x-axis and `logCFU` on the y-axis. Run the code to see the plot. \n",
    "\n",
    "**Q2.** Which data set complexities are hidden by this plot? (e.g., clustering due to `StanchionID`, `Pairing`, `VehicleNumber`, or `City`)\n",
    "\n",
    "**Q3.** Does this plot answer the most important research question we discussed on Days 1 to 3?\n",
    "\n",
    "**Q4.** If the answer to Q3 is \"No\", then what other research question can be answered by this plot?\n",
    "\n",
    "**Q5.** Interpret the plot.\n",
    "\n",
    "Type your answer in the cells below:"
   ]
  },
  {
   "cell_type": "code",
   "execution_count": null,
   "id": "97fa8f08-268d-4f1e-9438-0bc2bd3193fd",
   "metadata": {
    "tags": []
   },
   "outputs": [],
   "source": [
    "# Answer 1\n",
    "g5 = ds %>% ggplot(aes(x=factor(Group), y=logCFU)) + geom_boxplot() +labs(title=\"The effect of the Group on log 10 CFU\", x=\"City\",y=\"log 10 CFU\")\n",
    "g5"
   ]
  },
  {
   "cell_type": "markdown",
   "id": "b6c9564e-e439-4479-a5a6-b4c9862f5c01",
   "metadata": {},
   "source": [
    "Answer 1."
   ]
  },
  {
   "cell_type": "markdown",
   "id": "2bc1225f-f398-4f09-82f7-1a9815c7994c",
   "metadata": {},
   "source": [
    "Answer 2."
   ]
  },
  {
   "cell_type": "markdown",
   "id": "60f80f13-2b0b-45e4-b968-75ce052fdb80",
   "metadata": {},
   "source": [
    "Answer 3."
   ]
  },
  {
   "cell_type": "markdown",
   "id": "533cec0d-b9f6-4f78-bef0-3f01ac762eaf",
   "metadata": {},
   "source": [
    "Answer 4."
   ]
  },
  {
   "cell_type": "markdown",
   "id": "24342314-2e5d-4c94-aadc-d59efc772d81",
   "metadata": {},
   "source": [
    "Answer 5."
   ]
  },
  {
   "cell_type": "markdown",
   "id": "e5efed8b-9158-45eb-bac0-c692502338cc",
   "metadata": {},
   "source": [
    "**Bonus:**\n",
    "\n",
    "**Q1.** Below is a plot on the effect of the Group on `log 10 CFU` by City. Write one sentence on which research question is answered by plot 1.\n",
    "\n",
    "**Q2.** Below is a plot on the effect of the Group on `log 10 CFU` by City and Vehicle Type. Write one sentence on which research question is answered by plot 2.\n",
    "\n",
    "Type your answers in the cells below:"
   ]
  },
  {
   "cell_type": "code",
   "execution_count": null,
   "id": "0bab36a7-1ac3-4dac-aeb6-6593e59f10e0",
   "metadata": {
    "tags": []
   },
   "outputs": [],
   "source": [
    "# Question 1\n",
    "g6 = ds %>% ggplot(aes(x=factor(Group), y=logCFU)) + geom_boxplot() + facet_wrap(~City) + labs(title=\"The effect of the Group on log 10 CFU by City\", x=\"City\",y=\"log 10 CFU\")\n",
    "g6"
   ]
  },
  {
   "cell_type": "markdown",
   "id": "b2b646dd-010a-44a1-bb04-037143d9e2fa",
   "metadata": {},
   "source": [
    "**Answer 1**"
   ]
  },
  {
   "cell_type": "code",
   "execution_count": null,
   "id": "a2035f82-aa3e-429a-80e6-3bd158e694a3",
   "metadata": {
    "scrolled": true
   },
   "outputs": [],
   "source": [
    "# Question 2\n",
    "g7 = ds %>% ggplot(aes(x=factor(Group), y=logCFU)) + geom_boxplot() + facet_wrap(~City+VehicleNumber) + labs(title=\"The effect of the Group on log 10 CFU by City and VehicleNumber\", x=\"City\",y=\"log 10 CFU\")\n",
    "g7"
   ]
  },
  {
   "cell_type": "markdown",
   "id": "54ac4ce5-c47f-4996-9516-2ea2b17dda89",
   "metadata": {},
   "source": [
    "**Answer 2**"
   ]
  },
  {
   "cell_type": "markdown",
   "id": "08217e0b-57a2-4f76-8cc9-f4263d2ad92c",
   "metadata": {},
   "source": [
    "## **Presentation Time**\n",
    "### **Tell a Story Using the Copper Study Data**\n",
    "\n",
    "Each team has 3 minutes. Each student has less than a minute to focus on one of the following aspects:\n",
    "\n",
    "1. **What is the research question that we are trying to answer with the plots?**\n",
    "\n",
    "2. **Justify why the plot is appropriate given the research questions, study design (data relevance, structures, and data types) for each of the variables.**\n",
    "\n",
    "3. **Focus on clear and simple presentation on answering the research question. Are there any trends?**\n",
    "\n",
    "4. **What story can the plot tell us, and what insights will remain hidden?**\n",
    "   - Are the results meaningful?\n",
    "   - Some research in the domain knowledge can supplement the interpretation. Typically, researchers take the statistical interpretations and translate those back to the subject matter language (statistician would still need to check if those translations are still supported by the evidence from the data).\n",
    "\n",
    "5. **Iterate and Seek Feedback**\n",
    "\n",
    "Make sure your presentations are clear and concise, and address each of the aspects listed above."
   ]
  },
  {
   "cell_type": "markdown",
   "id": "f35566cb-d557-464c-ac57-9f8867a35d34",
   "metadata": {},
   "source": [
    "**Upload your work from Lecture 5 Exercise session**\n",
    "\n",
    "**Note.** Jupiter Notebook is acceptable for Class participation mark. \n",
    "          Please make sure you save your JupiterNotebook with Answers.\n",
    "\n",
    "- Each student will upload the Jupiter Notebook on Canvas Course 1: https://canvas.ubc.ca/courses/144703:\n",
    "\n",
    " `[Lecture_5_Exercise_Session 5]_[TeamNumber]_[student name].ipynb`\n",
    "eg., `Lecture_5_Exercise_Session 5_Team21_Biljana_Jonoska_Stojkova.ipynb`\n",
    "\n",
    "- Please write at the title who was responsible for writing each paragraph. \n",
    "\n",
    "Navigate to the Assignments section on Canvas Course 1, and upload the Jupiter document on Canvas under:\n",
    "`Class Participation\\Lecture 5 - How to choose most appropriate graphs for the data-driven problem ` \n"
   ]
  }
 ],
 "metadata": {
  "kernelspec": {
   "display_name": "R",
   "language": "R",
   "name": "ir"
  },
  "language_info": {
   "codemirror_mode": "r",
   "file_extension": ".r",
   "mimetype": "text/x-r-source",
   "name": "R",
   "pygments_lexer": "r",
   "version": "4.3.3"
  }
 },
 "nbformat": 4,
 "nbformat_minor": 5
}
