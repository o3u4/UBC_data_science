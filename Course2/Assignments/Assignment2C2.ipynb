{
 "cells": [
  {
   "cell_type": "markdown",
   "id": "0b92de49-386b-419e-8dc2-336092daa272",
   "metadata": {},
   "source": [
    "# **Assignment 2**\n",
    "**Data Science Tools and Advanced Modelling Techniques**"
   ]
  },
  {
   "cell_type": "markdown",
   "id": "685cb60d-658b-4e95-856f-220e51c76a9e",
   "metadata": {},
   "source": [
    "## Student Information\n",
    "\n",
    "**Your name (as appears on Canvas):**\n",
    "\n",
    "**Your student ID:**"
   ]
  },
  {
   "cell_type": "markdown",
   "id": "50a767c8-1b10-4241-9dd1-34f1354d21c3",
   "metadata": {},
   "source": [
    "## Marks\n",
    "\n",
    "**Total Marks earned:** \n",
    "\n",
    "**Score for Full Marks:**  70\n",
    "\n",
    "**Bonus marks:** 20"
   ]
  },
  {
   "cell_type": "markdown",
   "id": "03974374-14bf-44a5-8eac-2719c3c06fb0",
   "metadata": {},
   "source": [
    "## Assignment Outline\n",
    "\n",
    "Throughout this course's assignment series, you will get the training needed to complete the final report. With each new assignment in this course, you will master the technical skills to implement analyses (Assignment 1), train reproducible research practices (Assignment 2), and learn key concepts regarding prediction modelling (Assignment 3).\n",
    "\n",
    "In Assignment 2, you will review version control, dynamic document creation, project/code organization and advanced R coding techniques for automation:\n",
    "\n",
    "- Briefly describe the main concepts/steps when using Git \n",
    "\n",
    "- Writing Markdown syntax for use in dynamic documents\n",
    "\n",
    "- Creating Jupyter Notebooks with R Code and Markdown\n",
    "  \n",
    "- Organization of project folders and documentating code\n",
    "\n",
    "- Plot saving, \"if+else\" conditionals and \"for\" loops\n"
   ]
  },
  {
   "cell_type": "markdown",
   "id": "5a524a0c-8294-4d1c-b0d2-e3efb99a910b",
   "metadata": {},
   "source": [
    "## Introduction"
   ]
  },
  {
   "cell_type": "markdown",
   "id": "74dadac3-f6da-421d-b698-34bd5f342e95",
   "metadata": {},
   "source": [
    "We're going to be using the Ames City Iowa housing data set like the previous assignment. Our goal in this analysis project is going to involve generating multiple plots that examine the relationship between Sale Price (`Sale_Price`) and a handful of other key variables of interest in the dataset. These variables include:\n",
    "\n",
    "- Land Slope (`Land_Slope`)\n",
    "- Lot Area (`Lot_Area`)\n",
    "- Overall Condition (`Overall_Cond`)\n",
    "- First Floor Surface Area (Square Feet) (`First_Flr_SF`)\n",
    "- Building Type (`Bldg_Type`)"
   ]
  },
  {
   "cell_type": "markdown",
   "id": "ec626ff9-0093-4cf4-81a7-b2cea6b7492b",
   "metadata": {},
   "source": [
    "## Question 1: Git Repositories I\n",
    "\n",
    "We have a few new collaborators who are also working on this analysis project, and they would like to get involved in coding or reviewing the results. Let's assume that we've already created an online git repository to allow for this collaboration. Which of the following commands would allow the collaborators to receive a new copy of the repository:\n",
    "\n",
    "**A)** `git fetch`\n",
    "\n",
    "**B)** `git pull`\n",
    "\n",
    "**C)** `git remote`\n",
    "\n",
    "**D)** `git init`\n",
    "\n",
    "**E)** `git clone`\n"
   ]
  },
  {
   "cell_type": "markdown",
   "id": "2d906732-8ed7-46d5-a7f5-5c0c90a4114c",
   "metadata": {},
   "source": [
    "(5 points) for correct choice selected"
   ]
  },
  {
   "cell_type": "markdown",
   "id": "641158ec-b1c2-4c1c-a046-f97c3568c435",
   "metadata": {},
   "source": [
    "**[Answer Here]**"
   ]
  },
  {
   "cell_type": "markdown",
   "id": "e1088db4-ff59-48b3-9f27-7142a4d3e877",
   "metadata": {},
   "source": [
    "## Question 2: Git Repositories II\n",
    "\n",
    "Continuing from the previous question, one of our collaborators has pushed a new R script to our online Git repository. We'd like to incorporate this script into the analysis pipeline of the project, make some changes, and then push to the Git repository. What is the most appropriate order of Git commands to do this (assume that we decide to skip `git fetch`)?\n",
    "\n",
    "**A)** `git pull` -> `git commit -m` -> `git add .` -> `git push`\n",
    "\n",
    "**B)** `git pull` -> `git status` -> `git add .` -> `git push`\n",
    "\n",
    "**C)** `git pull` -> `git clone` -> `git commit -m` -> `git add .` -> `git push`\n",
    "\n",
    "**D)** `git pull` -> `git add .` -> `git commit -m` -> `git push`\n",
    "\n",
    "**E)** `git pull` -> `git clone` -> `git add .` -> `git commit -m` -> `git push`"
   ]
  },
  {
   "cell_type": "markdown",
   "id": "89531963-2726-43ef-8bd1-71112423f563",
   "metadata": {},
   "source": [
    "(5 points) for correct choice selected"
   ]
  },
  {
   "cell_type": "markdown",
   "id": "f1a681d0-8571-465a-aeaa-050b971452c5",
   "metadata": {},
   "source": [
    "**[Answer Here]**"
   ]
  },
  {
   "cell_type": "markdown",
   "id": "f97923e6-abfa-4348-b75d-e9e3a257527c",
   "metadata": {},
   "source": [
    "## Question 3: Markdown\n",
    "\n",
    "Let's assume that we're ready to create an initial report from our analysis project, and we'd like to do it in Jupyter Notebook. To do this, we need to be familiar with Markdown syntax to build the report in an organized way. Answer the following questions **AND demonstrate an example of its use**:\n",
    "\n",
    "**(I)** What is the syntax symbol used for inline code (i.e. code that shows up in text)?\n",
    "\n",
    "**(II)** What is the syntax symbol used for headers?\n",
    "\n",
    "**(III)** What is the syntax symbol used for creating an unordered list?\n",
    "\n",
    "**(IV)** What is the syntax symbol used for italicized text?\n",
    "\n",
    "**(V)** What needs to be placed inbetween paragraphs to separate them in Markdown?\n",
    "\n",
    "**Hint:** The Markdown cheatsheet will likely be helpful here."
   ]
  },
  {
   "cell_type": "markdown",
   "id": "fe9a6287-02e2-4fe2-89c4-53e2ce8f6377",
   "metadata": {},
   "source": [
    "(15 points) -  2 points for each correct answer, 1 point for each demonstration"
   ]
  },
  {
   "cell_type": "markdown",
   "id": "ca89207e-aefb-4fd5-9ee7-6dfa8235e4d9",
   "metadata": {},
   "source": [
    "**[Answer Here]**"
   ]
  },
  {
   "cell_type": "markdown",
   "id": "5e10f219-3330-4093-bea8-e77c6fc12ccf",
   "metadata": {},
   "source": [
    "## Question 4: Code Organization and Documentation\n",
    "\n",
    "We have the following unorganized, messy looking code in one of our scripts for our project:\n",
    "\n",
    "```\n",
    "library(tidyverse)\n",
    "ds_ames = read_csv(\"data/ames.csv\")\n",
    "ds_ames = ds_ames %>% filter(Bldg_Type == \"OneFam\")\n",
    "ds_ames = ds_ames %>% mutate(Sale_Price_1000s = Sale_Price/1000)\n",
    "ds_ames$Paved_Drive = factor(ds_ames$Paved_Drive, levels=c(\"Dirt_Gravel\", \"Partial_Pavement\", \"Paved), labels=c(\"Not Paved\", \"Not Paved\", \"Paved\"))\n",
    "ggplot(ds_ames, aes(x=Paved_Drive, y=Sale_Price_1000s))+geom_boxplot()+theme_bw()\n",
    "lm(Sale_Price_1000s~Paved_Drive, data=ds_ames)\n",
    "```\n",
    "\n",
    "Note that the last line is creating a linear regression model (you'll see more on this in the Introduction to Machine Learning lecture coming soon). \n",
    "\n",
    "We have many steps of our analysis pipeline happening here, so we want to organize different steps into separate scripts. Divide the above lines of codes into separate groups, where each group represents a new script you would create. Give each new script an appropriate name, and document the code to explain what each line is doing.\n",
    "\n",
    "**Hint:** Review the section \"Code/Script Organization (Modularize by Task)\" in the reproducible research lecture."
   ]
  },
  {
   "cell_type": "markdown",
   "id": "39ecffff-390a-4f7a-beae-61513cc43f86",
   "metadata": {},
   "source": [
    "(15 points) - 5 points for correctly separating code into different scripts based on purpose, 5 points for appropriate script names, 5 points for reasonable code documentation."
   ]
  },
  {
   "cell_type": "markdown",
   "id": "bad47454-b976-493d-a8ec-15754aab60c7",
   "metadata": {},
   "source": [
    "**[Answer Here]**"
   ]
  },
  {
   "cell_type": "markdown",
   "id": "12141086-41dd-4520-98a6-3ec495b5ddb2",
   "metadata": {},
   "source": [
    "## Question 5: Saving Plots\n",
    "\n",
    "We'd like to save the plot from the previous question as a PDF file to review later or incorporate within other documents. Complete the following code (replace the `...` with your own code) so that we can save it as a PDF. We also want the height of the plot to be 9 inches and the width of the plot to be 6 inches. You may freely edit the code to answer the question."
   ]
  },
  {
   "cell_type": "markdown",
   "id": "2c161093-57a1-4ddc-8dc3-2670021f7cfc",
   "metadata": {},
   "source": [
    "(5 points) for correct code"
   ]
  },
  {
   "cell_type": "markdown",
   "id": "06fea526-8347-44de-8e7c-762d874237d9",
   "metadata": {},
   "source": [
    "**[Modify This]**\n",
    "```\n",
    "...\n",
    "\n",
    "ggplot(ds_ames, aes(x=Paved_Drive, y=Sale_Price_1000s))+geom_boxplot()+theme_bw()\n",
    "\n",
    "...\n",
    "```"
   ]
  },
  {
   "cell_type": "markdown",
   "id": "3baea353-69ed-4e39-82cc-44cd9485d0fb",
   "metadata": {},
   "source": [
    "## Question 6: Vector vs. Raster Graphics (BONUS)\n",
    "\n",
    "What is one advantage of using vector graphics (e.g., PDFs) and what is one advantage of raster graphics (e.g., PNGs)?"
   ]
  },
  {
   "cell_type": "markdown",
   "id": "2e35b91b-f2ee-48b7-904e-7566539690ac",
   "metadata": {},
   "source": [
    "(5 bonus) for correctly specifying one advantage for each type (both need to be correct)."
   ]
  },
  {
   "cell_type": "markdown",
   "id": "57f946a0-edb2-4a5a-b162-c90ea797925b",
   "metadata": {},
   "source": [
    "**[Answer Here]**"
   ]
  },
  {
   "cell_type": "markdown",
   "id": "6c49a3ac-3d02-4e6f-8cf6-e38762d1747b",
   "metadata": {},
   "source": [
    "## Question 7: Jupyter Notebooks\n",
    "\n",
    "Returning back to our interest in compiling a Jupyter Notebook for our analysis project, let's review some of their functionality (and functionalities in JupyterHub). Answer the following questions with written explanations (specify the steps in one or two sentences):\n",
    "\n",
    "**(I)** How can you delete a cell that you've added to your Jupyter Notebook?\n",
    "\n",
    "**(II)** After running all of the R Code cells in your Jupyter Notebook, how can you remove the output that's displayed in the Jupyter Notebook afterwards?\n",
    "\n",
    "**(III)** You accidentally created a Markdown cell instead of a R Code cell, how do you change that cell to an R Code cell?\n",
    "\n",
    "**(IV)** How do you export the Jupyter Notebook contents to a PDF?\n",
    "\n",
    "**(V)** Why is it good practice to load package libraries at the start of our Jupyter Notebook?\n"
   ]
  },
  {
   "cell_type": "markdown",
   "id": "53a638d7-2c92-43d9-8d2f-3463c9c2b44a",
   "metadata": {},
   "source": [
    "(15 points) - 3 points for each correct answer"
   ]
  },
  {
   "cell_type": "markdown",
   "id": "83a314c8-fc27-4f27-8bce-2d12916f4a82",
   "metadata": {},
   "source": [
    "**[Answer Here]**"
   ]
  },
  {
   "cell_type": "markdown",
   "id": "2a644c97-ca59-4058-bb08-fbdaa4db779a",
   "metadata": {},
   "source": [
    "## Question 8: RMarkdown (BONUS)\n",
    "\n",
    "An alternative dynamic document that you can use when working with R code is RMarkdown (.Rmd), which is a very popular document type used in RStudio (the free R graphical user interface). It also allows you to mix R code and Markdown to create reports in various formats (HTML, PDF, etc.), just like Jupyter Notebook. You can also read and edit the .Rmd in something as simple as Notepad (you can't run the code though). RStudio itself is also very convenient given the different panels for your coding environment, plotting area, console, scripts, etc. .\n",
    "\n",
    "Imagine that we have a client that we're performing an analysis for. They've requested the original source code  of the report (i.e., the .ipynb or .Rmd) that we will eventually build, so they can use it or refer to it in the future. Assume you have experience with Jupyter Notebook AND RMarkdown. Which dynamic document type (Jupyter Notebook or RMarkdown) would you recommend based on what you know? Does it matter? Explain why."
   ]
  },
  {
   "cell_type": "markdown",
   "id": "73530b49-788a-411d-8719-4752f3a18590",
   "metadata": {},
   "source": [
    "(5 bonus) for justifying the choice"
   ]
  },
  {
   "cell_type": "markdown",
   "id": "0dfa44c4-fd32-46bd-9378-b5bdbc762a38",
   "metadata": {},
   "source": [
    "**[Answer Here]**"
   ]
  },
  {
   "cell_type": "markdown",
   "id": "58fbdd02-483c-481d-b545-115cd72859dd",
   "metadata": {},
   "source": [
    "## Question 9: For Loops and If+Else Conditionals\n",
    "\n",
    "For our report, we've decided to generate a number of pairwise summaries and plots between our outcome of interest (Sale Price) and the other variables listed previously (which are our variables of interest). Complete the following code to generate appropriate plots between Sale Price (`Sale_Price`) and the other 5 variables of interest (listed as `Vars_Interest` below). You must use a `for` loop AND/OR `if` conditional(s) in your answer.\n"
   ]
  },
  {
   "cell_type": "markdown",
   "id": "cf121f03-b220-436a-957c-19989921cd49",
   "metadata": {},
   "source": [
    "**Hint 1:** Remember that you need to generate a different plot type depending on the variable of interest (e.g., if the pair is a pair of continous variables, then you want to make a scatter plot)."
   ]
  },
  {
   "cell_type": "markdown",
   "id": "ff8fb2fb-68c4-4116-a0e0-059a3f7f6824",
   "metadata": {},
   "source": [
    "**Hint 2:** You might find `aes_string` or `parse` helpful when creating your plots."
   ]
  },
  {
   "cell_type": "markdown",
   "id": "679a046e-7f7e-478c-9ac9-36ec56b01f27",
   "metadata": {},
   "source": [
    "(10 points) - 10 points for correctly outputting each pairwise plot using at least one of a `for` loop or an `if` conditional.\n",
    "\n",
    "(10 bonus) - 5 bonus points if you used **both** a `for` loop and `if` conditional(s) in your answer, 5 bonus points if you use `print` and `paste` to print the current pair of the iteration within the `for` loop (e.g., `Sale_Price vs. X` where X is a variable being examined in the current iteration)."
   ]
  },
  {
   "cell_type": "code",
   "execution_count": null,
   "id": "18cab6d3-e931-4b0d-922b-a1ad908034ce",
   "metadata": {},
   "outputs": [],
   "source": [
    "## Write Solution Code Here:\n",
    "\n",
    "library(tidyverse)\n",
    "\n",
    "ds_ames = read_csv(\"data/ames.csv\")\n",
    "ds_ames = as.data.frame(ds_ames)\n",
    "\n",
    "Vars_Interest = c(\"Land_Slope\", \"Lot_Area\", \"Overall_Cond\", \"First_Flr_SF\", \"Bldg_Type\")\n",
    "\n"
   ]
  },
  {
   "cell_type": "markdown",
   "id": "e03a6e6e-3a99-48ea-a53f-3693992763ca",
   "metadata": {},
   "source": [
    "## Upload your work from Assignment 2\n",
    "\n",
    "- Each student will upload the Jupiter Notebook on Canvas Course 2: https://canvas.ubc.ca/courses/155856\n",
    "\n",
    " `Assignment_2C2_[team #]_[student name].ipynb`\n",
    "\n",
    "EXAMPLE: `Assignment_2C2_Team1_Nikolas_Krstic.ipynb`\n",
    "\n",
    "- Please write at the title who was responsible for writing each paragraph. \n",
    "\n",
    "Upload the word document on Canvas Course 2 under:\n",
    "`Assignments -> Assignment 2` \n"
   ]
  }
 ],
 "metadata": {
  "kernelspec": {
   "display_name": "R",
   "language": "R",
   "name": "ir"
  },
  "language_info": {
   "codemirror_mode": "r",
   "file_extension": ".r",
   "mimetype": "text/x-r-source",
   "name": "R",
   "pygments_lexer": "r",
   "version": "4.3.3"
  }
 },
 "nbformat": 4,
 "nbformat_minor": 5
}
