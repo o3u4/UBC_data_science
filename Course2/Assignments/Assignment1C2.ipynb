{
 "cells": [
  {
   "cell_type": "markdown",
   "id": "90903a5d-d5b7-4d95-bf50-ee403cc7c78f",
   "metadata": {},
   "source": [
    "# **Assignment 1**\n",
    "**Data Science Tools and Advanced Modelling Techniques**"
   ]
  },
  {
   "cell_type": "markdown",
   "id": "6b008606-054a-4529-a38f-f66180ab6892",
   "metadata": {},
   "source": [
    "## Student Information\n",
    "\n",
    "**Your name (as appears on Canvas):**\n",
    "\n",
    "**Your student ID:**"
   ]
  },
  {
   "cell_type": "markdown",
   "id": "1d182bae-a686-4afa-b0f9-bb3394e595dd",
   "metadata": {},
   "source": [
    "## Marks\n",
    "\n",
    "**Total Marks earned:** \n",
    "\n",
    "**Score for Full Marks:**  70\n",
    "\n",
    "**Bonus marks:** 20\n"
   ]
  },
  {
   "cell_type": "markdown",
   "id": "507d3305-66a6-48a5-8900-297d6afa1c29",
   "metadata": {
    "tags": []
   },
   "source": [
    "## Assignment Outline\n",
    "\n",
    "Throughout this course's assignment series, you will get the training needed to complete the final report. With each new assignment in this course, you will master the technical skills to implement analyses (Assignment 1), train reproducible research practices (Assignment 2), and learn key concepts regarding prediction modelling (Assignment 3).\n",
    "\n",
    "In Assignment 1, you will practice using R to manage, clean, and visualize data:\n",
    "\n",
    "- Basic commands in R, using base R package\n",
    "  \n",
    "- Data manipulation and pre-processing using `dplyr`  (tidyverse is a wrapper package for the `ggplot` and `dplyr`)\n",
    "\n",
    "- Data vizualization using `ggplot` (`tidyverse` is a wrapper package for the `ggplot` and `dplyr`)\n"
   ]
  },
  {
   "cell_type": "markdown",
   "id": "74bc4895-cd5f-4cf5-a128-283129e88253",
   "metadata": {},
   "source": [
    "## Introduction\n",
    "\n",
    "In this assignment, we will work with the Ames City Iowa housing data set. You can get familiarized with the data set here https://jse.amstat.org/v19n3/decock/DataDocumentation.txt. We will focus on exploring a single research question, so that you can get focused practice of statistical reasoning and writing. \n",
    "\n",
    "The assignment workbook will provide you with R code snippets and written hints to guide you towards completion of this assignment. Please do not be shy to show your work, discuss or ask any questions. Your Instructor and TAs are here for you! \n",
    "\n",
    "**Research Question:** How does Land Slope affect the Sale Price of the properties?"
   ]
  },
  {
   "cell_type": "code",
   "execution_count": null,
   "id": "a16b3af8-9f63-4a07-8e10-7cd7a02a3dee",
   "metadata": {
    "tags": []
   },
   "outputs": [],
   "source": [
    "# run this code to load and explore the data set \n",
    "library(tidyverse)\n",
    "library(DT)\n",
    "ds_ames = read_csv(\"data/ames.csv\")\n",
    "datatable(ds_ames)"
   ]
  },
  {
   "cell_type": "markdown",
   "id": "70984fb2-e202-4c99-89a5-e79c1a6b8b12",
   "metadata": {},
   "source": [
    "## Question 1: Examining the Dataset (with R Basics)\n",
    "\n",
    "Let's first have an initial look at the dataset. Write some code that will:\n",
    "\n",
    "- Output the dimensions of the dataset\n",
    "- Output the final 20 rows of the dataset\n",
    "- Output the class of the `Land_Slope` and `Sale_Price` variables\n",
    "- Assign to a new object `Sale_Price_1000s` (not a new variable) the values of `Sale_Price` divided by 1000\n",
    "\n",
    "(8 points) - 2 points for each item correctly coded\n",
    "\n",
    "(5 bonus) for code that **concisely** outputs the number of missing (i.e. NA) values in the dataset, if any. (**Small Hint:** `is.character` checks if a vector is of the character class, perhaps there is a similar kind of function for missing values?)"
   ]
  },
  {
   "cell_type": "code",
   "execution_count": null,
   "id": "01ebc213-5a47-4710-bb64-7d3509f39e20",
   "metadata": {
    "tags": []
   },
   "outputs": [],
   "source": [
    "# Write code here\n"
   ]
  },
  {
   "cell_type": "markdown",
   "id": "40fae3c9-fa99-497e-ad1d-3cd8413b160b",
   "metadata": {},
   "source": [
    "## Question 2: Univariate Descriptive Statistics\n",
    "\n",
    "We will now focus on creating descriptive statistics for each of the variables in the research question: \"How does `Land_Slope` affect `Sale_Price` of the properties?\".\n",
    "\n",
    "Create univariate summaries for each of the variables: `Land_Slope` and `Sale_Price`.\n",
    "\n",
    "**Hint 1:** First determine the data types for each variable: `Land_Slope` and `Sale_Price`. Then create appropriate summaries with respect to the data types. For continuous variables, we'd like to compute the 25th percentile, 75th percentile, mean, standard deviation, median, minimum and maximum. For categorical variables, we'd like to compute the count distribution for their different levels.\n",
    "\n",
    "**Hint 2:** Can you output a certain group of summaries with a single command?\n",
    "\n",
    "(14 points) - 7 points for appropriate summary table for `Land_Slope`,  7 points for appropriate summary table for `Sale_Price`.\n",
    "\n",
    "(Bonus 5 points) for correctly computing **percentages** (not proportions) for each level of the categorical variable.\n"
   ]
  },
  {
   "cell_type": "code",
   "execution_count": null,
   "id": "83bd24fa-0886-4c27-a377-0639cec7b254",
   "metadata": {},
   "outputs": [],
   "source": [
    "# Write solution code in this cell summary for the `Sale_Price`\n",
    "\n",
    "#use this data set: ds_ames"
   ]
  },
  {
   "cell_type": "code",
   "execution_count": null,
   "id": "9e6f5f8e-36a2-46e7-b5b8-56f5be889b3c",
   "metadata": {},
   "outputs": [],
   "source": [
    "# Write solution code in this cell summary for the `Land_Slope`\n",
    "\n",
    "#use this data set: ds_ames"
   ]
  },
  {
   "cell_type": "code",
   "execution_count": null,
   "id": "359a0f42-912b-48e6-b7ca-95cfd839012a",
   "metadata": {},
   "outputs": [],
   "source": [
    "# Bonus marks: write solution code in this cell to show percentages.\n",
    "# Identify which variable this will be appropriate for first.\n",
    "\n",
    "#use this data set: ds_ames"
   ]
  },
  {
   "cell_type": "markdown",
   "id": "6a16de02-a26b-4511-b9e6-6876d964318c",
   "metadata": {},
   "source": [
    "## Question 3: Bivariate Descriptive Statistics (with Data Manipulation)\n",
    "\n",
    "Let's now create some bivariate descriptive statistics to help answer the research question: \"How does `Land_Slope` affect `Sale_Price` of the properties?\". First, identify which variable here is the response and which is the explanatory variable. Second, produce a bivariate summary table that will answer the research question. Bivariate summary tables typically show summaries of the response variable by different values of the explanatory variable. Use the same type of summaries as you used in Question 1.\n",
    "\n",
    "**Hint:** Which bivariate summary table will answer the research question: summaries of `Land_Slope` by `Sales_Price` values, or summaries of `Sales_Price` by `Land_Slope` values?\n",
    "\n",
    "(15 points) 5 points for correctly identifying the response and the explanatory variable, 10 points for correct code to derive the appropriate bivariate summaries.            \n"
   ]
  },
  {
   "cell_type": "code",
   "execution_count": null,
   "id": "4021871d-4c9f-4b90-a9ae-695aac39c582",
   "metadata": {},
   "outputs": [],
   "source": [
    "# Write code here\n"
   ]
  },
  {
   "cell_type": "markdown",
   "id": "8a7c6cca-6070-42f5-a569-6254f4de3c1d",
   "metadata": {},
   "source": [
    "## Question 4: Data Manipulation\n",
    "\n",
    "We're going to write some code to create a new variable named `Land_Slope_Descr` which replaces the category names of `Land_Slope` with more descriptive names. Specifically, we want to use the current catgories in  `Land_Slope`: `Gtl`, `Mod` and `Sev` to create the new variable, `Land_Slope_Descr`, which has categories: `Gentle Slope`, `Moderate Slope`, and `Severe Slope`. The final result should also be a dataset containing only `Land_Slope_Descr` and `Sale_Price`.\n",
    "\n",
    "**Hint:** Use tidyverse commands `%>%`, `mutate`, `case_when`, `select`\n",
    "\n",
    "(10 points) for correct code"
   ]
  },
  {
   "cell_type": "code",
   "execution_count": null,
   "id": "f5a96804-25b4-4f2f-94f0-979d404ce967",
   "metadata": {},
   "outputs": [],
   "source": [
    "#Write code here\n"
   ]
  },
  {
   "cell_type": "markdown",
   "id": "be503806-588b-4f43-acf5-a2e29bf8296a",
   "metadata": {},
   "source": [
    "## Question 5: Data Visualization\n",
    "\n",
    "Next, let's create the most appropriate plot to answer the research question: \"How does `Land_Slope` affect `Sale_Price` of the properties?\". The first thing you'll need to do is to identify the plot that should be used to answer this question, and then you'll need to create the code to produce the plot (using ggplot). Your plot must include a title, x-axis label and y-axis label. The axes labels should also be replaced with more presentable labels than `Land_Slope` and `Sale_Price` (even if it's as simple as removing the underscores).\n",
    "\n",
    "**Hint:** Choose which of these plots is most appropriate the answer the research question: \n",
    "\n",
    "- Scatterplot is useful to show a relationship between two continuous variables\n",
    "- Side-by-side boxplot is useful to show a relationship between categorical and a continuous variable\n",
    "- Barchart is useful to show a relationship between two categorical variables.  \n",
    "\n",
    "\n",
    "(15 points) 5 points for correctly identifying the appropriate plot, 10 points for correct code to create a plot using ggplot.      \n",
    "\n",
    "(Bonus 5 points) for using `Land_Slope_Descr` that was derived in Question 3. "
   ]
  },
  {
   "cell_type": "code",
   "execution_count": null,
   "id": "ce17355c-7cef-4e2a-b0d1-db9822368a7d",
   "metadata": {},
   "outputs": [],
   "source": [
    "# Write code here\n"
   ]
  },
  {
   "cell_type": "markdown",
   "id": "22867a10-128e-42ff-966a-358235a17224",
   "metadata": {
    "tags": []
   },
   "source": [
    "## Question 6: Data Visualization (Secondary Question)\n",
    "\n",
    "Let's say that for one of our secondary questions of interest, we want to see how `Land_Slope` affects `Sale_Price` for different values of `Bldg_Type`. Generate a facetted plot of the plot you created above, where each facet corresponds to one of the levels of `Bldg_Type`. The facets should be presented in 3 rows and 2 columns format (there will be a missing space since there are only 5 building types). You can reuse the same code from Question 5 and edit it (though you will need to use the dataset `ds_ames` instead if you completed the bonus).\n",
    "\n",
    "(8 points) for correct code.\n",
    "\n",
    "(Bonus 5 points) for creating a completely separate faceted plot with `Bldg_Type` as the columns and `Garage_Finish` as the rows."
   ]
  },
  {
   "cell_type": "code",
   "execution_count": null,
   "id": "02add9aa-84ef-4f6b-bbe8-2c0b388e5e70",
   "metadata": {},
   "outputs": [],
   "source": [
    "# Write code here\n"
   ]
  },
  {
   "cell_type": "code",
   "execution_count": null,
   "id": "2c2f2553-f480-472b-b5c0-b9fa9a1ff2df",
   "metadata": {},
   "outputs": [],
   "source": [
    "# Bonus marks: write solution code in this cell to create a second facet plot.\n"
   ]
  },
  {
   "cell_type": "markdown",
   "id": "22c541c8-91a0-4b30-9f05-2f1bf07f1129",
   "metadata": {},
   "source": [
    "## Upload your work from Assignment 1\n",
    "\n",
    "- Each student will upload the Jupiter Notebook on Canvas Course 2: https://canvas.ubc.ca/courses/155856\n",
    "\n",
    " `Assignment_1C2_[team #]_[student name].ipynb`\n",
    "\n",
    "EXAMPLE: `Assignment_1C2_Team1_Nikolas_Krstic.ipynb`\n",
    "\n",
    "- Please write at the title who was responsible for writing each paragraph. \n",
    "\n",
    "Upload the word document on Canvas Course 2 under:\n",
    "`Assignments -> Assignment 1` \n"
   ]
  }
 ],
 "metadata": {
  "kernelspec": {
   "display_name": "R",
   "language": "R",
   "name": "ir"
  },
  "language_info": {
   "codemirror_mode": "r",
   "file_extension": ".r",
   "mimetype": "text/x-r-source",
   "name": "R",
   "pygments_lexer": "r",
   "version": "4.3.3"
  }
 },
 "nbformat": 4,
 "nbformat_minor": 5
}
