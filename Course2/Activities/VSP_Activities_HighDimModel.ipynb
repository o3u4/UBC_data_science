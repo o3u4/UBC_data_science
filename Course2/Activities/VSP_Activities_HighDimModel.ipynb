{
 "cells": [
  {
   "cell_type": "markdown",
   "metadata": {},
   "source": [
    "<h1 style=\"text-align: center;\">High Dimensional Modelling Activities</h1>\n",
    "\n",
    "<p style=\"text-align: center;\">July, 2024</p>"
   ]
  },
  {
   "cell_type": "markdown",
   "metadata": {},
   "source": [
    "## High Dimensional Modelling Activity 1 - Principal Component Analysis\n",
    "\n",
    "Perform PCA on the `Sonar` dataset:"
   ]
  },
  {
   "cell_type": "markdown",
   "metadata": {},
   "source": [
    "1. Load the `mlbench` and `factoextra` packages and load the `Sonar` dataset."
   ]
  },
  {
   "cell_type": "code",
   "execution_count": null,
   "metadata": {},
   "outputs": [],
   "source": []
  },
  {
   "cell_type": "markdown",
   "metadata": {},
   "source": [
    "2. Select only the numerical sonar measurement variables (i.e. remove the classification variable, `Class`)."
   ]
  },
  {
   "cell_type": "markdown",
   "metadata": {},
   "source": [
    "3. Use the `princomp` R function to perform PCA."
   ]
  },
  {
   "cell_type": "markdown",
   "metadata": {},
   "source": [
    "4. Plot the scree plot and a biplot of the first two PCs.\n",
    "    * Hint: See the `fviz_eig` and `fviz_pca_biplot` functions"
   ]
  },
  {
   "cell_type": "markdown",
   "metadata": {},
   "source": [
    "5. **BONUS:** Conduct a logistic regression (`glm` R function) using the original classification variable as the outcome and the first two PCs as variables.\n",
    "\n",
    "**NOTE:** The variables need to be standardized before Step 3. There are two ways to do this (hints):\n",
    "\n",
    "1. Check `scale` function in R\n",
    "\n",
    "2. Look into the arguments of `princomp`"
   ]
  },
  {
   "cell_type": "markdown",
   "metadata": {},
   "source": [
    "## High Dimensional Modelling Activity 2 - Feature Selection\n",
    "\n",
    "Perform linear regression modeling on the `Ozone` dataset:"
   ]
  },
  {
   "cell_type": "markdown",
   "metadata": {},
   "source": [
    "1. Load the `Ozone` dataset from the `mlbench` R package."
   ]
  },
  {
   "cell_type": "code",
   "execution_count": null,
   "metadata": {},
   "outputs": [],
   "source": []
  },
  {
   "cell_type": "markdown",
   "metadata": {},
   "source": [
    "2. Remove the first three variables, the outcome that you will regress on is the fourth (`V4` = Daily maximum one-hour-average ozone reading)."
   ]
  },
  {
   "cell_type": "markdown",
   "metadata": {},
   "source": [
    "3. Remove all of the observations with missing values using `na.omit`."
   ]
  },
  {
   "cell_type": "markdown",
   "metadata": {},
   "source": [
    "4. Build the linear regression model using `lm` once but including no predictors (use formula `V4~1`)."
   ]
  },
  {
   "cell_type": "markdown",
   "metadata": {},
   "source": [
    "5. Use the `step` function to perform stepwise selection\n",
    "  * NOTE: You must specify the `scope` argument, you may use: `formula(lm(V4~., data=Ozone_Clean))`"
   ]
  },
  {
   "cell_type": "markdown",
   "metadata": {},
   "source": [
    "6. What were the predictors that were selected? What was the final AIC value?"
   ]
  },
  {
   "cell_type": "markdown",
   "metadata": {},
   "source": [
    "## High Dimensional Modelling Activity 3 - Regularized Regression (BONUS/CHALLENGE)\n",
    "\n",
    "Perform regularized regression modelling on the Ozone dataset:"
   ]
  },
  {
   "cell_type": "markdown",
   "metadata": {},
   "source": [
    "1. Repeat the previous cleaning steps for the data like in Activity 2 (load `Ozone` dataset, filter out first three variables, remove missing data, regression will be on `V4` outcome). This time, scale the predictors and outcome as well using the `scale` function"
   ]
  },
  {
   "cell_type": "code",
   "execution_count": null,
   "metadata": {},
   "outputs": [],
   "source": []
  },
  {
   "cell_type": "markdown",
   "metadata": {},
   "source": [
    "2. Load the `glmnet` R package"
   ]
  },
  {
   "cell_type": "markdown",
   "metadata": {},
   "source": [
    "3. Run a Ridge Regression and a LASSO using `glmnet` function (hint: use `alpha=0` or `alpha=1` to specify the former or the latter)."
   ]
  },
  {
   "cell_type": "markdown",
   "metadata": {},
   "source": [
    "4. Plot the regularization paths of both models using `plot` on the model objects (specify `xvar=\"lambda\"`)."
   ]
  },
  {
   "cell_type": "markdown",
   "metadata": {},
   "source": [
    "5. Run a Ridge Regression and a LASSO again using `cv.glmnet`, so that cross-validation selects the optimal lambda values."
   ]
  },
  {
   "cell_type": "markdown",
   "metadata": {},
   "source": [
    "6. Extract the coefficients for the lambda with minimum CV error by using `coef` function (hint: use the `s` argument in the function specify the lambda to use)."
   ]
  },
  {
   "cell_type": "markdown",
   "metadata": {},
   "source": [
    "7. Plot the results of the cross-validation using `plot` on the `cv.glmnet` objects.\n"
   ]
  },
  {
   "cell_type": "markdown",
   "metadata": {},
   "source": [
    "# High Dimensional Modelling Activity Solutions"
   ]
  },
  {
   "cell_type": "markdown",
   "metadata": {},
   "source": [
    "## High Dimensional Modelling Activity 1 Solution"
   ]
  },
  {
   "cell_type": "markdown",
   "metadata": {},
   "source": [
    "<details>\n",
    "  <summary>Click here for Solution Part 1</summary>\n",
    "  \n",
    "  `data(Sonar)`\n",
    "\n",
    "  `PCA_Sonar = princomp(Sonar[, 1:60], cor = TRUE)`\n",
    "\n",
    "  `fviz_eig(PCA_Sonar)`\n",
    "\n",
    "  `fviz_pca_biplot(PCA_Sonar, label = \"var\", repel = TRUE, col.var = \"red\")`\n",
    "\n",
    "  `Sonar_Scores = PCA_Sonar$scores[, 1:2]`\n",
    "  \n",
    "  `Sonar_PCA_Data = data.frame(Sonar_Scores, Sonar[, \"Class\"])`\n",
    "  \n",
    "  `names(Sonar_PCA_Data)[3] = \"Class\"`\n",
    "\n",
    "  `GLM_Sonar = glm(Class ~ Comp.1 + Comp.2, family = binomial, data = Sonar_PCA_Data)`\n",
    "  \n",
    "  `summary(GLM_Sonar)`\n",
    "</details>\n",
    "\n"
   ]
  },
  {
   "cell_type": "markdown",
   "metadata": {},
   "source": [
    "## High Dimensional Modelling Activity 2 Solution\n",
    "\n"
   ]
  },
  {
   "cell_type": "markdown",
   "metadata": {},
   "source": [
    "<details>\n",
    "  <summary>Click here for Solution Part 2</summary>\n",
    "  \n",
    "  `data(Ozone)`\n",
    "\n",
    "  `Ozone_Clean = na.omit(Ozone[, 4:13])`\n",
    "\n",
    "  `LM1 = lm(V4 ~ 1, data = Ozone_Clean)`\n",
    "\n",
    "  `step(LM1, scope = formula(lm(V4 ~ ., data = Ozone_Clean)))`\n",
    "</details>\n",
    "\n"
   ]
  },
  {
   "cell_type": "markdown",
   "metadata": {},
   "source": [
    "## High Dimensional Modelling Activity 3 Solution\n",
    "\n"
   ]
  },
  {
   "cell_type": "markdown",
   "metadata": {},
   "source": [
    "<details>\n",
    "  <summary>Click here for Solution Part 3</summary>\n",
    "  \n",
    "  `data(Ozone)`\n",
    "\n",
    "  `Ozone_Clean = as.data.frame(na.omit(scale(Ozone[, 4:13])))`\n",
    "\n",
    "  `Ozone_Ridge = glmnet(Ozone_Clean[, 2:10], Ozone_Clean$V4, alpha = 0)`\n",
    "  \n",
    "  `Ozone_LASSO = glmnet(Ozone_Clean[, 2:10], Ozone_Clean$V4, alpha = 1)`\n",
    "\n",
    "  `plot(Ozone_Ridge, xvar = \"lambda\")`\n",
    "  \n",
    "  `plot(Ozone_LASSO, xvar = \"lambda\")`\n",
    "\n",
    "  `Ozone_Ridge_CV = cv.glmnet(as.matrix(Ozone_Clean[, 2:10]), Ozone_Clean$V4, alpha = 0)`\n",
    "  \n",
    "  `Ozone_LASSO_CV = cv.glmnet(as.matrix(Ozone_Clean[, 2:10]), Ozone_Clean$V4, alpha = 1)`\n",
    "\n",
    "  `coef(Ozone_Ridge_CV, s = Ozone_Ridge_CV$lambda.min)`\n",
    "  \n",
    "  `coef(Ozone_LASSO_CV, s = Ozone_LASSO_CV$lambda.min)`\n",
    "\n",
    "  `plot(Ozone_Ridge_CV)`\n",
    "  \n",
    "  `plot(Ozone_LASSO_CV)`\n",
    "</details>\n"
   ]
  },
  {
   "cell_type": "markdown",
   "metadata": {},
   "source": [
    "\n",
    "\n"
   ]
  }
 ],
 "metadata": {
  "anaconda-cloud": "",
  "kernelspec": {
   "display_name": "R",
   "language": "R",
   "name": "ir"
  },
  "language_info": {
   "codemirror_mode": "r",
   "file_extension": ".r",
   "mimetype": "text/x-r-source",
   "name": "R",
   "pygments_lexer": "r",
   "version": "4.3.3"
  }
 },
 "nbformat": 4,
 "nbformat_minor": 4
}
