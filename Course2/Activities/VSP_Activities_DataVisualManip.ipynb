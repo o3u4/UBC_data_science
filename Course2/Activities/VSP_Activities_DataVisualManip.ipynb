{
 "cells": [
  {
   "cell_type": "markdown",
   "metadata": {
    "tags": []
   },
   "source": [
    "<h1 style=\"text-align: center;\">Data Visualization and Data Manipulation Activities</h1>\n",
    "\n",
    "<p style=\"text-align: center;\">July, 2024</p>\n"
   ]
  },
  {
   "cell_type": "markdown",
   "metadata": {
    "tags": []
   },
   "source": [
    "## Data Visualization Activities\n",
    "\n",
    "In this activity, we'll be using the datasets `mpg`, `gapminder`, and `diamonds` to construct some visualizations. Run the code below to load the ggplot2 and gapminder R packages, as well as these datasets.\n"
   ]
  },
  {
   "cell_type": "code",
   "execution_count": 1,
   "metadata": {
    "tags": [],
    "vscode": {
     "languageId": "r"
    }
   },
   "outputs": [],
   "source": [
    "### Run this cell before continuing.\n",
    "\n",
    "library(ggplot2)\n",
    "library(gapminder)\n",
    "data(mpg)\n",
    "data(gapminder)\n",
    "data(diamonds)"
   ]
  },
  {
   "cell_type": "markdown",
   "metadata": {},
   "source": [
    "### Activity 1\n",
    "\n",
    "1. Generate a scatterplot to answer the following question:\n",
    "\n",
    "    * `mpg`: How is city driving fuel consumption rate related to engine size and drive train?    \n"
   ]
  },
  {
   "cell_type": "markdown",
   "metadata": {},
   "source": [
    "\n",
    "2. Generate a boxplot to answer the following question:\n",
    "\n",
    "    * `mpg`: How is the drive train related to engine size and vehicle class?\n",
    "\n"
   ]
  },
  {
   "cell_type": "markdown",
   "metadata": {},
   "source": [
    "3. Generate faceted histograms to answer the following questions:\n",
    "\n",
    "    * `diamonds`: How does the price distribution vary by cut?\n",
    "    \n",
    "    * `mpg`: How does the distribution of engine size vary by vehicle class?\n",
    "    \n"
   ]
  },
  {
   "cell_type": "markdown",
   "metadata": {},
   "source": [
    "4. Complete the following code to plot different smoothers (experiment with different values for the arguments `method` and `span` in the `geom_smooth` function)"
   ]
  },
  {
   "cell_type": "code",
   "execution_count": null,
   "metadata": {
    "vscode": {
     "languageId": "r"
    }
   },
   "outputs": [],
   "source": [
    "ggplot(mpg, aes(displ, hwy)) +\n",
    "  geom_point() +\n",
    "  geom_smooth(method=..., span=...)\n"
   ]
  },
  {
   "cell_type": "markdown",
   "metadata": {},
   "source": [
    "5. Generate `geom_smooth` **line** with scatterplots to answer the following questions. Use `se=FALSE` for this exercise:\n",
    "\n",
    "    * `gapminder`: What is the life expectancy of each country over time? (Colour AND facet countries by the continent)\n",
    "    \n",
    "    * `diamonds`: What are the relationships between the price of a diamond and its carat for each colour of diamond?\n"
   ]
  },
  {
   "cell_type": "markdown",
   "metadata": {},
   "source": [
    "## Data Manipulation Activities\n",
    "\n",
    "We'll be loading the `OJ` (Orange Juice) dataset from the ISLR R package. This dataset contains customer purchase data at five different stores for two brands of orange juice, Citrus Hill (CH) and Minute Maid (MM). Each observation corresponds to the purchase of one of these brands, but price data is provided for both brands at the time of purchase. See the help documentation of `OJ` for more information on what each variable represents.\n"
   ]
  },
  {
   "cell_type": "code",
   "execution_count": 6,
   "metadata": {
    "tags": [],
    "vscode": {
     "languageId": "r"
    }
   },
   "outputs": [],
   "source": [
    "### Run this cell before continuing.\n",
    "\n",
    "library(dplyr)\n",
    "library(ISLR)\n",
    "data(OJ)"
   ]
  },
  {
   "cell_type": "markdown",
   "metadata": {},
   "source": [
    "## Data Manipulation Activity 1\n",
    "\n",
    "Use the `dplyr` R package to complete the following activity items:"
   ]
  },
  {
   "cell_type": "markdown",
   "metadata": {},
   "source": [
    "1. Create two datasets, one that **ONLY** contains variables for CH OJ and another one that **ONLY** contains variables for MM OJ. This can be done by selecting variables based on the ends of their names. Additionally, make sure the `Purchase` and `STORE` variables are also selected for both datasets."
   ]
  },
  {
   "cell_type": "markdown",
   "metadata": {},
   "source": [
    "2. Filter each dataset such that only their corresponding purchases are present in each dataset. For example, for our CH OJ dataset, make sure that the only observations in the dataset are customer purchases of CH."
   ]
  },
  {
   "cell_type": "markdown",
   "metadata": {},
   "source": [
    "3. For each dataset, arrange the observations based on the **sale** price (not the price) of the purchase. Break any ties using the discount variable."
   ]
  },
  {
   "cell_type": "markdown",
   "metadata": {},
   "source": [
    "4. Generate a new variable (for each dataset) that represents the sale price as a percentage of the original price. Refer to this variable as `Sale_Perc_Orig`. \n",
    "\n",
    "HINT: Think of this as the ratio of the sale price and the original price OR the complement percentage of the discount percentage. Try creating the variable both ways."
   ]
  },
  {
   "cell_type": "markdown",
   "metadata": {},
   "source": [
    "5. For each dataset, obtain the following summaries for the newly created variables from the previous step: (1) mean, (2) median and (3) standard deviation. Try doing this again, but perform group summaries for each of the stores using the `STORE` variable."
   ]
  },
  {
   "cell_type": "markdown",
   "metadata": {},
   "source": [
    "\n",
    "## Data Manipulation Activity 2 (BONUS CHALLENGE)\n",
    "\n",
    "Use the `dplyr` R package once again to complete the following activity items:"
   ]
  },
  {
   "cell_type": "markdown",
   "metadata": {},
   "source": [
    "\n",
    "1. Using the original OJ dataset, create a boolean variable (`TRUE/FALSE`) that indicates whether or not the customer purchased MM when the sale price was lower for MM compared to CH. You can interpret this variable as \"Did the customer buy MM instead of CH when it was the cheaper choice?\". \n",
    "\n",
    "HINT: Use the `Purchase` and the `PriceDiff` variables.\n"
   ]
  },
  {
   "cell_type": "markdown",
   "metadata": {},
   "source": [
    "\n",
    "2. Make a boolean variable (TRUE/FALSE) like in the previous step, but this time do it for purchases of CH when the sale price was lower for CH compared to MM.\n",
    "\n"
   ]
  },
  {
   "cell_type": "markdown",
   "metadata": {},
   "source": [
    "3. Group by the `STORE` variable and summarize the total number of `TRUE` values for each of the above two variables across the different stores. \n",
    "\n",
    "HINT: A boolean variable is also interpreted in R as a 0/1 variable, so consider using a summation approach.\n",
    "\n"
   ]
  },
  {
   "cell_type": "markdown",
   "metadata": {},
   "source": [
    "4. Repeat the previous step, but this time compute the **proportions** of cheaper purchases for each of the two variables across the store groups (i.e. the percentage of all store-specific sales). \n",
    "\n",
    "HINT: This should only require a couple of small alterations to the code and also note that `n()` provides the number of observations within a group. For example, `OJ %>% group_by(STORE) %>% summarise(Group_Nums = n())` gives you the number of observations in each store.\n",
    "\n",
    "\n"
   ]
  },
  {
   "cell_type": "markdown",
   "metadata": {
    "tags": []
   },
   "source": [
    "\n",
    "## Solutions to Data Visualization Activity 1\n",
    "\n",
    "### Part I"
   ]
  },
  {
   "cell_type": "markdown",
   "metadata": {},
   "source": [
    "<details>\n",
    "<summary>Click here for Solution Part I</summary>\n",
    "    \n",
    "`ggplot(mpg, aes(displ, cty, col=drv)) + geom_point()`\n",
    "</details>"
   ]
  },
  {
   "cell_type": "markdown",
   "metadata": {},
   "source": [
    "### Part II\n",
    "\n"
   ]
  },
  {
   "cell_type": "markdown",
   "metadata": {},
   "source": [
    "<details>\n",
    "  <summary>Click here for Solution Part II</summary>\n",
    "    \n",
    "  `ggplot(mpg, aes(drv, displ, fill=class)) + geom_boxplot()`\n",
    "</details>"
   ]
  },
  {
   "cell_type": "markdown",
   "metadata": {},
   "source": [
    "### Part III\n",
    "\n"
   ]
  },
  {
   "cell_type": "markdown",
   "metadata": {},
   "source": [
    "\n",
    "<details>\n",
    "  <summary>Click here for Solution Part III</summary>\n",
    "    \n",
    "  `ggplot(diamonds, aes(price)) + geom_histogram() + facet_wrap(~cut)`\n",
    "\n",
    "  `ggplot(mpg, aes(displ)) + geom_histogram() + facet_wrap(~class)`\n",
    "</details>"
   ]
  },
  {
   "cell_type": "markdown",
   "metadata": {},
   "source": [
    "\n"
   ]
  },
  {
   "cell_type": "markdown",
   "metadata": {},
   "source": [
    "### Part IV"
   ]
  },
  {
   "cell_type": "markdown",
   "metadata": {},
   "source": [
    "\n",
    "<details>\n",
    "  <summary>Click here for Solution Part IV</summary>\n",
    "    \n",
    "   You can try various methods including \"lm\", \"loess\", \"gam\", etc. . Span takes values between 0 and 1, as mentioned in the lecture.\n",
    "    \n",
    "  `ggplot(mpg, aes(displ, hwy)) + geom_point() + geom_smooth(method=\"loess\", span=0.5)`\n",
    "\n",
    "</details>\n",
    "\n",
    "\n",
    "\n"
   ]
  },
  {
   "cell_type": "markdown",
   "metadata": {},
   "source": [
    "### Part V\n",
    "\n"
   ]
  },
  {
   "cell_type": "markdown",
   "metadata": {},
   "source": [
    "\n",
    "<details>\n",
    "  <summary>Click here for Solution Part V</summary>\n",
    "    \n",
    "  `ggplot(gapminder, aes(year, lifeExp, group=country, colour=continent)) + geom_point() + geom_smooth(method=\"lm\", se=FALSE) + facet_wrap(~continent)`\n",
    "    \n",
    "  `ggplot(diamonds, aes(carat, price, colour=color)) + geom_point() + geom_smooth(method=\"lm\", se=FALSE)`\n",
    "\n",
    "</details>\n",
    "\n",
    "\n"
   ]
  },
  {
   "cell_type": "markdown",
   "metadata": {},
   "source": [
    "\n"
   ]
  },
  {
   "cell_type": "markdown",
   "metadata": {},
   "source": [
    "## Solutions to Data Manipulation Activity 1\n",
    "\n",
    "### Part I\n"
   ]
  },
  {
   "cell_type": "markdown",
   "metadata": {},
   "source": [
    "<details>\n",
    "  <summary>Click here for Solution Part I</summary>\n",
    "    \n",
    "  `CH_OJ = select(OJ, Purchase, ends_with(\"CH\"), STORE)`\n",
    "\n",
    "  `MM_OJ = select(OJ, Purchase, ends_with(\"MM\"), STORE)`\n",
    "</details>"
   ]
  },
  {
   "cell_type": "markdown",
   "metadata": {},
   "source": [
    "### Part II\n",
    "\n"
   ]
  },
  {
   "cell_type": "markdown",
   "metadata": {},
   "source": [
    "\n",
    "\n",
    "<details>\n",
    "  <summary>Click here for Solution Part II</summary>\n",
    "    \n",
    "  `CH_OJ = filter(CH_OJ, Purchase==\"CH\")`\n",
    "\n",
    "  `MM_OJ = filter(MM_OJ, Purchase==\"MM\")`\n",
    "</details>"
   ]
  },
  {
   "cell_type": "markdown",
   "metadata": {},
   "source": [
    "### Part III\n",
    "\n"
   ]
  },
  {
   "cell_type": "markdown",
   "metadata": {},
   "source": [
    "<details>\n",
    "  <summary>Click here for Solution Part III</summary>\n",
    "\n",
    "  `CH_OJ = arrange(CH_OJ, SalePriceCH, DiscCH)`\n",
    "\n",
    "  `MM_OJ = arrange(MM_OJ, SalePriceMM, DiscMM)`\n",
    "</details>\n"
   ]
  },
  {
   "cell_type": "markdown",
   "metadata": {},
   "source": [
    "### Part IV\n",
    "\n"
   ]
  },
  {
   "cell_type": "markdown",
   "metadata": {
    "tags": []
   },
   "source": [
    "<details>\n",
    "  <summary>Click here for Solution Part IV</summary>\n",
    "  \n",
    "  `CH_OJ = mutate(CH_OJ, Sale_Perc_Orig1 = SalePriceCH/PriceCH, Sale_Perc_Orig2 = 1-PctDiscCH)`\n",
    "\n",
    "  `MM_OJ = mutate(MM_OJ, Sale_Perc_Orig1 = SalePriceMM/PriceMM, Sale_Perc_Orig2 = 1-PctDiscMM)`\n",
    "</details>\n",
    "\n"
   ]
  },
  {
   "cell_type": "markdown",
   "metadata": {},
   "source": [
    "### Part V\n",
    "\n"
   ]
  },
  {
   "cell_type": "markdown",
   "metadata": {},
   "source": [
    "<details>\n",
    "  <summary>Click here for Solution Part V</summary>\n",
    "\n",
    "  `summarise(CH_OJ, Mean = mean(Sale_Perc_Orig1), Median = median(Sale_Perc_Orig1), SD = sd(Sale_Perc_Orig1))`\n",
    "\n",
    "  `summarise(MM_OJ, Mean = mean(Sale_Perc_Orig1), Median = median(Sale_Perc_Orig1), SD = sd(Sale_Perc_Orig1))`\n",
    "\n",
    "\n",
    "  `CH_OJ %>% group_by(STORE) %>% summarise(Mean = mean(Sale_Perc_Orig1), Median = median(Sale_Perc_Orig1), SD = sd(Sale_Perc_Orig1))`\n",
    "\n",
    "  `MM_OJ %>%group_by(STORE) %>% summarise(Mean = mean(Sale_Perc_Orig1), Median = median(Sale_Perc_Orig1), SD = sd(Sale_Perc_Orig1))`\n",
    "\n",
    "</details>\n"
   ]
  },
  {
   "cell_type": "markdown",
   "metadata": {},
   "source": [
    "## Solutions to Data Manipulation Activity 2 \n",
    "\n"
   ]
  },
  {
   "cell_type": "markdown",
   "metadata": {},
   "source": [
    "\n",
    "### Part I"
   ]
  },
  {
   "cell_type": "markdown",
   "metadata": {
    "tags": []
   },
   "source": [
    "<details>\n",
    "  <summary>Click here for Solution Part I</summary>\n",
    "  \n",
    "  `OJ_New = mutate(OJ, Cheap_MM_Purchase = Purchase==\"MM\" & PriceDiff<0)`\n",
    "</details>\n"
   ]
  },
  {
   "cell_type": "markdown",
   "metadata": {},
   "source": [
    "### Part II\n",
    "\n"
   ]
  },
  {
   "cell_type": "markdown",
   "metadata": {
    "tags": []
   },
   "source": [
    "<details>\n",
    "  <summary>Click here for Solution Part II</summary>\n",
    "  \n",
    "  `OJ_New = mutate(OJ_New, Cheap_CH_Purchase = Purchase==\"CH\" & PriceDiff>0)`\n",
    "</details>\n"
   ]
  },
  {
   "cell_type": "markdown",
   "metadata": {},
   "source": [
    "### Part III\n",
    "\n"
   ]
  },
  {
   "cell_type": "markdown",
   "metadata": {
    "tags": []
   },
   "source": [
    "<details>\n",
    "  <summary>Click here for Solution Part III</summary>\n",
    "  \n",
    "  `OJ_New %>% group_by(STORE) %>% summarise(Total_Cheap_MM_Purchases = sum(Cheap_MM_Purchase), Total_Cheap_CH_Purchases = sum(Cheap_CH_Purchase))`\n",
    "</details>\n"
   ]
  },
  {
   "cell_type": "markdown",
   "metadata": {},
   "source": [
    "### Part IV\n",
    "\n"
   ]
  },
  {
   "cell_type": "markdown",
   "metadata": {
    "tags": []
   },
   "source": [
    "<details>\n",
    "  <summary>Click here for Solution Part IV</summary>\n",
    "  \n",
    "  `OJ_New %>% group_by(STORE) %>% summarise(Perc_Cheap_MM_Purchases = sum(Cheap_MM_Purchase)/n(), Perc_Cheap_CH_Purchases = sum(Cheap_CH_Purchase)/n())`\n",
    "</details>\n"
   ]
  },
  {
   "cell_type": "markdown",
   "metadata": {},
   "source": [
    "\n"
   ]
  }
 ],
 "metadata": {
  "anaconda-cloud": "",
  "kernelspec": {
   "display_name": "R",
   "language": "R",
   "name": "ir"
  },
  "language_info": {
   "codemirror_mode": "r",
   "file_extension": ".r",
   "mimetype": "text/x-r-source",
   "name": "R",
   "pygments_lexer": "r",
   "version": "4.1.3"
  }
 },
 "nbformat": 4,
 "nbformat_minor": 4
}
