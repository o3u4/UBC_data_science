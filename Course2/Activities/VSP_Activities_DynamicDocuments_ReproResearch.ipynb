{
 "cells": [
  {
   "cell_type": "markdown",
   "metadata": {},
   "source": [
    "<h1 style=\"text-align: center;\">Dynamic Documents and Reproducible Research Activities</h1>\n",
    "\n",
    "<p style=\"text-align: center;\">July, 2024</p>"
   ]
  },
  {
   "cell_type": "markdown",
   "metadata": {},
   "source": [
    "# Dynamic Documents Activities\n",
    "\n",
    "## Activity 1 - Formatting with Markdown\n",
    "\n",
    "Let's first play with various ways of formatting text using Markdown.\n",
    "A useful reference to keep in hand is the [Markdown cheatsheet](https://github.com/adam-p/markdown-here/wiki/Markdown-Cheatsheet)."
   ]
  },
  {
   "cell_type": "markdown",
   "metadata": {},
   "source": [
    "1. Create a Jupyter notebook and save the file under some name (e.g., `my_notebook.ipynb`). "
   ]
  },
  {
   "cell_type": "markdown",
   "metadata": {},
   "source": [
    "2. Create three level-three (medium large) section headings: \n",
    "- Tables\n",
    "- Videos, Images, and Links\n",
    "- Other\n",
    "\n",
    "The second section (videos, images, and links) should have three subsections (use a slightly smaller section heading): \n",
    "- Videos \n",
    "- Images \n",
    "- Links"
   ]
  },
  {
   "cell_type": "markdown",
   "metadata": {},
   "source": [
    "3. Create a table with three columns: bird name, colour, coolness (out of 10). Fill in the table with some birds (e.g., pigeons would have a 10/10 coolness factor in case that wasn't clear)."
   ]
  },
  {
   "cell_type": "markdown",
   "metadata": {},
   "source": [
    "4. In the Videos, Images, and Links section, insert a YouTube video, an image from the internet, and a sentence containing a hyperlink in the corresponding subsections."
   ]
  },
  {
   "cell_type": "markdown",
   "metadata": {},
   "source": [
    "5. In the \"Other\" section, write some R code that produces a plot and then offer some plaintext commentary about the output. "
   ]
  },
  {
   "cell_type": "markdown",
   "metadata": {},
   "source": [
    "## Activity 2 - Converting to Different File Formats\n",
    "\n",
    "Now that we have created some basic content, let's try to export our Jupyter notebook into different file formats. We will begin with some simpler file formats and then try to create a slideshow from our Jupyter notebook. If at any time you encounter difficulties in exporting your Jupyter notebook, consider temporarily removing any R plots from your output. (R plots are sometimes displayed in the `svg` file format and `nbconvert` can have difficulties with this image format.) Alternatively, save your figure as a `png` or `jpg` and then display the figure using Markdown. E.g., use `png()`, `dev.off()`, and the Markdown syntax for inserting images."
   ]
  },
  {
   "cell_type": "markdown",
   "metadata": {},
   "source": [
    "1. Export your Jupyter notebook as an HTML webpage."
   ]
  },
  {
   "cell_type": "markdown",
   "metadata": {},
   "source": [
    "2. Export your Jupyter notebook as a PDF."
   ]
  },
  {
   "cell_type": "markdown",
   "metadata": {},
   "source": [
    "3. Export your notebook as a slideshow (\"Reveal.js slides\"). You will notice that all of your text is displayed on one slide. To fix this, go to `View > Show Right Sidebar`. After clicking on a code chunk, you will see a section in the right sidebar titled `Slide Type`. Try experimenting with different slide types and see how they change the output of your slideshow. You will need to redownload your slideshow each time you make changes."
   ]
  },
  {
   "cell_type": "markdown",
   "metadata": {},
   "source": [
    "# Reproducible Research Activities"
   ]
  },
  {
   "cell_type": "markdown",
   "metadata": {},
   "source": [
    "## Activity 1 - Code Organization and Saving Plots"
   ]
  },
  {
   "cell_type": "markdown",
   "metadata": {},
   "source": [
    "Let's assume that we're conducting an analysis on the `mpg` dataset (found in the `ggplot2` R package). We have the following code:"
   ]
  },
  {
   "cell_type": "code",
   "execution_count": null,
   "metadata": {},
   "outputs": [],
   "source": [
    "library(ggplot2)\n",
    "library(dplyr)\n",
    "data(mpg)\n",
    "mpg$cyl = as.factor(mpg$cyl)\n",
    "mpg = mpg %>% filter(class != \"2seater\")\n",
    "dim(mpg)\n",
    "summary(mpg)\n",
    "table(mpg$class)\n",
    "ggplot(data=mpg, aes(x=cty, y=hwy))+geom_point()+theme_bw()\n",
    "ggplot(data=mpg, aes(x=cyl, y=displ))+geom_boxplot()+theme_bw()"
   ]
  },
  {
   "cell_type": "markdown",
   "metadata": {},
   "source": [
    "1. Organize the above code into separate R scripts, based on logical tasks (loading and cleaning data, etc.).\n"
   ]
  },
  {
   "cell_type": "markdown",
   "metadata": {},
   "source": [
    "2. Create a \"driver\" script that calls on each of the R scripts that you made in the right order."
   ]
  },
  {
   "cell_type": "markdown",
   "metadata": {},
   "source": [
    "3. Update the data cleaning steps such that you also remove any observations belonging to the Jeep manufacturer. Document the code for all the data cleaning steps, to make it clear what is happening."
   ]
  },
  {
   "cell_type": "markdown",
   "metadata": {},
   "source": [
    "4. Update the data visualization steps such that you save the plots using the functions `pdf()` and `dev.off()` functions. Make sure the plots have width of 10 and height of 5 (these are in \"inches\", the defaults are 7)."
   ]
  },
  {
   "cell_type": "markdown",
   "metadata": {},
   "source": [
    "## Activity 2 - Advanced R Coding for Automation (BONUS CHALLENGE)"
   ]
  },
  {
   "cell_type": "markdown",
   "metadata": {},
   "source": [
    "We're going to try to create some code so that we can create a plot for each pair of the `cty` variable and one of the other variables in the `mpg` dataset (10 plots total, cty vs. hwy, cty vs. class, etc.). To do this, we'll make use of `for` loops and the `if+else` conditionals. Note that `cty` is a numerical/continuous variable. If the other variable in the pair is also continuous, we should make a scatterplot. If the other variable in the pair is categorical (a \"factor\"), we should make a boxoplot. Here is some initial code to work with:"
   ]
  },
  {
   "cell_type": "code",
   "execution_count": null,
   "metadata": {
    "scrolled": true
   },
   "outputs": [],
   "source": [
    "mpg = as.data.frame(mpg)\n",
    "Var_Names = names(mpg)\n",
    "Var_Names = Var_Names[which(Var_Names != \"cty\")]\n",
    "\n",
    "## Start with \"for\" loop here:\n",
    "\n",
    "\n"
   ]
  },
  {
   "cell_type": "markdown",
   "metadata": {},
   "source": [
    "**HINT 1:** Iterations in the `for` loop will be over the different values of `Var_Names`\n",
    "\n",
    "**HINT 2:** You'll need a way to check if the current variable in the current iteration of the `for` loop is a `character` class variable or not. Think about how you can use `is.character()` here.\n",
    "\n",
    "**HINT 3:** You'll need to use `print` to actually display the plot (ggplot2 works weirdly when it's inside of a `for` loop). Be sure to print the right plot at each iteration.\n",
    "\n",
    "**HINT 4:** You'll probably need to use `aes_string` instead of `aes`. Recall that `aes` takes the variable names as R objects, but `aes_string` will take them as a string/character like `\"cty\"` (instead of `cty`). HOWEVER, you can feed `aes_string` an object that contains a character. For example:\n",
    "\n",
    "`Curr_Var = \"hwy\"`\n",
    "\n",
    "`aes_string(x=Curr_Var, y=\"cty\")`"
   ]
  },
  {
   "cell_type": "markdown",
   "metadata": {},
   "source": [
    "# Dynamic Documents And Reproducible Research Activity Solutions"
   ]
  },
  {
   "cell_type": "markdown",
   "metadata": {
    "tags": []
   },
   "source": [
    "## Dynamic Documents Activity 1 Solution"
   ]
  },
  {
   "cell_type": "markdown",
   "metadata": {},
   "source": [
    "To view one possible Markdown solution to Activity 1, double click on the following output to see the source code."
   ]
  },
  {
   "cell_type": "markdown",
   "metadata": {},
   "source": [
    "### Tables \n",
    "| Bird name     | Colour        | Coolness  |\n",
    "| ------------- |:-------------:| -----:|\n",
    "| Parrot           | Many colours  | 9/10  |\n",
    "| Chicken          | Brown         | 3/10  |\n",
    "| Golden retriever | Golden        | Not a bird, but still cool! |\n",
    "    \n",
    "### Videos, Images, and Links\n",
    "#### Videos \n",
    "<a href=\"http://www.youtube.com/watch?feature=player_embedded&v=vGazyH6fQQ4\" target=\"_blank\"><img src=\"http://img.youtube.com/vi/vGazyH6fQQ4/0.jpg\" alt=\"IMAGE ALT TEXT HERE\" width=\"240\" height=\"180\" border=\"10\" /></a>\n",
    "\n",
    "#### Images \n",
    "<img src=\"https://upload.wikimedia.org/wikipedia/commons/e/e3/Close-up_picture_of_a_common_wood_pigeon.jpg\" alt=\"Pigeon\" width=\"200\"/>\n",
    "    \n",
    "#### Links \n",
    "[This is a hyperlink](https://www.google.com/)\n",
    "\n",
    "### Other"
   ]
  },
  {
   "cell_type": "code",
   "execution_count": 9,
   "metadata": {
    "tags": []
   },
   "outputs": [
    {
     "data": {
      "text/html": [
       "<strong>png:</strong> 2"
      ],
      "text/latex": [
       "\\textbf{png:} 2"
      ],
      "text/markdown": [
       "**png:** 2"
      ],
      "text/plain": [
       "png \n",
       "  2 "
      ]
     },
     "metadata": {},
     "output_type": "display_data"
    }
   ],
   "source": [
    "set.seed(1)\n",
    "x <- runif(100) \n",
    "y <- rnorm(100, 10*x, 1.0)\n",
    "df <- data.frame(x = x, y = y)\n",
    "library(ggplot2)\n",
    "png(\"test.png\")\n",
    "ggplot(df, aes(x = x, y = y)) + geom_point()\n",
    "dev.off()"
   ]
  },
  {
   "cell_type": "markdown",
   "metadata": {},
   "source": [
    "![image](test.png)\n",
    "\n",
    "\"This is some commentary about the preceding code.\""
   ]
  },
  {
   "cell_type": "markdown",
   "metadata": {},
   "source": [
    "## Reproducible Research Activity 1 Solution"
   ]
  },
  {
   "cell_type": "markdown",
   "metadata": {},
   "source": [
    "<details>\n",
    "<summary>Click here for Solution Part I</summary>\n",
    "\n",
    "The following is an example of one **possible** solution (you may have approached it differently).\n",
    "\n",
    "Put the following into a \"load_and_clean.R\" script (you can include all loading of packages as well but not required):\n",
    "\n",
    "`library(ggplot2)`\n",
    "\n",
    "`library(dplyr)`\n",
    "\n",
    "`data(mpg)`\n",
    "\n",
    "`mpg$cyl = as.factor(mpg$cyl)`\n",
    "\n",
    "`mpg = mpg %>% filter(class != \"2seater\")`\n",
    "\n",
    "Put the following into a \"data_summaries.R\" script:\n",
    "\n",
    "`dim(mpg)`\n",
    "\n",
    "`summary(mpg)`\n",
    "\n",
    "`table(mpg$class)`\n",
    "\n",
    "Put the following into a \"data_visualizations.R\" script:\n",
    "\n",
    "`ggplot(data=mpg, aes(x=cty, y=hwy))+geom_point()+theme_bw()`\n",
    "\n",
    "`ggplot(data=mpg, aes(x=cyl, y=displ))+geom_boxplot()+theme_bw()`\n",
    "\n",
    "</details>"
   ]
  },
  {
   "cell_type": "markdown",
   "metadata": {},
   "source": [
    "<details>\n",
    "<summary>Click here for Solution Part II</summary>\n",
    "\n",
    "The following is an example of one **possible** solution (you may have approached it differently).\n",
    "\n",
    "The driver script will contain the following (based on Part I solution above):\n",
    "\n",
    "`source(\"load_and_clean.R\")`\n",
    "\n",
    "`source(\"data_summaries.R\")`\n",
    "\n",
    "`source(\"data_visualizations.R\")`\n",
    "\n",
    "</details>"
   ]
  },
  {
   "cell_type": "markdown",
   "metadata": {},
   "source": [
    "<details>\n",
    "<summary>Click here for Solution Part III</summary>\n",
    "\n",
    "The following is an example of one **possible** solution (you may have approached it differently).\n",
    "\n",
    "To remove observations containing the \"Jeep\" manufacturer, we can use the following piece of code and add it to our \"load_and_clean.R\" script:\n",
    "\n",
    "`mpg = mpg %>% filter(manufacturer != \"jeep\")`\n",
    "\n",
    "And add the following documentation:\n",
    "\n",
    "`# Convert the number of cylinders variable into a factor`\n",
    "\n",
    "`mpg$cyl = as.factor(mpg$cyl)`\n",
    "<br>\n",
    "<br>\n",
    "\n",
    "`# Remove vehicles that are classified as \"2-Seater\"`\n",
    "\n",
    "`mpg = mpg %>% filter(class != \"2seater\")`\n",
    "<br>\n",
    "<br>\n",
    "\n",
    "`# Remove vehicles from the Jeep manufacturer`\n",
    "\n",
    "`mpg = mpg %>% filter(manufacturer != \"jeep\")`\n",
    "\n",
    "</details>"
   ]
  },
  {
   "cell_type": "markdown",
   "metadata": {},
   "source": [
    "<details>\n",
    "<summary>Click here for Solution Part IV</summary>\n",
    "\n",
    "We add the following code to the \"data_visualizations.R\" script:\n",
    "\n",
    "`pdf(\"mpg_data_plots.pdf\", width=10, height=5)`\n",
    "\n",
    "`ggplot(data=mpg, aes(x=cty, y=hwy))+geom_point()+theme_bw()`\n",
    "\n",
    "`ggplot(data=mpg, aes(x=cyl, y=displ))+geom_boxplot()+theme_bw()`\n",
    "\n",
    "`dev.off()`\n",
    "\n",
    "</details>"
   ]
  },
  {
   "cell_type": "markdown",
   "metadata": {},
   "source": [
    "## Reproducible Research Activity 2 Solution"
   ]
  },
  {
   "cell_type": "markdown",
   "metadata": {},
   "source": [
    "<details>\n",
    "<summary>Click here for Solution</summary>\n",
    "\n",
    "<pre>\n",
    "    <code>\n",
    "mpg = as.data.frame(mpg)\n",
    "\n",
    "Var_Names = names(mpg)\n",
    "\n",
    "Var_Names = Var_Names[which(Var_Names != \"cty\")]\n",
    "\n",
    "for(i in 1:(length(Var_Names))){\n",
    "\n",
    "    Curr_Var = Var_Names[i]\n",
    "\n",
    "    Factor_Check = is.character(mpg[,Curr_Var])\n",
    "\n",
    "    if(Factor_Check){\n",
    "\n",
    "        Plot = ggplot(data=mpg, aes_string(x=Curr_Var, y=\"cty\"))+\n",
    "                geom_boxplot()+\n",
    "                theme_bw()\n",
    "        \n",
    "    }else if(!Factor_Check){\n",
    "\n",
    "        Plot = ggplot(data=mpg, aes_string(x=Curr_Var, y=\"cty\"))+\n",
    "                geom_point()+\n",
    "                theme_bw()\n",
    "    \n",
    "    }\n",
    "\n",
    "    print(Plot)\n",
    "\n",
    "}\n",
    "\n",
    "    </code>\n",
    "</pre>\n",
    "\n",
    "</details>"
   ]
  }
 ],
 "metadata": {
  "anaconda-cloud": "",
  "kernelspec": {
   "display_name": "R",
   "language": "R",
   "name": "ir"
  },
  "language_info": {
   "codemirror_mode": "r",
   "file_extension": ".r",
   "mimetype": "text/x-r-source",
   "name": "R",
   "pygments_lexer": "r",
   "version": "4.3.3"
  }
 },
 "nbformat": 4,
 "nbformat_minor": 4
}
