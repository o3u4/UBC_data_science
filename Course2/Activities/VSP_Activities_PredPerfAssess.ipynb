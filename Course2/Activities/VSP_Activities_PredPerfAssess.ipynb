{
 "cells": [
  {
   "cell_type": "markdown",
   "metadata": {},
   "source": [
    "<h1 style=\"text-align: center;\">Predictive Performance Assessment Activities</h1>\n",
    "\n",
    "<p style=\"text-align: center;\">July, 2024</p>"
   ]
  },
  {
   "cell_type": "markdown",
   "metadata": {},
   "source": [
    "## Predictive Performance Assessment Activity 1 - Prediction Curve\n",
    "\n",
    "Construct the ROC and P-R curves for Subarachnoid Hemorrhage patients (predicting whether or not their clinical outcome was good or poor):"
   ]
  },
  {
   "cell_type": "markdown",
   "metadata": {},
   "source": [
    "1. Load the `pROC` R package and load the `aSAH` dataset. True labels are `outcome` and class predictions are `s100b`."
   ]
  },
  {
   "cell_type": "code",
   "execution_count": null,
   "metadata": {},
   "outputs": [],
   "source": []
  },
  {
   "cell_type": "markdown",
   "metadata": {},
   "source": [
    "2. Use the `roc` function to plot the ROC curve."
   ]
  },
  {
   "cell_type": "markdown",
   "metadata": {},
   "source": [
    "3. Use the resulting `roc` object to compute precision and recall at different cutpoints.\n",
    "    * Hint: Look at the `coords` function in `pROC`, use argument `x=\"all\"` and see the `ret` argument."
   ]
  },
  {
   "cell_type": "markdown",
   "metadata": {},
   "source": [
    "4. Plot the precision-recall curve using the base R `plot` function and the `coords` object.\n",
    "    * Hint: Look through the examples of the `coords` function documentation, we want to use the base R plot function and set the arguments `type` as well as `ylim`."
   ]
  },
  {
   "cell_type": "markdown",
   "metadata": {},
   "source": [
    "5. Repeat step 3, but set argument `x=\"best\"` instead and obtain the sensitivity, specificity, NPV and PPV instead. Try again with a different `best.method` argument."
   ]
  },
  {
   "cell_type": "code",
   "execution_count": null,
   "metadata": {},
   "outputs": [],
   "source": []
  },
  {
   "cell_type": "markdown",
   "metadata": {},
   "source": [
    "## Predictive Performance Assessment Activity 2 - Performance Assessment\n",
    "Going to assess predictive performance of a linear regression model using 10-fold cross-validation on LA Ozone pollution data."
   ]
  },
  {
   "cell_type": "markdown",
   "metadata": {},
   "source": [
    "1. Load the `mlbench` R package and load the `Ozone` dataset. Remove any observations with missing data using `na.omit` and remove the first three columns. Outcome of interest is `V4`"
   ]
  },
  {
   "cell_type": "code",
   "execution_count": null,
   "metadata": {},
   "outputs": [],
   "source": []
  },
  {
   "cell_type": "markdown",
   "metadata": {},
   "source": [
    "2. Install the `caret` R package and complete the following code:\n",
    "    * `TC = trainControl(method=..., number=..., savePrediction=...)`"
   ]
  },
  {
   "cell_type": "markdown",
   "metadata": {},
   "source": [
    "3. Use the `train` function to conduct cross-validation with a linear regression model on the data:\n",
    "    * `Model = train(..., data=..., trControl=..., method=...)`"
   ]
  },
  {
   "cell_type": "markdown",
   "metadata": {},
   "source": [
    "4. Now try using the holdout set approach to estimate RMSE. Randomly sample 80% of the data (using `sample` function) and use the other 20% as your holdout set. Use the `lm` function on your training set and the `predict` function to get predictions."
   ]
  },
  {
   "cell_type": "markdown",
   "metadata": {},
   "source": [
    "## Predictive Performance Assessment Activity 3 - Hyperparameter Selection (BONUS/CHALLENGE)\n",
    "\n",
    "Apply k-nearest neighbours (kNN) to a forensic glass dataset, containing different types of glasses with elemental characteristics."
   ]
  },
  {
   "cell_type": "markdown",
   "metadata": {},
   "source": [
    "1. Load the `Glass` dataset from the `mlbench` R package. The outcome is `Type`.\n"
   ]
  },
  {
   "cell_type": "code",
   "execution_count": null,
   "metadata": {},
   "outputs": [],
   "source": []
  },
  {
   "cell_type": "markdown",
   "metadata": {},
   "source": [
    "2. Divide the dataset into training set (80%) and test set (20%)\n"
   ]
  },
  {
   "cell_type": "markdown",
   "metadata": {},
   "source": [
    "\n",
    "3. Load the `caret` package and complete the following code to perform 5-fold cross-validation using kNN to select k from \\{2,3,4,5,6\\}:\n",
    "    * `TC = trainControl(method=\"cv\", number=..., savePrediction=...)`\n",
    "    * `Model = train(..., data=..., trControl=...,\n",
    "    method=..., tuneGrid=...)`"
   ]
  },
  {
   "cell_type": "markdown",
   "metadata": {},
   "source": [
    "4. Compute the test set predictions using the final model and the `predict` function.\n"
   ]
  },
  {
   "cell_type": "markdown",
   "metadata": {},
   "source": [
    "5. Compute performance measures on the test set:\n",
    "    * Hint: Consider using the `confusionMatrix` function."
   ]
  },
  {
   "cell_type": "markdown",
   "metadata": {},
   "source": [
    "# Introduction to Machine Learning Activity Solutions"
   ]
  },
  {
   "cell_type": "markdown",
   "metadata": {},
   "source": [
    "## Predictive Performance Assessment Activity 1 Solution\n"
   ]
  },
  {
   "cell_type": "markdown",
   "metadata": {},
   "source": [
    "<details>\n",
    "  <summary>Click here for Solution Part 1</summary>\n",
    "  \n",
    "  `data(aSAH)`\n",
    "\n",
    "  `ROC_Obj = roc(aSAH$outcome, aSAH$s100b)`\n",
    "  \n",
    "  `plot(ROC_Obj)`\n",
    "\n",
    "  `PR_Coords = coords(ROC_Obj, x = \"all\", ret = c(\"precision\", \"recall\"))`\n",
    "\n",
    "  `plot(precision ~ recall, PR_Coords, type = \"l\", ylim = c(0, 1))`\n",
    "\n",
    "  `Perf_Coords_1 = coords(ROC_Obj, x = \"best\", ret = c(\"sensitivity\", \"specificity\", \"npv\", \"ppv\"))`\n",
    "\n",
    "  `Perf_Coords_2 = coords(ROC_Obj, x = \"best\", best.method = \"closest.topleft\", ret = c(\"sensitivity\", \"specificity\", \"npv\", \"ppv\"))`\n",
    "</details>\n"
   ]
  },
  {
   "cell_type": "markdown",
   "metadata": {},
   "source": [
    "## Predictive Performance Assessment Activity 2 Solution\n",
    "\n"
   ]
  },
  {
   "cell_type": "markdown",
   "metadata": {},
   "source": [
    "<details>\n",
    "  <summary>Click here for Solution Part 2</summary>\n",
    "  \n",
    "  `data(Ozone)`\n",
    "\n",
    "  `Ozone_Clean = na.omit(Ozone[, 4:13])`\n",
    "\n",
    "  `TC = trainControl(method = \"cv\", number = 10, savePrediction = TRUE)`\n",
    "\n",
    "  `Model = train(V4 ~ ., data = Ozone_Clean, trControl = TC, method = \"lm\")`\n",
    "\n",
    "  `Train_SI = sample(1:nrow(Ozone_Clean), size = 0.8 * nrow(Ozone_Clean))`\n",
    "  \n",
    "  `Test_SI = which(!(1:nrow(Ozone_Clean) %in% Train_SI))`\n",
    "\n",
    "  `Train_Set = Ozone_Clean[Train_SI, ]`\n",
    "  \n",
    "  `Test_Set = Ozone_Clean[Test_SI, ]`\n",
    "\n",
    "  `LM_Model = lm(V4 ~ ., Train_Set)`\n",
    "\n",
    "  `Test_Preds = predict(LM_Model, Test_Set)`\n",
    "\n",
    "  `RMSE = sum((Test_Preds - Test_Set$V4)^2) / nrow(Test_Set)`\n",
    "  \n",
    "  `MAE = sum(abs((Test_Preds - Test_Set$V4))) / nrow(Test_Set)`\n",
    "</details>\n"
   ]
  },
  {
   "cell_type": "markdown",
   "metadata": {},
   "source": [
    "## Predictive Performance Assessment Activity 3 Solution\n",
    "\n"
   ]
  },
  {
   "cell_type": "markdown",
   "metadata": {
    "tags": []
   },
   "source": [
    "<details>\n",
    "  <summary>Click here for Solution Part 3</summary>\n",
    "  \n",
    "  `data(Glass)`\n",
    "\n",
    "  `Train_SI = sample(1:nrow(Glass), size = 0.8 * nrow(Glass))`\n",
    "  \n",
    "  `Test_SI = which(!(1:nrow(Glass) %in% Train_SI))`\n",
    "\n",
    "  `Glass_Train = Glass[Train_SI, ]`\n",
    "  \n",
    "  `Glass_Test = Glass[Test_SI, ]`\n",
    "\n",
    "  `TC = trainControl(method = \"cv\", number = 10, savePrediction = TRUE)`\n",
    "  \n",
    "  `Model = train(Type ~ ., data = Glass_Train, trControl = TC, method = \"knn\", tuneGrid = data.frame(k = c(2, 3, 4, 5, 6)))`\n",
    "\n",
    "  `Preds = predict(Model, Glass_Test)`\n",
    "\n",
    "  `confusionMatrix(data = Preds, reference = Glass_Test$Type)`\n",
    "</details>\n",
    "\n"
   ]
  },
  {
   "cell_type": "markdown",
   "metadata": {},
   "source": [
    "\n",
    "\n"
   ]
  }
 ],
 "metadata": {
  "anaconda-cloud": "",
  "kernelspec": {
   "display_name": "R",
   "language": "R",
   "name": "ir"
  },
  "language_info": {
   "codemirror_mode": "r",
   "file_extension": ".r",
   "mimetype": "text/x-r-source",
   "name": "R",
   "pygments_lexer": "r",
   "version": "4.3.1"
  }
 },
 "nbformat": 4,
 "nbformat_minor": 4
}
