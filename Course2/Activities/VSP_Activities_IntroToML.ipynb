{
 "cells": [
  {
   "cell_type": "markdown",
   "metadata": {},
   "source": [
    "<h1 style=\"text-align: center;\"> Introduction to Machine Learning Activities</h1>\n",
    "\n",
    "<p style=\"text-align: center;\">July, 2024</p>"
   ]
  },
  {
   "cell_type": "markdown",
   "metadata": {},
   "source": [
    "\n",
    "## Machine Learning Activity 1 - K-means clustering"
   ]
  },
  {
   "cell_type": "markdown",
   "metadata": {},
   "source": [
    "\n",
    "1. Get the `airquality` dataset in R (should be a base R dataset that is available). Use `Air_Data = na.omit(airquality)` function to remove observations with missing data."
   ]
  },
  {
   "cell_type": "markdown",
   "metadata": {},
   "source": [
    "\n",
    "2. You can scale variables using `scale` function, and can then convert back to a data.frame object using `as.data.frame`"
   ]
  },
  {
   "cell_type": "markdown",
   "metadata": {},
   "source": [
    "3. Use the `kmeans` function (also built in to base R) to cluster observations based on the \"Wind\" and \"Solar.R\" variables. Feel free to experiment with the `centers` (k) argument. We recommend specifying `nstart=25` for `kmeans` to have different initializations."
   ]
  },
  {
   "cell_type": "markdown",
   "metadata": {},
   "source": [
    "4. Plot the results using `ggplot2`."
   ]
  },
  {
   "cell_type": "markdown",
   "metadata": {},
   "source": [
    "5. If you want to practice conducting the elbow and silhouette method for this dataset, use the function `fviz_nbclust(Air_Data, kmeans, method=c(\"wss\",\"silhouette\"))`. You'll need to load the `factoextra` R package and choose one of the arguments for `method`."
   ]
  },
  {
   "cell_type": "markdown",
   "metadata": {},
   "source": [
    "\n",
    "## Machine Learning Activity 2 - LOESS\n",
    "\n",
    "1. Load the `rock` dataset in R (also in base R)."
   ]
  },
  {
   "cell_type": "markdown",
   "metadata": {},
   "source": [
    "\n",
    "2. Use the `loess` function (also built in to base R) to fit a loess curve with `area` as the explanatory variable and `peri` as the response variable. It should have a formula input as `peri~area` and you can assign the object as `Loess_Model`.\n",
    "\n"
   ]
  },
  {
   "cell_type": "markdown",
   "metadata": {},
   "source": [
    "\n",
    "3. Feel free to experiment with the `span` argument, which takes on values between 0 and 1, determining how many points are used to fit each query point. Use the `predict(Loess_Model, rock)` to extract the LOESS curve estimates.\n",
    "\n"
   ]
  },
  {
   "cell_type": "markdown",
   "metadata": {},
   "source": [
    "4. Plot the results using ggplot2."
   ]
  },
  {
   "cell_type": "markdown",
   "metadata": {},
   "source": [
    "\n",
    "\n",
    "# Introduction to Machine Learning Activity Solutions\n",
    "\n",
    "## Machine Learning Activity 1 Solution\n"
   ]
  },
  {
   "cell_type": "markdown",
   "metadata": {},
   "source": [
    "<details>\n",
    "  <summary>Click here for Solution 1</summary>\n",
    "  \n",
    "  `Air_Data = na.omit(airquality)`\n",
    "    \n",
    "  `Air_Data = as.data.frame(scale(Air_Data[,c(\"Wind\", \"Solar.R\")]))`\n",
    "\n",
    "  `KMeans_Model = kmeans(Air_Data, centers=4, nstart=25)`\n",
    "\n",
    "  `# Plot Results`\n",
    "\n",
    "  `ggplot(Air_Data, aes(x=Wind, y=Solar.R, colour=factor(KMeans_Model$cluster))) + geom_point() + theme_bw() + guides(colour=\"none\")`\n",
    "</details>\n",
    "\n"
   ]
  },
  {
   "cell_type": "markdown",
   "metadata": {},
   "source": [
    "## Machine Learning Activity 2 Solution\n",
    "\n"
   ]
  },
  {
   "cell_type": "markdown",
   "metadata": {},
   "source": [
    "<details>\n",
    "  <summary>Click here for Solution Part 2</summary>\n",
    "  \n",
    "  `library(tidyverse)`\n",
    "\n",
    "  `Loess_Model = loess(peri~area, data=rock, span=0.6)`\n",
    "\n",
    "  `Loess_Estimates = predict(Loess_Model, rock)`\n",
    "\n",
    "  `est = tibble(Rock_Pore_Area = rock$area, Rock_Pore_Perimeter = Loess_Estimates)`\n",
    "\n",
    "  `ggplot() + geom_point(data = rock, mapping = aes(area, peri)) + geom_line(data = est, mapping = aes(Rock_Pore_Area, Rock_Pore_Perimeter), size = 1, col = \"red\") + labs(x = \"Rock Pore Area\", y = \"Rock Pore Perimeter\") + theme_bw()`\n",
    "</details>\n"
   ]
  },
  {
   "cell_type": "markdown",
   "metadata": {},
   "source": [
    "\n",
    "\n"
   ]
  }
 ],
 "metadata": {
  "anaconda-cloud": "",
  "kernelspec": {
   "display_name": "R",
   "language": "R",
   "name": "ir"
  },
  "language_info": {
   "codemirror_mode": "r",
   "file_extension": ".r",
   "mimetype": "text/x-r-source",
   "name": "R",
   "pygments_lexer": "r",
   "version": "4.3.3"
  }
 },
 "nbformat": 4,
 "nbformat_minor": 4
}
