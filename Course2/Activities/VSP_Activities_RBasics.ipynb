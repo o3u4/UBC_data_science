{
 "cells": [
  {
   "cell_type": "markdown",
   "metadata": {},
   "source": [
    "<h1 style=\"text-align: center;\">R Basics Activities</h1>\n",
    "\n",
    "<p style=\"text-align: center;\">July, 2024</p>"
   ]
  },
  {
   "cell_type": "markdown",
   "metadata": {},
   "source": [
    "\n",
    "**1. Using R History in the Console** \n",
    "\n",
    "Run the following code in an R Console:\n"
   ]
  },
  {
   "cell_type": "code",
   "execution_count": 6,
   "metadata": {
    "tags": []
   },
   "outputs": [
    {
     "data": {
      "text/html": [
       "7"
      ],
      "text/latex": [
       "7"
      ],
      "text/markdown": [
       "7"
      ],
      "text/plain": [
       "[1] 7"
      ]
     },
     "metadata": {},
     "output_type": "display_data"
    },
    {
     "data": {
      "text/html": [
       "-1"
      ],
      "text/latex": [
       "-1"
      ],
      "text/markdown": [
       "-1"
      ],
      "text/plain": [
       "[1] -1"
      ]
     },
     "metadata": {},
     "output_type": "display_data"
    },
    {
     "data": {
      "text/html": [
       "12"
      ],
      "text/latex": [
       "12"
      ],
      "text/markdown": [
       "12"
      ],
      "text/plain": [
       "[1] 12"
      ]
     },
     "metadata": {},
     "output_type": "display_data"
    },
    {
     "data": {
      "text/html": [
       "0.75"
      ],
      "text/latex": [
       "0.75"
      ],
      "text/markdown": [
       "0.75"
      ],
      "text/plain": [
       "[1] 0.75"
      ]
     },
     "metadata": {},
     "output_type": "display_data"
    },
    {
     "data": {
      "text/html": [
       "81"
      ],
      "text/latex": [
       "81"
      ],
      "text/markdown": [
       "81"
      ],
      "text/plain": [
       "[1] 81"
      ]
     },
     "metadata": {},
     "output_type": "display_data"
    }
   ],
   "source": [
    "3+4\n",
    "3-4\n",
    "3*4\n",
    "3/4\n",
    "3^4"
   ]
  },
  {
   "cell_type": "markdown",
   "metadata": {},
   "source": [
    "Now perform the following:\n",
    "\n",
    "- Rerun multiplication using the arrow keys.\n",
    "\n",
    "- Redo the addition, but edit it to use 42 as the left operand.\n",
    "\n",
    "- Return to the division, and multiply the denominator by 12 (i.e. use brackets for the denominator).\n"
   ]
  },
  {
   "cell_type": "markdown",
   "metadata": {},
   "source": [
    "**2. Creating and Removing Objects**\n",
    "\n",
    "- Compute the age of a 25-year old in terms of months, and store this value.\n",
    "\n",
    "- Remove the object where you stored the 25-year old's age (in months). \n",
    "\n",
    "- Verify that it's not present in the Environment any more.\n",
    "\n",
    "- (Bonus/Challenge) Now how do you get it back?\n",
    "\n",
    "\n"
   ]
  },
  {
   "cell_type": "code",
   "execution_count": null,
   "metadata": {},
   "outputs": [],
   "source": []
  },
  {
   "cell_type": "markdown",
   "metadata": {},
   "source": [
    "\n",
    "**3. Descriptive Statistics**\n",
    "\n",
    "- Using mtcars, compute the 75th percentile for displacement and mpg. \n",
    "\n",
    "- CHALLENGE: Can you do it with a single command?\n",
    "\n",
    "- Create a table for the number of gears.\n",
    "\n",
    "\n"
   ]
  },
  {
   "cell_type": "code",
   "execution_count": null,
   "metadata": {},
   "outputs": [],
   "source": []
  },
  {
   "cell_type": "markdown",
   "metadata": {},
   "source": [
    "**4. Writing and Reading Data**\n",
    "\n",
    "- Write `mtcars` as a comma delimited file, include the row names.\n",
    " \n",
    "- Read the file into R. Do you notice a problem? See if there is a way to fix it using the arguments of the function you used to read the file.\n"
   ]
  },
  {
   "cell_type": "code",
   "execution_count": null,
   "metadata": {},
   "outputs": [],
   "source": []
  },
  {
   "cell_type": "markdown",
   "metadata": {
    "tags": []
   },
   "source": [
    "\n",
    "\n",
    "# R Basics Activity Solutions\n",
    "\n",
    "### Part I"
   ]
  },
  {
   "cell_type": "markdown",
   "metadata": {},
   "source": [
    "<details>\n",
    "  <summary>Click here for Solution Part I</summary>\n",
    "  \n",
    "  `42 + 4`\n",
    "  \n",
    "  `3 / (4 * 12)`\n",
    "</details>\n"
   ]
  },
  {
   "cell_type": "markdown",
   "metadata": {},
   "source": [
    "### Part II\n",
    "\n"
   ]
  },
  {
   "cell_type": "markdown",
   "metadata": {
    "tags": []
   },
   "source": [
    "<details>\n",
    "  <summary>Click here for Solution Part II</summary>\n",
    "\n",
    "  `Age25_Months = 25*12`\n",
    "\n",
    "  `rm(Age25_Months)`\n",
    "\n",
    "  `ls()`\n",
    "\n",
    "  `Age25_Months = 25*12`\n",
    "</details>\n",
    "\n"
   ]
  },
  {
   "cell_type": "markdown",
   "metadata": {},
   "source": [
    "### Part III\n",
    "\n"
   ]
  },
  {
   "cell_type": "markdown",
   "metadata": {},
   "source": [
    "<details>\n",
    "  <summary>Click here for Solution Part III</summary>\n",
    "\n",
    "  `quantile(mtcars$disp, probs=0.75)`\n",
    "\n",
    "  `quantile(mtcars$mpg, probs=0.75)`\n",
    "\n",
    "  `sapply(mtcars[c(\"disp\", \"mpg\")], quantile, probs=0.75)`\n",
    "\n",
    "  `table(mtcars$gear)`\n",
    "</details>\n"
   ]
  },
  {
   "cell_type": "markdown",
   "metadata": {},
   "source": [
    "### Part IV\n",
    "\n"
   ]
  },
  {
   "cell_type": "markdown",
   "metadata": {},
   "source": [
    "<details>\n",
    "  <summary>Click here for Solution Part IV</summary>\n",
    "\n",
    "  `write.csv(mtcars, file=\"mtcars.csv\", row.names=TRUE)`\n",
    "\n",
    "  `read.csv(\"mtcars.csv\", row.names=1)`\n",
    "</details>\n",
    "\n"
   ]
  },
  {
   "cell_type": "markdown",
   "metadata": {},
   "source": [
    "\n",
    "\n"
   ]
  }
 ],
 "metadata": {
  "anaconda-cloud": "",
  "kernelspec": {
   "display_name": "R",
   "language": "R",
   "name": "ir"
  },
  "language_info": {
   "codemirror_mode": "r",
   "file_extension": ".r",
   "mimetype": "text/x-r-source",
   "name": "R",
   "pygments_lexer": "r",
   "version": "4.3.3"
  }
 },
 "nbformat": 4,
 "nbformat_minor": 4
}
