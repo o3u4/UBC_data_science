{
 "cells": [
  {
   "cell_type": "markdown",
   "id": "ab84cad8-a810-46ca-b284-862667ec04c4",
   "metadata": {},
   "source": [
    "**Insert here your name:**\n",
    "\n",
    "**Your student ID:** \n",
    "\n",
    "**Total Marks earned:** \n",
    "\n",
    "**Score for Full Marks:**  100\n",
    "\n",
    "**Bonus marks:** 37"
   ]
  },
  {
   "cell_type": "markdown",
   "id": "507d3305-66a6-48a5-8900-297d6afa1c29",
   "metadata": {},
   "source": [
    "\n",
    "**Title:**\n",
    "\n",
    "Write here..ows.\n",
    "\n",
    "The different versions of FWD (\"H\", \"L\", \"T\", \"U\", \"Y\") have lower ASM carbon monoxide emissions than \"N\" and \"S\".\n",
    "\n"
   ]
  },
  {
   "cell_type": "markdown",
   "id": "4d1283e0-c5a0-4866-aace-2b8e9d725dfe",
   "metadata": {},
   "source": [
    "**List of team members**\n",
    "\n",
    "Write here .. Outline clearly contributions of each team member, each member should claim ownership over their contributions towards the project. This can also be used as a guide to which part would be presented by each team member in the final presentations."
   ]
  },
  {
   "cell_type": "markdown",
   "id": "dee9bd02-acac-40e8-bf5e-fe3c26c9729e",
   "metadata": {},
   "source": [
    "**Team 9:**\n",
    "\n",
    "Primary Research Question: What is the impact of front wheel drive (FWD) on ASM carbon monoxide emissions (CO2)?\n",
    "\n",
    "Hypothesis: Different front wheel drive modes may have different ASM carbon monoxide emissions (CO2) .\n",
    "\n",
    "Secondary Research Question: Do front wheel drive vehicles have a lower proportion of failing emissions tests (EMISRES) compared to rear wheel drive vehcile??\n",
    "\n",
    "**Familiarize with the data set**\n"
   ]
  },
  {
   "cell_type": "code",
   "execution_count": null,
   "id": "32c861b0-6a46-49cf-8045-0fe6aeece17c",
   "metadata": {
    "vscode": {
     "languageId": "r"
    }
   },
   "outputs": [],
   "source": [
    "library(tidyverse);library(DT)\n",
    "ds_AirCare_DataDictionary = read_csv(\"data/VehicleEmissions_DataDictionary.csv\")\n",
    "datatable(ds_AirCare_DataDictionary)"
   ]
  },
  {
   "cell_type": "markdown",
   "id": "696e217a-fa39-4f35-9282-c52952981ca1",
   "metadata": {},
   "source": [
    "**Abstract:** \n",
    "\n",
    "\n",
    "\n",
    "\n",
    "Hint. Abstract is included at the beggining of the research paper, but it is usually written at the end, when we have the full picture of the problem that we have solved. Write one sentence for each:\n",
    "\n",
    "1. Background of the project. \n",
    "2. Clearly state the primary statistical problem. \n",
    "3. One sentence about the secondary problem  (bonus 1 point).\n",
    "4. The key results for the primary problem.\n",
    "5. The key results for the secondary problem (bonus 1 point).\n",
    "6. One final sentence for the broader implications/conclusions from the analysis.\n",
    "7. One sentence about the reproducibility of this analysis, e.g., R software and packages used, and also availability of the code and data used for this analysis.\n",
    "\n",
    "   \n",
    "\n",
    "(5 points)  1 point for each sentence\n",
    "(Bonus 2 points) for including the secondary problem and it's key findings.\n"
   ]
  },
  {
   "cell_type": "markdown",
   "id": "78a0c3f3-9b4b-4504-bf28-7eb0b7c3c4ac",
   "metadata": {},
   "source": [
    "Write here ..\n",
    "\n",
    "The AirCare program, established in September 1992, aimed to reduce harmful emissions in the Lower Fraser Valley by systematically testing light-duty vehicles. This study used the dataset of the AirCare program in 2000 to explore the impact of front wheel drive (FWD) on ASM carbon monoxide emissions (CO2). There were 7 different versions of FWD (\" High-Performance\", \"Luxury\", \"Normal\", \"Sport\", \"Touring\", \"Urban/Utility\", \"Hybrid\"), and \"H\", \"L\", \"T\", \"U\", \"Y\" had lower ASM carbon monoxide emissions than \"N\" and \"S\", there was no apparent difference between \"N\" and \"S\"(only about0.034405). This anaysis can be reproduced by R software, tidyverse package, and data from AirCare program. Due to the limitation of sample sizes, the result was not very powerful, but still can be applied to environmental pollution examination or the evaluation of car efficiency."
   ]
  },
  {
   "cell_type": "code",
   "execution_count": null,
   "id": "4e88dbce-401b-4193-8b96-1c537cf4321f",
   "metadata": {
    "vscode": {
     "languageId": "r"
    }
   },
   "outputs": [],
   "source": [
    "#load the data set\n",
    "library(tidyverse)\n",
    "ds_AirCare = read_csv(\"data/VehicleEmissions.csv\")\n",
    "colnames(ds_AirCare)\n",
    "ds_AirCare=ds_AirCare[,c(\"FWD\",\"CO2\",\"EMISRES\")]\n",
    "head(ds_AirCare)\n",
    "\n",
    "#The following code will be needed for Bonus marks tasks\n",
    "#create a new variable EMISRES_Descr to give descriptions of the EMISRES variable, so that when  EMISRES==\"F\", then EMISRES_Descr=\"Failed\",\n",
    "\n",
    "# and when EMISRES==\"P\", then EMISRES_Descr=\"Failed\"\n",
    "\n",
    "# Hint use:  mutate and case_when and save the resulting data set in ds_AirCare\n",
    "#EMISRES_Descr= case_when(EMISRES==\"P\" ~\t\"Passed\",\n",
    "#                         EMISRES==\"F\" ~\t\"Failed\",\t\n",
    "#                         TRUE~EMISRES)\n",
    "\n",
    "\n",
    "#print(\"Conditions of interest:\")\n",
    "#ds_AirCare %>% count(EMISRES_Descr)\n",
    "\n",
    "#(Bonus 2 points) "
   ]
  },
  {
   "cell_type": "code",
   "execution_count": null,
   "id": "551069d9-e759-4010-b0e8-c75b1bf87b72",
   "metadata": {
    "vscode": {
     "languageId": "r"
    }
   },
   "outputs": [],
   "source": [
    "#Write here the code for bonus marks (2 points)\n",
    "ds_AirCare = mutate(ds_AirCare, EMISRES_Descr= case_when(EMISRES==\"P\" ~\t\"Passed\",\n",
    "                                                         EMISRES==\"F\" ~\t\"Failed\",\t\n",
    "                                                         TRUE~EMISRES))\n",
    "count(ds_AirCare, EMISRES_Descr)\n",
    "head(ds_AirCare)\n",
    "unique(ds_AirCare$FWD)"
   ]
  },
  {
   "cell_type": "markdown",
   "id": "414dd09e-0d66-4111-b4ef-91dc4ab88faf",
   "metadata": {},
   "source": [
    "**1. Introduction:**\n",
    "\n",
    "Background and context of the project\n",
    "\n",
    "Objectives and research questions\n",
    "\n",
    "(10 points), 5 points for giving the background of the data, and 5 points for stating the general research objective."
   ]
  },
  {
   "cell_type": "markdown",
   "id": "6add1ece-bfc2-4393-841d-7eb8c214ce4a",
   "metadata": {},
   "source": [
    "Write here ..\n",
    "\n",
    "The AirCare program was established in September 1992 as an initiative to reduce harmful emissions in the Lower Fraser Valley, mainly from light-duty vehicles. The program aimed to systematically test vehicles as to reduce emission levels produced by requiring vehicles with higher emission levels to be properly repaired before drivers were allowed to renew the insurance of their vehicle. \n",
    "\n",
    "AirCare was a community-based program represented by Translink, the Insurance Corporation of British Columbia, the Greater Vancouver Regional District, the Fraser Valley Regional District, and the province of British Columbia as a part of a regional Air Quality Management Plan.\n",
    "The program ran in three separate phases throughout its lifespan. Phase one ran from September 1992 to 2000, phase two from 2001 to 2006, and finally phase three from 2007 to the end of the program in 2014. This data set focuses on the data from 2000. For a more comprehensive introduction to the AirCare program, please see Stewart, Gourley, and Wong’s report listed in the references.\n"
   ]
  },
  {
   "cell_type": "markdown",
   "id": "47d2633a-3952-46b1-927c-572ba583fb99",
   "metadata": {},
   "source": [
    "**Objectives and research questions**\n",
    "\n",
    "\n",
    "\n",
    "\n",
    "\n",
    "\n",
    "(10 points), 5 points for the target population, and 5 points for the study period.\n",
    "\n",
    "\n",
    "\n",
    "Hint. We will focus on the research question. Your task is to make sure that this research question is clear enough. \n",
    "Are there any missing componenents such as the target population? Who is the studied subject?\n",
    "\n"
   ]
  },
  {
   "cell_type": "markdown",
   "id": "4c6526f0-5f34-4ab5-9c7e-e85885b05262",
   "metadata": {},
   "source": [
    "Write here, one sentence, clearly defined research quesiton ...\n",
    "\n",
    "The Front wheel drive mode in Normal will have less ASM carbon monoxide emissions (CO2) than Sport mode for overall vehicles in vancouver during Jun. to Aug. Every vehicle in different time is the studied subject and also is the observation unit.\n",
    "\n"
   ]
  },
  {
   "cell_type": "markdown",
   "id": "bb69e542-c313-444d-9e89-05cfa2cd7a03",
   "metadata": {},
   "source": [
    "**2. Data Description:**\n",
    "\n",
    "**Overview of the dataset(s) used for the analysis**\n",
    "\n",
    "\n",
    "\n",
    "Hint. 1. Identify who is studied with this dataset, i.e., clearly define observational unit?\n",
    "      2. What is the data structure, i.e., are there repeated measures per observational unit (any sampling units within the observational unit)?\n",
    "             Is there any obvious clustering between the observational units? If so, state clearly which are these variables?\n",
    "      3. How was the sample generated from the target population? Was it a random sample from the target population or is it the entire target population in our data set (census)?\n",
    "\n",
    "\n",
    "\n",
    "(12 points), 4 points for each sentence."
   ]
  },
  {
   "cell_type": "markdown",
   "id": "2c2b900f-cef2-4cf4-af22-e910f31a6d25",
   "metadata": {},
   "source": [
    "Write here, concise three sentences ..\n",
    "\n",
    "1. The studied subject is each vehicle in Vancouver from different times. Every observation from each vehicle in different time point is an observation unit.\n",
    "2. There is only one observation from each unit. The observation is clustering in the Month(from Jun. to Sep.) when it is observated.\n",
    "3. Yes, it is randomly sample from the overall vehicles in Vancouver."
   ]
  },
  {
   "cell_type": "markdown",
   "id": "4e9f33a4-611e-4650-9c83-321f3fbcb155",
   "metadata": {},
   "source": [
    "**Description of the variables** \n",
    "\n",
    "\n",
    "\n",
    "Hint. 1. State the names of the variables in the data set that are going to be used to answer the research question. If there are any other important variables such as clustering variables, also need to be named here. Data types of each variables, number of levels for the categorical variables. \n",
    "\n",
    "(5 points) 2.5 points for statiting the two variables clearly, 2.5 points for describing their data types (categorical with how many categories? or continuous)\n",
    "\n",
    "(Bonus 5 points) for identifying potentially clustering variable, that may cluster the observations.\n"
   ]
  },
  {
   "cell_type": "markdown",
   "id": "22b1c198-4ad2-4918-8e01-49f147e52502",
   "metadata": {},
   "source": [
    "Write here ... (two sentences, one sentence to state which variables are going to be used for the research question, and another sentence to indicate data types for each of the variables). Bonus marks for identify a potentially clustering variable in the dataset.\n",
    "\n",
    "1. The two variables is FWD (N or S) and ASM CO2. The clustering variable is the time in different month.\n",
    "2. The FWD is Nominal variable Primary 2 categories(in fact has 7). The ASM CO2 is Ratio continuous Numerical variable."
   ]
  },
  {
   "cell_type": "markdown",
   "id": "9ce3569c-f10c-4692-b9f4-00f2b252da9d",
   "metadata": {},
   "source": [
    "**3. Statistical Problem formulation**  Write here in one concise sentence the statstical problem that you are trying to solve based on the research question and data structures: ...\n",
    "\n",
    "\n",
    "\n",
    "Hint. Clearly state the statistical problem type, the explanatory variable, the outcome of interest, the level at which the conclusions are going to be made, e.g., if there are grouping variables, is the problem looking at the group level, or overall groups. Also, clearly state the target population.\n",
    "\n",
    "\n",
    "(10 points) for stating one primary statsitical problem (hypothesis). Full marks for choosing any of the possible pairwise comparisons as primary hypothesis.\n",
    "\n",
    "(Bonus 5 points) for stating the rest of the possile hypothses as secondary hypotheses. Full marks for stating the remaining 2 out of the 3 possible pairwise comparisons as secondary hypotheses.\n"
   ]
  },
  {
   "cell_type": "markdown",
   "id": "80b26cdf-c8e9-4aa8-b462-dd0894916973",
   "metadata": {},
   "source": [
    "Write here ...\n",
    "\n",
    "The statistical problem type is quantification (estimation) of the strength of associative relationships between the variables, essentially, it is the different modes of front wheel drive (mainly\"N(Normal)\"\"S(Sport)\") may have different ASM carbon monoxide emissions (CO2) of the vehicles across the Greater Vancouver Regional District from Jan to Sep in 2000."
   ]
  },
  {
   "cell_type": "markdown",
   "id": "8a7c6cca-6070-42f5-a569-6254f4de3c1d",
   "metadata": {},
   "source": [
    "**4. Methodology:**\n",
    "\n",
    "\n",
    "**Explanation of the Exploratory Data Analysis**\n",
    "\n",
    "\n",
    "\n",
    "\n",
    "Hint. Add brief explanation of the justification on how is this plot answering the primary statsitical problem. Hint. Interept the plot in the context of the primary statistical problem.\n",
    "\n",
    "\n",
    "(5 points) total. 2.5 points for correctly selecting the most appropariate plot. 2.5 points for the justification on how the plot can answer the primary statsitical problem."
   ]
  },
  {
   "cell_type": "markdown",
   "id": "ccb89160-188d-424d-8af0-f575d56009a6",
   "metadata": {},
   "source": [
    "Write here ..\n",
    "\n",
    "The explanatory variable is the FWD, is a category variable, the response variable is CO2, is a continuous numerical variable. So the box plot can fit well.\n",
    "\n",
    "The plot show that between different categories of FWD, the mean of CO2 has some difference.\n"
   ]
  },
  {
   "cell_type": "code",
   "execution_count": null,
   "id": "6b917904-f1ea-41c6-8615-146ba41796a7",
   "metadata": {
    "vscode": {
     "languageId": "r"
    }
   },
   "outputs": [],
   "source": [
    "# change the code here to create the most appropriate plot\n",
    "\n",
    "ds_AirCare %>% ggplot(aes(x=FWD, y=CO2)) + geom_boxplot() +labs(title=\"Boxplot of vehicle FWD and CO2\")\n",
    "count(ds_AirCare, FWD)"
   ]
  },
  {
   "cell_type": "code",
   "execution_count": null,
   "id": "8ffde8fd-f2e9-46bb-8bc3-a88ba196ef64",
   "metadata": {
    "vscode": {
     "languageId": "r"
    }
   },
   "outputs": [],
   "source": [
    "table(ds_AirCare$FWD)\n",
    "N_data = filter(ds_AirCare, FWD==\"N\")\n",
    "print(\"mean of CO2 with FWD=N\")\n",
    "mean(N_data$CO2)\n",
    "S_data = filter(ds_AirCare, FWD==\"S\")\n",
    "print(\"mean of CO2 with FWD=S\")\n",
    "mean(S_data$CO2)"
   ]
  },
  {
   "cell_type": "markdown",
   "id": "d6709921-5ae6-4cd2-930a-0438bfcbd75e",
   "metadata": {},
   "source": [
    "**Statistical methodologies**\n",
    "\n",
    "\n",
    "\n",
    "Hint. One sentence about the appropraite statistical methods and techniques applied based on the insights you gained in the previous cells. Second sentence about the corect specification of the applied method (e.g., which variable is response, and which is the explanatory variable). Third sentence explaining how the results will be interpretable in the context of the statistical problem formulatil).\n",
    "\n",
    "(10 points) 5 points for correcly identified statsitical concepts in the first and con\n",
    "d seen\n",
    "\n",
    "ce. (Bonus 5 points) Bonus marks for the third sentence, how will the results be interpreted in the context of the primary isatsitical problem.\n"
   ]
  },
  {
   "cell_type": "markdown",
   "id": "cf7428af-4ff2-4e40-bc62-9708202a1381",
   "metadata": {},
   "source": [
    "Write here ..\n",
    "1. In order to find the different influence in CO2 by different categories of FWD. The ANOVA and linear model can be used. But considering the condition in ANOVA, in this case, due to the unbalance of sample size between groups, ANOVA may can't get useful output. It's better to use the linear model.\n",
    "2. The explanatory variable is FWD, the response variable is CO2.\n",
    "3. Between the categories of FWD, N and S has the main statistical significance. It can be estimated that compared to the emission of CO2 in N mode, the mean of which in S mode is 0.034405 less."
   ]
  },
  {
   "cell_type": "code",
   "execution_count": null,
   "id": "930c6cb9-6d37-4fdf-bc00-e2f0259a2944",
   "metadata": {
    "vscode": {
     "languageId": "r"
    }
   },
   "outputs": [],
   "source": [
    "ds_AirCare$FWD = as.factor(ds_AirCare$FWD)"
   ]
  },
  {
   "cell_type": "code",
   "execution_count": null,
   "id": "f3cad90b-0ceb-4ce2-890b-3ca39261e4db",
   "metadata": {
    "scrolled": true,
    "vscode": {
     "languageId": "r"
    }
   },
   "outputs": [],
   "source": [
    "print(\"reference = H\")\n",
    "ds_AirCare$ref_H_FWD = relevel(ds_AirCare$FWD, ref = \"H\")\n",
    "anova_ref_H_model = aov(CO2 ~ ref_H_FWD, data = ds_AirCare)\n",
    "summary(anova_ref_H_model)\n",
    "\n",
    "linear_ref_H_model = lm(CO2 ~ ref_H_FWD, data = ds_AirCare)\n",
    "summary(linear_ref_H_model)\n",
    "par(mfrow=c(2,2))\n",
    "plot(linear_ref_H_model)"
   ]
  },
  {
   "cell_type": "code",
   "execution_count": null,
   "id": "9b2258c5-b880-445f-bf4c-37ac825d9739",
   "metadata": {
    "scrolled": true,
    "vscode": {
     "languageId": "r"
    }
   },
   "outputs": [],
   "source": [
    "print(\"reference = L\")\n",
    "ds_AirCare$ref_L_FWD = relevel(ds_AirCare$FWD, ref = \"L\")\n",
    "anova_ref_L_model = aov(CO2 ~ ref_L_FWD, data = ds_AirCare)\n",
    "summary(anova_ref_L_model)\n",
    "\n",
    "linear_ref_L_model = lm(CO2 ~ ref_L_FWD, data = ds_AirCare)\n",
    "summary(linear_ref_L_model)\n"
   ]
  },
  {
   "cell_type": "code",
   "execution_count": null,
   "id": "3003db86-ef84-4a30-92eb-6c91f6932f6d",
   "metadata": {
    "scrolled": true,
    "vscode": {
     "languageId": "r"
    }
   },
   "outputs": [],
   "source": [
    "print(\"reference = N\")\n",
    "ds_AirCare$ref_N_FWD = relevel(ds_AirCare$FWD, ref = \"N\")\n",
    "anova_ref_N_model = aov(CO2 ~ ref_N_FWD, data = ds_AirCare)\n",
    "summary(anova_ref_N_model)\n",
    "\n",
    "linear_ref_N_model = lm(CO2 ~ ref_N_FWD, data = ds_AirCare)\n",
    "summary(linear_ref_N_model)\n",
    "par(mfrow=c(2,2))\n",
    "plot(linear_ref_N_model)"
   ]
  },
  {
   "cell_type": "code",
   "execution_count": null,
   "id": "86f6641f-5503-4ed7-af50-bbdd9c080ed3",
   "metadata": {
    "scrolled": true,
    "vscode": {
     "languageId": "r"
    }
   },
   "outputs": [],
   "source": [
    "print(\"reference = S\")\n",
    "ds_AirCare$ref_S_FWD = relevel(ds_AirCare$FWD, ref = \"S\")\n",
    "anova_ref_S_model = aov(CO2 ~ ref_S_FWD, data = ds_AirCare)\n",
    "summary(anova_ref_S_model)\n",
    "\n",
    "linear_ref_S_model = lm(CO2 ~ ref_S_FWD, data = ds_AirCare)\n",
    "summary(linear_ref_S_model)\n"
   ]
  },
  {
   "cell_type": "code",
   "execution_count": null,
   "id": "753e4058-37e7-48d5-b2ab-f1400c3e26e3",
   "metadata": {
    "scrolled": true,
    "vscode": {
     "languageId": "r"
    }
   },
   "outputs": [],
   "source": [
    "print(\"reference = T\")\n",
    "ds_AirCare$ref_T_FWD = relevel(ds_AirCare$FWD, ref = \"T\")\n",
    "anova_ref_T_model = aov(CO2 ~ ref_T_FWD, data = ds_AirCare)\n",
    "summary(anova_ref_T_model)\n",
    "\n",
    "linear_ref_T_model = lm(CO2 ~ ref_T_FWD, data = ds_AirCare)\n",
    "summary(linear_ref_T_model)\n"
   ]
  },
  {
   "cell_type": "code",
   "execution_count": null,
   "id": "01161674-61c3-405a-9192-39cbf9862812",
   "metadata": {
    "scrolled": true,
    "vscode": {
     "languageId": "r"
    }
   },
   "outputs": [],
   "source": [
    "print(\"reference = U\")\n",
    "ds_AirCare$ref_U_FWD = relevel(ds_AirCare$FWD, ref = \"U\")\n",
    "anova_ref_U_model = aov(CO2 ~ ref_U_FWD, data = ds_AirCare)\n",
    "summary(anova_ref_U_model)\n",
    "\n",
    "linear_ref_U_model = lm(CO2 ~ ref_U_FWD, data = ds_AirCare)\n",
    "summary(linear_ref_U_model)\n"
   ]
  },
  {
   "cell_type": "code",
   "execution_count": null,
   "id": "459bee16-f5ba-4ff7-a01d-039b2f7775b7",
   "metadata": {
    "scrolled": true,
    "vscode": {
     "languageId": "r"
    }
   },
   "outputs": [],
   "source": [
    "print(\"reference = Y\")\n",
    "ds_AirCare$ref_Y_FWD = relevel(ds_AirCare$FWD, ref = \"Y\")\n",
    "anova_ref_Y_model = aov(CO2 ~ ref_Y_FWD, data = ds_AirCare)\n",
    "summary(anova_ref_Y_model)\n",
    "\n",
    "linear_ref_Y_model = lm(CO2 ~ ref_Y_FWD, data = ds_AirCare)\n",
    "summary(linear_ref_Y_model)\n"
   ]
  },
  {
   "cell_type": "code",
   "execution_count": null,
   "id": "050647fb-83f2-4afc-b78e-d4ba3846f41e",
   "metadata": {
    "scrolled": true,
    "vscode": {
     "languageId": "r"
    }
   },
   "outputs": [],
   "source": [
    "# run this code to determine the appropriate statistical method\n",
    "N_Y_ds = filter(ds_AirCare, FWD==\"N\"|FWD==\"Y\")\n",
    "#Check for ANOVA assumptions\n",
    "#check for the equal variance within the comparison groups\n",
    "#by chcking the sample sizes within comparison groups\n",
    "N_Y_ds %>% count(FWD)\n",
    "#check for normality of Sales Price for each group\n",
    "N_Y_ds %>% ggplot(aes(x=FWD, y= CO2)) + geom_boxplot() +labs(title=\"Boxplots of CO2 by FWD\")\n",
    "\n",
    "# One-Way ANOVA\n",
    "m0=aov(CO2 ~ FWD, N_Y_ds)\n",
    "print(\"Interpret the results from the ANOVA: (CO2 ~ FWD=='N'or FWD=='Y')\")\n",
    "summary(m0)\n",
    "\n",
    "# fit the model\n",
    "m00 = lm(CO2 ~ FWD , N_Y_ds)\n",
    "#Check assumptions\n",
    "par(mfrow=c(2,2))\n",
    "plot(m00)\n",
    "print(\"Interpret the results from the linear model:(CO2 ~ FWD=='N'or FWD=='Y')\")\n",
    "summary(m00)\n",
    "print(\"Confidence intervals of the linear model estimates:(CO2 ~ FWD=='N'or FWD=='Y')\")\n",
    "confint(m00)"
   ]
  },
  {
   "cell_type": "code",
   "execution_count": null,
   "id": "2261405e-02ba-4ba1-b836-1b5c270363d8",
   "metadata": {
    "scrolled": true,
    "vscode": {
     "languageId": "r"
    }
   },
   "outputs": [],
   "source": [
    "# run this code to determine the appropriate statistical method\n",
    "N_S_ds = filter(ds_AirCare, FWD==\"N\"|FWD==\"S\")\n",
    "#Check for ANOVA assumptions\n",
    "#check for the equal variance within the comparison groups\n",
    "#by chcking the sample sizes within comparison groups\n",
    "N_S_ds %>% count(FWD)\n",
    "#check for normality of Sales Price for each group\n",
    "N_S_ds %>% ggplot(aes(x=FWD, y= CO2)) + geom_boxplot() +labs(title=\"Boxplots of CO2 by FWD\")\n",
    "\n",
    "# One-Way ANOVA\n",
    "m1=aov(CO2 ~ FWD, N_S_ds)\n",
    "print(\"Interpret the results from the ANOVA: (CO2 ~ FWD=='N'or FWD=='S')\")\n",
    "summary(m1)\n",
    "\n",
    "# fit the model\n",
    "m2 = lm(CO2 ~ FWD , N_S_ds)\n",
    "#Check assumptions\n",
    "par(mfrow=c(2,2))\n",
    "plot(m2)\n",
    "print(\"Interpret the results from the linear model:(CO2 ~ FWD=='N'or FWD=='S')\")\n",
    "summary(m2)\n",
    "print(\"Confidence intervals of the linear model estimates:(CO2 ~ FWD=='N'or FWD=='S')\")\n",
    "confint(m2)"
   ]
  },
  {
   "cell_type": "code",
   "execution_count": null,
   "id": "68f37dda-7fa5-44a4-8585-9b9540b6d376",
   "metadata": {
    "scrolled": true,
    "vscode": {
     "languageId": "r"
    }
   },
   "outputs": [],
   "source": [
    "# Linear model \n",
    "#data preprocessing\n",
    "N_S_ds=N_S_ds %>% mutate(CO2 =case_when(CO2 == -1 ~ 0,TRUE ~ CO2),logCO2=log(CO2 +1 ))\n",
    "\n",
    "# fit the model\n",
    "m3 = lm(logCO2 ~ FWD , N_S_ds)\n",
    "#Check assumptions\n",
    "par(mfrow=c(2,2))\n",
    "plot(m3)\n",
    "print(\"Interpret the results from the linear model:(logCO2 ~ FWD=='N'or FWD=='S')\")\n",
    "summary(m3)\n",
    "print(\"Confidence intervals of the linear model estimates:(logCO2 ~ FWD=='N'or FWD=='S')\")\n",
    "confint(m3)"
   ]
  },
  {
   "cell_type": "markdown",
   "id": "51ea096b-7426-4a11-a18e-8b2a205ef440",
   "metadata": {},
   "source": [
    "$$\n",
    "CO2 = \\beta_0 + \\beta_1 \\cdot (FWD==S)\n",
    "$$\n",
    "\n",
    "$$\n",
    "\\beta_0 = 0.200073, \\quad \\beta_1 = -0.034405 \\quad (p-value = 0.207)\n",
    "$$"
   ]
  },
  {
   "cell_type": "code",
   "execution_count": null,
   "id": "8ed233c9-db62-4984-a825-8eaba7b471b1",
   "metadata": {
    "scrolled": true,
    "vscode": {
     "languageId": "r"
    }
   },
   "outputs": [],
   "source": [
    "N_S_ds %>% ggplot(aes(CO2,color=FWD)) + geom_histogram(binwidth=0.2) +labs(title=\"Histogram of CO2\")\n",
    "N_S_ds %>% ggplot(aes(logCO2,color=FWD)) + geom_histogram(binwidth=0.1) +labs(title=\"Histogram of LogCO2\")"
   ]
  },
  {
   "cell_type": "markdown",
   "id": "0926bb81-f2d5-46b5-96b5-0caad3fd140e",
   "metadata": {},
   "source": [
    "**5. Results:**\n",
    "\n",
    "\n",
    " \n",
    "\n",
    "\n",
    "\n",
    "Hint. This section should have concise setences, one for each statsitical problem, ordered by their importance -- primary and secondary statistical problems. Each graph and table with estimates from the model need to be referenced properly when explaining the statistical interepretations.\n",
    "\n",
    "(10 points) for interpreting correcly the primary statistical problem.\n",
    "\n"
   ]
  },
  {
   "cell_type": "markdown",
   "id": "3977ef7e-6221-4e0f-a6f3-b83f7df1cf2d",
   "metadata": {},
   "source": [
    "Write here ..\n",
    "\n",
    "In the research, the estimation from linear model shows that, it's has 0.2 CO2 emission in Nomal FWD mode.And 0.034405 less in Sports mode compared to Normal mode.\n"
   ]
  },
  {
   "cell_type": "markdown",
   "id": "8bc8c8bd-6183-4d25-b197-7ce464fa658c",
   "metadata": {},
   "source": [
    "**6. Discussion:**\n",
    "\n",
    "**Limitations and assumptions of the study design**\n",
    "\n",
    "\n",
    "\n",
    "Hints. The first limitataion: Start with identifying the study type, for example, was the study designed to answer the particular research questions, or the data set was there and the choice of the research questions that can be answered is dictated by the dataset? The answer to this question will dictate your answers about the strenght of the evidence with respect to the particular research question. If the research questions were formed based on the study design, that this study type is called \"Exploratory\" or \"Pilot\" or \"Hypothesis generating\" study, which does not provide the highest strength of evidence. \n",
    "The second limitation is pertaining to the statistical methodologies and the validity of these methods' assumptions with respect to the data.\n",
    "\n",
    "\n",
    "\n",
    "(10 points) for identifying the study type, answering the question how strong the evidence can be from this study when answering to the primary statistical problem.\n",
    "\n",
    "(Bonus marks 10 points) for identifying additional sources of biases, discussing the randomization (or thelack of it thereof) of the comparisons groups and the potential of having bias introduced by other covariate and confounders?\n",
    "\n"
   ]
  },
  {
   "cell_type": "markdown",
   "id": "f1f28d97-2363-4a6e-a16a-2ef7517fc0b7",
   "metadata": {},
   "source": [
    "Write here one or two limitations from the study design ..., how are the study design limitations going to affect the strength of evidence for answering the research question. \n",
    "\n",
    "1.The sample sizes are quite different, the sample size of \"N\" is about 10 times larger than \"S\", which may cause some bias in our study, and the results would be more persuasive if there is more samples.\n",
    "\n",
    "2.Also, we just have the population in BC in the specific time period, not other states or other time period, so the result may have some limitation, for it maybe not so representative.\n",
    "\n",
    "3.The Scale-Location graph may underestimate the Std. Error, which may cause false positive results, while the violation in the graph of Q-Q residuals may overestimate the standard error.\n",
    "\n",
    "4.As the data in Sep is few, we just choose the months from Jan to Aug. When analyze the plots, we mainly only choose the \"N\" and \"S\" versions because of the sample sizes, which may lose some statistic significance.\n",
    "\n"
   ]
  },
  {
   "cell_type": "markdown",
   "id": "6bf9634d-e8cc-4d8f-88ef-e8ecadc93282",
   "metadata": {},
   "source": [
    "\n",
    "**Limitations and assumptions of the chosen statsitical methods, potential violations of the assumptions.**\n",
    "\n",
    "Hint. One sentence on potential limitations from violated assumptions. One sentence on Type I Error is getting inflated when there are multiple tests. \n",
    "\n",
    "\n",
    "(5 points) 2.5 points one for the first sentence, and 2.5 points for the second sentence.\n"
   ]
  },
  {
   "cell_type": "markdown",
   "id": "5774a1f5-0814-4d27-8f20-d9adab3cc6c1",
   "metadata": {},
   "source": [
    "Write here ..\n",
    "\n",
    "As the sample quartiles do not line on the linear line against the theoretical ones of the normal distributions in the QQ-plot, so there’s a violation of normality assumption, which results in limitations and assumptions of the chosen statistical methods, and there is also obvious abnormal attribution.\n",
    "\n",
    "With multiple tests being conducted, there is a risk of Type I Error being inflated, meaning that false positives may be more likely to occur.\n"
   ]
  },
  {
   "cell_type": "markdown",
   "id": "b8c738a9-05dd-435c-839c-d46bf295803a",
   "metadata": {},
   "source": [
    "**Analysis and interpretation of results, translate back the statistical problem interpretations in the context of research questions.**\n",
    "\n",
    "\n",
    "\n",
    "Hints. Analysis and interpretation of results, translate back the statistical problem interpretations in the context of research questions. Try to answer with one sentence to each of the following questions:\n",
    "\n",
    "\n",
    "      - Is there an overal trend identified by the analysis?\n",
    "\n",
    "       - If the answer to the previous question is `Yes`, you will also need to discuss the uncertainty and sample szie?\n",
    "       \n",
    "       - Discuss practical significance of each of the identified trends versus their statistical significance.\n",
    "\n",
    "Hints. Any broad implications of the results. For this part you would need to do some research on the subject matter domain. Try to answer with one sentence to each of the following questions:\n",
    "  \n",
    "       - If there is an indication of increasing trend is outcome with increased exploratory variable, what could be some of wider implications?\n",
    "       \n",
    " \n",
    "\n",
    "\n",
    "(4 points) 1 points per each sentence."
   ]
  },
  {
   "cell_type": "markdown",
   "id": "5d99f247-29ca-4d0c-8341-7390082b9c00",
   "metadata": {},
   "source": [
    "Write here ..\n",
    "\n",
    "1.Yes, the impact of front wheel drive (FWD) on ASM carbon monoxide emissions (CO2) is not clear. Different front wheel drive modes show smooth trend on CO2.\n",
    "\n",
    "2.Probably due to the limitation of samples, the results are less persuasive and less powerful.\n",
    "\n",
    "3.Since the limitations of the statistical significance, maybe there is little practical significance.\n",
    "\n",
    "4.An increasing trend in CO2 of different versions of FWD might prompt stricter environmental or vehicles' regulations and a push for sustainable practices.\n",
    "\n"
   ]
  },
  {
   "cell_type": "markdown",
   "id": "f88d8c78-23a2-45e4-9a4e-1242c5c26e17",
   "metadata": {},
   "source": [
    "**7. Conclusion:**\n",
    "\n",
    "\n",
    "\n",
    "Hint. Summary of key findings, Implications of the study, Recommendations for future research. Please provide answers with one sentence to each of the questions:\n",
    "\n",
    "- What were the overarching findings from this analysis? Did you find and overal upward/downward trends?\n",
    "- Are the magnitudes of the effects large enough practically? ANd how about statistically?\n",
    "- Does the strength of the evidence allow for strong conclusions?\n",
    "- Wider Societal implications of the results.\n",
    "- Recommendations for future research.\n",
    "\n",
    "\n",
    "(5 points) 1 points for each sentence."
   ]
  },
  {
   "cell_type": "markdown",
   "id": "7e245316-000e-4f45-81bb-c22bb34c0788",
   "metadata": {},
   "source": [
    "Write here ..\n",
    "\n",
    "1.\"H\", \"L\", \"T\", \"U\", \"Y\" had lower ASM carbon monoxide emissions than \"N\" and \"S\", and the mean CO2 of \"N\" was slightly higher than \"S\"(about0.034405), overall, there was no evident upward/downward trends.\n",
    "\n",
    "2.From the methodology part we could know the magnitudes of the effects were not large enough both statistically and practically.\n",
    "\n",
    "3.So, the evidence to show the FWD would effect CO2 slightly was not so strong.\n",
    "\n",
    "4.Maybe our results could  be used as reference in environmental pollution analysis and the car efficiency evaluation.\n",
    "\n",
    "5.The future research may look more into if other components of cars would effect the CO2, and could collect more representative samples to make results more convincing.\n"
   ]
  },
  {
   "cell_type": "markdown",
   "id": "3ab43545-c1cf-412e-aacf-e471fa49e83d",
   "metadata": {},
   "source": [
    "**8. References:**\n",
    "\n",
    "Bonus points for at least one relevant reference \n",
    "(5 Points)\n",
    "\n",
    "List of cited sources"
   ]
  },
  {
   "cell_type": "markdown",
   "id": "20c0f358-b671-454c-ae9c-e9b6dff83492",
   "metadata": {},
   "source": [
    "Write here ..\n",
    "\n",
    "AirCare - Results and Observations Relating to the First Eight Years of Operation (1992-2000)\n",
    "\"The Used Vehicle Market in Canada\" DesRosiers Automotive Consultants Inc., December 2000 \n"
   ]
  },
  {
   "cell_type": "markdown",
   "id": "579b812a-fe3d-4d8a-bff9-dc8fcf05eb31",
   "metadata": {},
   "source": [
    "**9. Appendices:**\n",
    "\n",
    "Bonus points for reproducble analysis \n",
    "(5 Points)\n",
    "\n",
    "Supplementary materials (code, documentaion of the code, additional tables, etc.)\n",
    "Link to the analysis code and report source files on GitLab\n",
    "Explanation of the reproducible analysis workflows.\n"
   ]
  },
  {
   "cell_type": "markdown",
   "id": "66abb7ec-1de6-4346-8fed-447501f2da9a",
   "metadata": {},
   "source": [
    "Write here ..\n",
    "\n"
   ]
  },
  {
   "cell_type": "markdown",
   "id": "abf52479-c952-4d04-941e-c6dc4feb824a",
   "metadata": {},
   "source": [
    "**Upload your work from Final report Team 9**\n",
    "\n",
    "- Each student will upload the Jupiter Notebook on Canvas Course 1: https://canvas.ubc.ca/courses/144703:\n",
    "\n",
    " `[FinalReport]_[team9]_[student name].ipynb`\n",
    "eg., `FinalReport_team9_Biljana_Jonoska_Stojkova.ipynb`\n",
    "\n",
    "- Please write at the title who was responsible for writing each paragraph. \n",
    "\n",
    "Navigate to the Assignments section on Canvas Course 1, and upload the Jupiter document on Canvas under:\n",
    "`FinalProject\\Final Group Project` "
   ]
  }
 ],
 "metadata": {
  "kernelspec": {
   "display_name": "R",
   "language": "R",
   "name": "ir"
  },
  "language_info": {
   "codemirror_mode": "r",
   "file_extension": ".r",
   "mimetype": "text/x-r-source",
   "name": "R",
   "pygments_lexer": "r",
   "version": "4.1.3"
  }
 },
 "nbformat": 4,
 "nbformat_minor": 5
}
