{
 "cells": [
  {
   "cell_type": "markdown",
   "id": "ab84cad8-a810-46ca-b284-862667ec04c4",
   "metadata": {},
   "source": [
    "**Insert here your name:**\n",
    "\n",
    "**Your student ID:** \n",
    "\n",
    "**Total Marks earned:** \n",
    "\n",
    "**Score for Full Marks:**  100\n",
    "\n",
    "**Bonus marks:** 37"
   ]
  },
  {
   "cell_type": "markdown",
   "id": "c8c84f12-61a4-4eb7-bd8f-05e3009ca775",
   "metadata": {},
   "source": [
    "**Title:**\n",
    "\n",
    "Write here..\r\n"
   ]
  },
  {
   "cell_type": "markdown",
   "id": "dc17236d-19f8-4a79-94c2-a6056861a6a3",
   "metadata": {},
   "source": [
    "**List of team members**\n",
    "\n",
    "Write here .. Outline clearly contributions of each team member, each member should claim ownership over their contributions towards the project. This can also be used as a guide to which part would be presented by each team member in the final presentations.\n"
   ]
  },
  {
   "cell_type": "markdown",
   "id": "387f4795-d8c0-48da-9162-e733874c15d1",
   "metadata": {},
   "source": [
    "**Team 11:**\n",
    "\n",
    "\n",
    "Primary Research Question: What is the association between number of carburetors (CARB) and idle hydrocarbon emissions (HC1)?\n",
    "\r\n",
    "Hypothesis: Vehicles with multiple carburetors may exhibit higher idle hydrocarbon emissions due to increased complexity in fuel delivery\n",
    "e\r\n",
    "Secondary Research Question: Do vehicles with multiple carburetors have a higher proportion of failing emissions tests (EMISRES) compared to those with a single carburero\n",
    "??\r\n",
    "\n",
    "**Familiarize with the data set**\n",
    "\n"
   ]
  },
  {
   "cell_type": "code",
   "execution_count": null,
   "id": "32c861b0-6a46-49cf-8045-0fe6aeece17c",
   "metadata": {},
   "outputs": [],
   "source": [
    "library(tidyverse);library(DT)\n",
    "ds_AirCare_DataDictionary = read_csv(\"data/VehicleEmissions_DataDictionary.csv\")\n",
    "datatable(ds_AirCare_DataDictionary)"
   ]
  },
  {
   "cell_type": "markdown",
   "id": "696e217a-fa39-4f35-9282-c52952981ca1",
   "metadata": {},
   "source": [
    "**Abstract:** \n",
    "\n",
    "\n",
    "\n",
    "\n",
    "\n",
    "Hint. Abstract is included at the beggining of the research paper, but it is usually written at the end, when we have the full picture of the problem that we have solved. Write one sentence for each:\n",
    "\n",
    "1. Background of the project. \n",
    "2. Clearly state the primary statistical problem. \n",
    "3. One sentence about the secondary problem  (bonus 1 point).\n",
    "4. The key results for the primary problem.\n",
    "5. The key results for the secondary problem (bonus 1 point).\n",
    "6. One final sentence for the broader implications/conclusions from the analysis.\n",
    "7. One sentence about the reproducibility of this analysis, e.g., R software and packages used, and also availability of the code and data used for this analysis.\n",
    "\n",
    "   \n",
    "\n",
    "(5 points)  1 point for each sentence\n",
    "(Bonus 2 points) for including the secondary problem and it's key findings.\n",
    "\n"
   ]
  },
  {
   "cell_type": "markdown",
   "id": "b0fc7be8-71af-42ae-9576-901e4f7fe1c1",
   "metadata": {},
   "source": [
    "Write here ..\n",
    "\n"
   ]
  },
  {
   "cell_type": "code",
   "execution_count": null,
   "id": "4e88dbce-401b-4193-8b96-1c537cf4321f",
   "metadata": {
    "scrolled": true
   },
   "outputs": [],
   "source": [
    "#load the data set\n",
    "library(tidyverse)\n",
    "ds_AirCare = read_csv(\"data/VehicleEmissions.csv\")\n",
    "colnames(ds_AirCare)\n",
    "ds_AirCare=ds_AirCare[,c(\"CARB\",\"HC1\",\"EMISRES\")]\n",
    "head(ds_AirCare)\n",
    "\n",
    "#The following code will be needed for Bonus marks tasks\n",
    "#create a new variable EMISRES_Descr to give descriptions of the EMISRES variable, so that when  EMISRES==\"F\", then EMISRES_Descr=\"Failed\",\n",
    "\n",
    "# and when EMISRES==\"P\", then EMISRES_Descr=\"Failed\"\n",
    "\n",
    "# Hint use:  mutate and case_when and save the resulting data set in ds_AirCare\n",
    "#EMISRES_Descr= case_when(EMISRES==\"P\" ~\t\"Passed\",\n",
    "#                         EMISRES==\"F\" ~\t\"Failed\",\t\n",
    "#                         TRUE~EMISRES)\n",
    "\n",
    "\n",
    "#print(\"Conditions of interest:\")\n",
    "#ds_AirCare %>% count(EMISRES_Descr)\n",
    "\n",
    "#(Bonus 2 points) "
   ]
  },
  {
   "cell_type": "code",
   "execution_count": null,
   "id": "067341f1-c264-4710-bfab-1f3632aeb07f",
   "metadata": {},
   "outputs": [],
   "source": [
    "#Write here the code for bonus marks (2 points)\n",
    "\n",
    "\n"
   ]
  },
  {
   "cell_type": "markdown",
   "id": "414dd09e-0d66-4111-b4ef-91dc4ab88faf",
   "metadata": {},
   "source": [
    "**1. Introduction:**\n",
    "\n",
    "Background and context of the project.\n",
    "\n",
    "Objectives and research questions.\n",
    "\n",
    "(10 points), 5 points for giving the short background of the data, and 5 points for stating the general research objective."
   ]
  },
  {
   "cell_type": "markdown",
   "id": "bab00844-51f2-4c4c-b8fd-4d1d0cd8b853",
   "metadata": {},
   "source": [
    "Write here ..\n",
    "\n",
    "\n"
   ]
  },
  {
   "cell_type": "code",
   "execution_count": null,
   "id": "f1a13d7e-6111-4c79-ba77-06fb40edff55",
   "metadata": {},
   "outputs": [],
   "source": [
    "**Objectives and research questions**\n",
    "\n",
    "\n",
    "\n",
    "\n",
    "\n",
    "\n",
    "(10 points), 5 points for the target population, and 5 points for the study period.\n",
    "\n",
    "\n",
    "\n",
    "Hint. We will focus on the research question   \n",
    "\n",
    ". Your task is to make sure that this research question is clear enough. \n",
    "Are there any missing componenents such as the target population? Who is the studied subject?\n",
    "\n"
   ]
  },
  {
   "cell_type": "markdown",
   "id": "fe7de0da-3cd9-4da8-bce2-1048f3814760",
   "metadata": {},
   "source": [
    "Write here, one sentence, clearly defined research quesiton ...\n",
    "\n",
    "\n"
   ]
  },
  {
   "cell_type": "markdown",
   "id": "bb69e542-c313-444d-9e89-05cfa2cd7a03",
   "metadata": {},
   "source": [
    "**2. Data Description:**\n",
    "\n",
    "**Overview of the dataset(s) used for the analysis**\n",
    "\n",
    "\n",
    "\n",
    "Hint. 1. Identify who is studied with this dataset, i.e., clearly define observational unit?\n",
    "      2. What is the data structure, i.e., are there repeated measures per observational unit (any sampling units within the observational unit)?\n",
    "             Is there any obvious clustering between the observational units? If so, state clearly which are these variables?\n",
    "      3. How was the sample generated from the target population? Was it a random sample from the target population or is it the entire target population in our data set (census)?\n",
    "\n",
    "\n",
    "\n",
    "(12 points), 4 points for each sentence."
   ]
  },
  {
   "cell_type": "markdown",
   "id": "d999f829-9e69-4dd3-83ea-cf8587eaa500",
   "metadata": {},
   "source": [
    "Write here, concise three sentences ..\n",
    "\n"
   ]
  },
  {
   "cell_type": "markdown",
   "id": "4e9f33a4-611e-4650-9c83-321f3fbcb155",
   "metadata": {},
   "source": [
    "**Description of the variables** \n",
    "\n",
    "\n",
    "\n",
    "Hint. 1. State the names of the variables in the data set that are going to be used to answer the research question. If there are any other important variables such as clustering variables, also need to be named here. Data types of each variables, number of levels for the categorical variables. \n",
    "\n",
    "(5 points) 2.5 points for statiting the two variables clearly, 2.5 points for describing their data types (categorical with how many categories? or continuous)\n",
    "(Bonus 5 points) for identifying potentially clustering variable, that may cluster the Sales Prices.\n"
   ]
  },
  {
   "cell_type": "markdown",
   "id": "40669085-59fd-4f26-a4a0-06a3a12fb404",
   "metadata": {},
   "source": [
    "Write here ... (two sentences, one sentence to state which variables are going to be used for the research question, and another sentence to indicate data types for each of the variables). Bonus marks for identify a potentially clustering variable in the dataset.\n"
   ]
  },
  {
   "cell_type": "markdown",
   "id": "9ce3569c-f10c-4692-b9f4-00f2b252da9d",
   "metadata": {},
   "source": [
    "**3. Statistical Problem formulation**  Write here in one concise sentence the statstical problem that you are trying to solve based on the research question and data structures: ...\n",
    "\n",
    "\n",
    "\n",
    "\n",
    "\n",
    "\n",
    "Hint. Clearly state the statistical problem type, the explanatory variable, the outcome of interest, the level at which the conclusions are going to be made, e.g., if there are grouping variables, is the problem looking at the group level, or overall groups. Also, clearly state the target population.\n",
    "\n",
    "\n",
    "(10 points) for stating one primary statsitical problem (hypothesis). Full marks for choosing any of the possible pairwise comparisons as primary hypothesis.\n",
    "\n",
    "(Bonus 5 points) for stating the rest of the possile hypothses as secondary hypotheses. Full marks for stating the remaining 2 out of the 3 possible pairwise comparisons as secondary hypotheses.\n"
   ]
  },
  {
   "cell_type": "markdown",
   "id": "6789b6c3-0734-4505-bbf2-6ace1a06ab9a",
   "metadata": {},
   "source": [
    "Write here ...\n",
    "\n",
    "\n"
   ]
  },
  {
   "cell_type": "markdown",
   "id": "8a7c6cca-6070-42f5-a569-6254f4de3c1d",
   "metadata": {},
   "source": [
    "**4. Methodology:**\n",
    "\n",
    "\n",
    "**Explanation of the Exploratory Data Analysis**\n",
    "\n",
    "\n",
    "\n",
    "\n",
    "Hint. Add brief explanation of the justification on how is this plot answering the primary statsitical problem. Hint. Interept the plot in the context of the primary statistical problem.\n",
    "\n",
    "\n",
    "(5 points) total. 2.5 points for correctly selecting the most appropariate plot. 2.5 points for the justification on how the plot can answer the primary statsitical problem."
   ]
  },
  {
   "cell_type": "markdown",
   "id": "9ffcff61-c434-45ef-a41a-bfa77c3a9f75",
   "metadata": {},
   "source": [
    "Write here ..\n",
    "\n"
   ]
  },
  {
   "cell_type": "code",
   "execution_count": null,
   "id": "6b917904-f1ea-41c6-8615-146ba41796a7",
   "metadata": {},
   "outputs": [],
   "source": [
    "# change the code here to create the most apprpriate plot\n",
    "ds_AirCare %>% ggplot(aes(x=CARB, y=HC1)) + geom_boxplot() +labs(title=\"Scatterplot of HC1 and CARB\")\n"
   ]
  },
  {
   "cell_type": "markdown",
   "id": "d6709921-5ae6-4cd2-930a-0438bfcbd75e",
   "metadata": {},
   "source": [
    "**Statistical methodologies**\n",
    "\n",
    "\r\n",
    "\r\n",
    "Hint. One sentence about the appropraite statistical methods and techniques applied based on the insights you gained in the previous cells. Second sentence about the corect specification of the applied method (e.g., which variable is response, and which is the explanatory variable). Third sentence explaining how the results will be interpretable in the context of the statistical problem formulatil).\r\n",
    "\r\n",
    "(10 points) 5 points for correcly identified statsitical concepts in the first and scon\n",
    "d senten\n",
    "\n",
    "ce. (Bonus 5 points) Bonus marks for the third sentence, how will the results be interpreted in the context of the primary isatsitical problem.\n"
   ]
  },
  {
   "cell_type": "markdown",
   "id": "d95c6a31-de19-4ab6-a925-e24593c017f4",
   "metadata": {},
   "source": [
    "Write here ..\n",
    "\n"
   ]
  },
  {
   "cell_type": "code",
   "execution_count": null,
   "id": "2261405e-02ba-4ba1-b836-1b5c270363d8",
   "metadata": {},
   "outputs": [],
   "source": [
    "# run this code to determine the appropriate statistical method\n",
    "\n",
    "head(ds_AirCare)\n",
    "m1=aov(HC1 ~ CARB, ds_AirCare)\n",
    "#Check for ANOVA assumptions\n",
    "#check for the equal variance within the comparison groups\n",
    "#by chcking the sample sizes within comparison groups\n",
    "ds_AirCare %>% count(CARB)\n",
    "#check for normality of Sales Price for each group\n",
    "ds_AirCare %>% ggplot(aes(x=CARB, y= HC1)) + geom_boxplot() +labs(title=\"Boxplots of HC1 by CARB\")\n",
    "# One-Way ANOVA \n",
    "\n",
    "\n",
    "# Linear model \n",
    "#data preprocessing\n",
    "ds_AirCare=ds_AirCare %>% mutate(HC1 =case_when(HC1 == -1 ~ 0,TRUE ~ HC1),logHC1=log(HC1 +1 ))\n",
    "\n",
    "# fit the model\n",
    "m2 = lm(logHC1 ~ CARB , ds_AirCare)\n",
    "#Check assumptions\n",
    "par(mfrow=c(2,2))\n",
    "plot(m2)\n",
    "print(\"Interpret the results from the linear model:\")\n",
    "summary(m2)\n",
    "print(\"Confidence intervals of the linear model estimates:\")\n",
    "confint(m2)"
   ]
  },
  {
   "cell_type": "markdown",
   "id": "0926bb81-f2d5-46b5-96b5-0caad3fd140e",
   "metadata": {},
   "source": [
    "**5. Results:**\n",
    "\n",
    "\n",
    "\n",
    "\n",
    "\n",
    "\n",
    "Hint. This section should have concise setences, one for each statsitical problem, ordered by their importance -- primary and secondary statistical problems. Each graph and table with estimates from the model need to be referenced properly when explaining the statistical interepretations.\n",
    "\n",
    "(10 points) for interpreting correcly the primary statistical problem.\n",
    "\n"
   ]
  },
  {
   "cell_type": "markdown",
   "id": "0157f3b1-e4e3-4c36-add5-062f4552a0fe",
   "metadata": {},
   "source": [
    "Write here .. \n",
    "\n"
   ]
  },
  {
   "cell_type": "markdown",
   "id": "8bc8c8bd-6183-4d25-b197-7ce464fa658c",
   "metadata": {},
   "source": [
    "**6. Discussion:**\n",
    "\n",
    "**Limitations and assumptions of the study design**\n",
    "\n",
    "\n",
    "Hints. The first limitataion: Start with identifying the study type, for example, was the study designed to answer the particular research questions, or the data set was there and the choice of the research questions that can be answered is dictated by the dataset? The answer to this question will dictate your answers about the strenght of the evidence with respect to the particular research question. If the research questions were formed based on the study design, that this study type is called \"Exploratory\" or \"Pilot\" or \"Hypothesis generating\" study, which does not provide the highest strength of evidence. \n",
    "The second limitation is pertaining to the statistical methodologies and the validity of these methods' assumptions with respect to the data.\n",
    "\n",
    "\n",
    "\n",
    "(10 points) for identifying the study type, answering the question how strong the evidence can be from this study when answering to the primary statistical problem.\n",
    "\n",
    "(Bonus marks 10 points) for identifying additional sources of biases, discussing the randomization (or thelack of it thereof) of the comparisons groups and the potential of having bias introduced by other covariate and confounders?\n",
    "\n"
   ]
  },
  {
   "cell_type": "markdown",
   "id": "e49914a3-7893-4e37-ad65-5edcf79cbba4",
   "metadata": {},
   "source": [
    "Write here one or two limitations from the study design ..., how are the study design limitations going to affect the strength of evidence for answering the research question. \n",
    "\n",
    "\n"
   ]
  },
  {
   "cell_type": "markdown",
   "id": "6bf9634d-e8cc-4d8f-88ef-e8ecadc93282",
   "metadata": {},
   "source": [
    "\n",
    "**Limitations and assumptions of the chosen statsitical methods, potential violations of the assumptions.**\n",
    "\n",
    "Hint. One sentence on potential limitations from violated assumptions. One sentence on Type I Error is getting inflated when there are multiple tests. \n",
    "\n",
    "\n",
    "(5 points) 2.5 points one for the first sentence, and 2.5 points for the second sentence.\n"
   ]
  },
  {
   "cell_type": "markdown",
   "id": "a81dc0bc-bb44-4c09-b484-750a399ab7c4",
   "metadata": {},
   "source": [
    "Write here one or two limitations from the study design ..., how are the study design limitations going to affect the strength of evidence for answering the research question. \n",
    "\n",
    "\n"
   ]
  },
  {
   "cell_type": "markdown",
   "id": "b8c738a9-05dd-435c-839c-d46bf295803a",
   "metadata": {},
   "source": [
    "**Analysis and interpretation of results, translate back the statistical problem interpretations in the context of research questions.**\n",
    "\n",
    "\n",
    "\n",
    "Hints. Analysis and interpretation of results, translate back the statistical problem interpretations in the context of research questions. Try to answer with one sentence to each of the following questions:\n",
    "\n",
    "\n",
    "      - Is there an overal trend identified by the analysis?\n",
    "\n",
    "       - If the answer to the previous question is `Yes`, you will also need to discuss the uncertainty and sample szie?\n",
    "       \n",
    "       - Discuss practical significance of each of the identified trends versus their statistical significance.\n",
    "\n",
    "Hints. Any broad implications of the results. For this part you would need to do some research on the subject matter domain. Try to answer with one sentence to each of the following questions:\n",
    "  \n",
    "       - If there is an indication of increasing trend is outcome with increased exploratory variable, what could be some of wider implications?\n",
    "       \n",
    " \n",
    "\n",
    "\n",
    "(4 points) 1 points per each sentence."
   ]
  },
  {
   "cell_type": "markdown",
   "id": "83a49a68-b039-4b8b-b70d-f45b971d9949",
   "metadata": {},
   "source": [
    "Write here ..\n",
    "\n"
   ]
  },
  {
   "cell_type": "markdown",
   "id": "f88d8c78-23a2-45e4-9a4e-1242c5c26e17",
   "metadata": {},
   "source": [
    "**7. Conclusion:**\n",
    "\n",
    "\n",
    "\n",
    "Hint. Summary of key findings, Implications of the study, Recommendations for future research. Please provide answers with one sentence to each of the questions:\n",
    "\n",
    "- What were the overarching findings from this analysis? Did you find and overal upward/downward trends?\n",
    "- Are the magnitudes of the effects large enough practically? ANd how about statistically?\n",
    "- Does the strength of the evidence allow for strong conclusions?\n",
    "- Wider Societal implications of the results.\n",
    "- Recommendations for future research.\n",
    "\n",
    "\n",
    "(5 points) 1 points for each sentence."
   ]
  },
  {
   "cell_type": "markdown",
   "id": "31468048-0899-46e3-9e48-a9b8c6f8eedb",
   "metadata": {},
   "source": [
    "Write here ..\n",
    "\n",
    "\n"
   ]
  },
  {
   "cell_type": "markdown",
   "id": "3ab43545-c1cf-412e-aacf-e471fa49e83d",
   "metadata": {},
   "source": [
    "**8. References:**\n",
    "\n",
    "Bonus points for at least one relevant reference \n",
    "(5 Points)\n",
    "\n",
    "List of cited sources"
   ]
  },
  {
   "cell_type": "markdown",
   "id": "35904a32-7af8-4e71-b98a-70f5628b8750",
   "metadata": {},
   "source": [
    "Write here ..\n",
    "\n"
   ]
  },
  {
   "cell_type": "markdown",
   "id": "579b812a-fe3d-4d8a-bff9-dc8fcf05eb31",
   "metadata": {},
   "source": [
    "**9. Appendices:**\n",
    "\n",
    "Bonus points for reproducble analysis \n",
    "(5 Points)\n",
    "\n",
    "\n",
    "Supplementary materials (code, documentaion of the code, additional tables, etc.)\n",
    "Link to the analysis code and report source files on GitLab\n",
    "Explanation of the reproducible analysis workflows.\n"
   ]
  },
  {
   "cell_type": "markdown",
   "id": "2d356e96-4fe2-4653-88a5-67904a635826",
   "metadata": {},
   "source": [
    "Write here ..\n",
    "\n"
   ]
  },
  {
   "cell_type": "markdown",
   "id": "a574ae7c-9c4f-400b-a5bf-810c3bf29a56",
   "metadata": {},
   "source": [
    "**Upload your work from Final report Team 11**\n",
    "\n",
    "- Each student will upload the Jupiter Notebook on Canvas Course 1: https://canvas.ubc.ca/courses/144703:\n",
    "\n",
    " `[FinalReport]_[team11]_[student name].ipynb`\n",
    "eg., `FinalReport_team11_Biljana_Jonoska_Stojkova.ipynb`\n",
    "\n",
    "- Please write at the title who was responsible for writing each paragraph. \n",
    "\n",
    "Navigate to the Assignments section on Canvas Course 1, and upload the Jupiter document on Canvas under:\n",
    "`FinalProject\\Final Group Project` "
   ]
  }
 ],
 "metadata": {
  "kernelspec": {
   "display_name": "R",
   "language": "R",
   "name": "ir"
  },
  "language_info": {
   "codemirror_mode": "r",
   "file_extension": ".r",
   "mimetype": "text/x-r-source",
   "name": "R",
   "pygments_lexer": "r",
   "version": "4.3.3"
  }
 },
 "nbformat": 4,
 "nbformat_minor": 5
}
